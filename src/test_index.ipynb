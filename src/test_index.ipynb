{
 "cells": [
  {
   "cell_type": "markdown",
   "metadata": {},
   "source": [
    "# test_index\n",
    "\n",
    "This file creates the database table for storing an index\n",
    "of all the pickle files plus the metrics saying whether the\n",
    "model was any good. \n",
    "\n",
    "Also, a function for garbage collection on the database\n",
    "when old files are deleted."
   ]
  },
  {
   "cell_type": "code",
   "execution_count": 1,
   "metadata": {},
   "outputs": [],
   "source": [
    "import os"
   ]
  },
  {
   "cell_type": "code",
   "execution_count": 2,
   "metadata": {},
   "outputs": [],
   "source": [
    "%load_ext sql"
   ]
  },
  {
   "cell_type": "code",
   "execution_count": 3,
   "metadata": {},
   "outputs": [
    {
     "data": {
      "text/plain": [
       "'Connected: @bankcalls'"
      ]
     },
     "execution_count": 3,
     "metadata": {},
     "output_type": "execute_result"
    }
   ],
   "source": [
    "%sql postgresql://localhost/bankcalls"
   ]
  },
  {
   "cell_type": "code",
   "execution_count": 4,
   "metadata": {},
   "outputs": [
    {
     "name": "stdout",
     "output_type": "stream",
     "text": [
      " * postgresql://localhost/bankcalls\n",
      "Done.\n"
     ]
    },
    {
     "data": {
      "text/plain": [
       "[]"
      ]
     },
     "execution_count": 4,
     "metadata": {},
     "output_type": "execute_result"
    }
   ],
   "source": [
    "%%sql\n",
    "CREATE TABLE IF NOT EXISTS test_results (\n",
    "    pathname VARCHAR(50) UNIQUE PRIMARY KEY,\n",
    "    accuracy FLOAT,\n",
    "    recall FLOAT,\n",
    "    precision FLOAT,\n",
    "    f1 FLOAT,\n",
    "    auc FLOAT,\n",
    "    cm_00 INT,\n",
    "    cm_01 INT,\n",
    "    cm_10 INT,\n",
    "    cm_11 INT\n",
    ");"
   ]
  },
  {
   "cell_type": "markdown",
   "metadata": {},
   "source": [
    "# Data clean up \n",
    "\n",
    "This cell will delete any rows where the file no longer exists "
   ]
  },
  {
   "cell_type": "code",
   "execution_count": 6,
   "metadata": {},
   "outputs": [
    {
     "name": "stdout",
     "output_type": "stream",
     "text": [
      " * postgresql://localhost/bankcalls\n",
      "15 rows affected.\n",
      "../data/inter/rf_eda_down.pkl\n",
      " * postgresql://localhost/bankcalls\n",
      "1 rows affected.\n",
      "../data/inter/rf_eda_ros.pkl\n",
      " * postgresql://localhost/bankcalls\n",
      "1 rows affected.\n",
      "../data/inter/rf_eda_smote.pkl\n",
      " * postgresql://localhost/bankcalls\n",
      "1 rows affected.\n",
      "../data/inter/rf_context_ros.pkl\n",
      " * postgresql://localhost/bankcalls\n",
      "1 rows affected.\n",
      "../data/inter/rf_all_ros.pkl\n",
      " * postgresql://localhost/bankcalls\n",
      "1 rows affected.\n",
      "../data/inter/rf_eda_smote0.pkl\n",
      " * postgresql://localhost/bankcalls\n",
      "1 rows affected.\n"
     ]
    }
   ],
   "source": [
    "%config SqlMagic.autopandas = True\n",
    "\n",
    "files = %sql select pathname from test_results;\n",
    "\n",
    "if files.shape[0] > 0:\n",
    "    for f in files.pathname:\n",
    "        if not os.path.isfile(f):\n",
    "            print(f)\n",
    "            quotef = \"'\" + f + \"'\"\n",
    "            %sql DELETE FROM test_results WHERE pathname=$quotef;"
   ]
  },
  {
   "cell_type": "code",
   "execution_count": null,
   "metadata": {},
   "outputs": [],
   "source": []
  }
 ],
 "metadata": {
  "kernelspec": {
   "display_name": "Python 3",
   "language": "python",
   "name": "python3"
  },
  "language_info": {
   "codemirror_mode": {
    "name": "ipython",
    "version": 3
   },
   "file_extension": ".py",
   "mimetype": "text/x-python",
   "name": "python",
   "nbconvert_exporter": "python",
   "pygments_lexer": "ipython3",
   "version": "3.6.8"
  }
 },
 "nbformat": 4,
 "nbformat_minor": 2
}
