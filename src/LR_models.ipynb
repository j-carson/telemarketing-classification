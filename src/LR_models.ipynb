{
 "cells": [
  {
   "cell_type": "markdown",
   "metadata": {},
   "source": [
    "# Run and evaluate Logistic Regression models\n",
    "\n",
    "I built this notebook by running models, looking at the output, then going back and changing parameters as needed. When I'm happy with the output, I save it and move on."
   ]
  },
  {
   "cell_type": "code",
   "execution_count": 1,
   "metadata": {},
   "outputs": [],
   "source": [
    "import pandas as pd\n",
    "import numpy as np\n",
    "\n",
    "from sklearn.linear_model import LogisticRegression\n",
    "from sklearn.dummy import DummyClassifier\n",
    "from sklearn.svm import SVC\n",
    "from sklearn import metrics\n",
    "\n",
    "from data_pipeline import run_a_model"
   ]
  },
  {
   "cell_type": "markdown",
   "metadata": {},
   "source": [
    "## Utilities to load and save good models"
   ]
  },
  {
   "cell_type": "code",
   "execution_count": 2,
   "metadata": {},
   "outputs": [],
   "source": [
    "# %load load_save.py\n",
    "# Database load and store functions \n",
    "# This file is meant to be %load'ed at the top of the\n",
    "# various model-run notebooks\n",
    "\n",
    "\n",
    "%load_ext sql\n",
    "\n",
    "%config SqlMagic.autopandas = True \n",
    "\n",
    "%sql postgresql://localhost/bankcalls\n",
    "    \n",
    "\n",
    "import os.path\n",
    "import pickle\n",
    "\n",
    "from string import Template\n",
    "\n",
    "def store_results(m):\n",
    "    filename = m['name'] + '_' + m['strategy'] + '.pkl'\n",
    "    dirname = '../data/inter/'\n",
    "    pathname = dirname + filename\n",
    "    \n",
    "    count = 0\n",
    "    while os.path.isfile(pathname):\n",
    "        pathname = (dirname + \n",
    "                    m['name'] + \n",
    "                    '_' + \n",
    "                    m['strategy'] + \n",
    "                    str(count) +\n",
    "                    '.pkl'\n",
    "                   )\n",
    "        count += 1\n",
    "                    \n",
    "    f = open(pathname, 'w+b')\n",
    "    pickle.dump(m, f)\n",
    "    f.close()\n",
    "    \n",
    "    # all the quotes and brackets seem to confuse %sql so I'm templating\n",
    "    # the command manually\n",
    "    sqlt = Template(\"\"\"INSERT \n",
    "        INTO test_results(pathname, accuracy, recall, precision, \n",
    "                            f1, auc, cm_00, cm_01, cm_10, cm_11) \n",
    "        VALUES  ($pg_path, $accuracy, $recall, $precision, \n",
    "                            $f1, $auc, $cm_00, $cm_01, $cm_10, $cm_11);\"\"\")\n",
    "    sqlins = sqlt.substitute(pg_path = \"'\" + pathname + \"'\",\n",
    "                    accuracy = m['accuracy'],\n",
    "                    recall = m['recall'],\n",
    "                    precision = m['precision'],\n",
    "                    f1 = m['f1'],\n",
    "                    auc = m['auc'],\n",
    "                    cm_00 = m['cm'][0,0],\n",
    "                    cm_01 = m['cm'][0,1],\n",
    "                    cm_10 = m['cm'][1,0],\n",
    "                    cm_11 = m['cm'][1,1]\n",
    "                   )\n",
    "    %sql $sqlins\n",
    "                    \n",
    "    return pathname\n",
    "    \n",
    "        \n",
    "def load_results(path):\n",
    "    f = open(path, 'r+b')\n",
    "    m = pickle.load(f)\n",
    "    return m"
   ]
  },
  {
   "cell_type": "markdown",
   "metadata": {},
   "source": [
    "# Choose columns\n",
    "\n",
    "My three column sets here are: \n",
    "\n",
    "- EDA : The columns that looked most promising during EDA.\n",
    "- Context : The columns providing calendar and economic context only. No customer data.\n",
    "- All : Throw all the columns in the dataset into the model \n"
   ]
  },
  {
   "cell_type": "code",
   "execution_count": 3,
   "metadata": {},
   "outputs": [],
   "source": [
    "\n",
    "columns_eda = [ 'job', 'contact', 'month', 'poutcome', \n",
    "         'cons_price_idx', 'cons_conf_idx',\n",
    "          'euribor3m', 'success', 'bank_addl_id']\n",
    "\n",
    "columns_context = [ 'cons_price_idx', 'cons_conf_idx',\n",
    "                  'euribor3m', 'month', 'day_of_week',\n",
    "                  'success', 'bank_addl_id']\n",
    "\n",
    "columns_all = [ 'age', 'job', 'marital', 'education',\n",
    "               'in_default', 'housing', 'loan', 'contact',\n",
    "               'month', 'day_of_week', 'campaign',\n",
    "               'previous', 'poutcome', 'cons_price_idx',\n",
    "               'cons_conf_idx', 'euribor3m',\n",
    "               'success', 'bank_addl_id' ]"
   ]
  },
  {
   "cell_type": "markdown",
   "metadata": {
    "toc-hr-collapsed": false
   },
   "source": [
    "# Logistic regression"
   ]
  },
  {
   "cell_type": "markdown",
   "metadata": {},
   "source": [
    "## EDA columns, Random Over Sampling"
   ]
  },
  {
   "cell_type": "code",
   "execution_count": 4,
   "metadata": {},
   "outputs": [],
   "source": [
    "Cs = np.logspace(-1, 2, 10)\n",
    "params = dict(logisticregression__C=Cs)\n",
    "\n",
    "lr = LogisticRegression(solver='lbfgs', \n",
    "                          random_state=33, \n",
    "                          max_iter=100\n",
    "                          )\n",
    "eda_measures = run_a_model('logi-eda-ros', lr, columns_eda, 'ros', params)\n"
   ]
  },
  {
   "cell_type": "code",
   "execution_count": 5,
   "metadata": {},
   "outputs": [
    {
     "name": "stdout",
     "output_type": "stream",
     "text": [
      " * postgresql://localhost/bankcalls\n",
      "1 rows affected.\n"
     ]
    },
    {
     "data": {
      "text/plain": [
       "'../data/inter/logi-eda-ros_ros.pkl'"
      ]
     },
     "execution_count": 5,
     "metadata": {},
     "output_type": "execute_result"
    }
   ],
   "source": [
    "store_results(eda_measures)"
   ]
  },
  {
   "cell_type": "code",
   "execution_count": 6,
   "metadata": {},
   "outputs": [],
   "source": [
    "Cs = np.logspace(-5, 0, 10)\n",
    "params = dict(logisticregression__C=Cs)\n",
    "\n",
    "lr = LogisticRegression(solver='liblinear', penalty='l1', random_state=33, max_iter=100)\n",
    "eda_measures = run_a_model('logi-eda-l1', lr, columns_eda, 'ros', params)"
   ]
  },
  {
   "cell_type": "code",
   "execution_count": 7,
   "metadata": {},
   "outputs": [
    {
     "name": "stdout",
     "output_type": "stream",
     "text": [
      " * postgresql://localhost/bankcalls\n",
      "1 rows affected.\n"
     ]
    },
    {
     "data": {
      "text/plain": [
       "'../data/inter/logi-eda-l1_ros.pkl'"
      ]
     },
     "execution_count": 7,
     "metadata": {},
     "output_type": "execute_result"
    }
   ],
   "source": [
    "store_results(eda_measures)"
   ]
  },
  {
   "cell_type": "code",
   "execution_count": 8,
   "metadata": {},
   "outputs": [
    {
     "name": "stdout",
     "output_type": "stream",
     "text": [
      " * postgresql://localhost/bankcalls\n",
      "2 rows affected.\n"
     ]
    },
    {
     "data": {
      "text/html": [
       "<div>\n",
       "<style scoped>\n",
       "    .dataframe tbody tr th:only-of-type {\n",
       "        vertical-align: middle;\n",
       "    }\n",
       "\n",
       "    .dataframe tbody tr th {\n",
       "        vertical-align: top;\n",
       "    }\n",
       "\n",
       "    .dataframe thead th {\n",
       "        text-align: right;\n",
       "    }\n",
       "</style>\n",
       "<table border=\"1\" class=\"dataframe\">\n",
       "  <thead>\n",
       "    <tr style=\"text-align: right;\">\n",
       "      <th></th>\n",
       "      <th>pathname</th>\n",
       "      <th>accuracy</th>\n",
       "      <th>recall</th>\n",
       "      <th>precision</th>\n",
       "      <th>f1</th>\n",
       "      <th>auc</th>\n",
       "      <th>cm_00</th>\n",
       "      <th>cm_01</th>\n",
       "      <th>cm_10</th>\n",
       "      <th>cm_11</th>\n",
       "    </tr>\n",
       "  </thead>\n",
       "  <tbody>\n",
       "    <tr>\n",
       "      <th>0</th>\n",
       "      <td>../data/inter/logi-eda-ros_ros.pkl</td>\n",
       "      <td>0.805766</td>\n",
       "      <td>0.651131</td>\n",
       "      <td>0.321324</td>\n",
       "      <td>0.430301</td>\n",
       "      <td>0.794002</td>\n",
       "      <td>24133</td>\n",
       "      <td>5105</td>\n",
       "      <td>1295</td>\n",
       "      <td>2417</td>\n",
       "    </tr>\n",
       "    <tr>\n",
       "      <th>1</th>\n",
       "      <td>../data/inter/logi-eda-l1_ros.pkl</td>\n",
       "      <td>0.721093</td>\n",
       "      <td>0.719558</td>\n",
       "      <td>0.246858</td>\n",
       "      <td>0.367603</td>\n",
       "      <td>0.746322</td>\n",
       "      <td>21089</td>\n",
       "      <td>8149</td>\n",
       "      <td>1041</td>\n",
       "      <td>2671</td>\n",
       "    </tr>\n",
       "  </tbody>\n",
       "</table>\n",
       "</div>"
      ],
      "text/plain": [
       "                             pathname  accuracy    recall  precision  \\\n",
       "0  ../data/inter/logi-eda-ros_ros.pkl  0.805766  0.651131   0.321324   \n",
       "1   ../data/inter/logi-eda-l1_ros.pkl  0.721093  0.719558   0.246858   \n",
       "\n",
       "         f1       auc  cm_00  cm_01  cm_10  cm_11  \n",
       "0  0.430301  0.794002  24133   5105   1295   2417  \n",
       "1  0.367603  0.746322  21089   8149   1041   2671  "
      ]
     },
     "execution_count": 8,
     "metadata": {},
     "output_type": "execute_result"
    }
   ],
   "source": [
    "%sql select * from test_results;"
   ]
  },
  {
   "cell_type": "markdown",
   "metadata": {},
   "source": [
    "It's interesting to see the trade offs.. The L1 penalty model labeled 3000 more items \"1\", but only 200 of them were correct labels. "
   ]
  },
  {
   "cell_type": "markdown",
   "metadata": {},
   "source": [
    "## EDA columns, SMOTENC over sampling"
   ]
  },
  {
   "cell_type": "code",
   "execution_count": 9,
   "metadata": {},
   "outputs": [],
   "source": [
    "Cs = np.logspace(1, 3, 10)\n",
    "params = dict(logisticregression__C=Cs)\n",
    "\n",
    "lr = LogisticRegression(solver='lbfgs', \n",
    "                          random_state=33, \n",
    "                          max_iter=200\n",
    "                          )\n",
    "measures3 = run_a_model('logi-eda-smote', lr, columns_eda, 'smote', params)\n"
   ]
  },
  {
   "cell_type": "code",
   "execution_count": 10,
   "metadata": {},
   "outputs": [
    {
     "name": "stdout",
     "output_type": "stream",
     "text": [
      " * postgresql://localhost/bankcalls\n",
      "1 rows affected.\n"
     ]
    },
    {
     "data": {
      "text/plain": [
       "'../data/inter/logi-eda-smote_smote.pkl'"
      ]
     },
     "execution_count": 10,
     "metadata": {},
     "output_type": "execute_result"
    }
   ],
   "source": [
    "store_results(measures3) "
   ]
  },
  {
   "cell_type": "code",
   "execution_count": 11,
   "metadata": {},
   "outputs": [],
   "source": [
    "Cs = np.logspace(-5, 0, 10)\n",
    "params = dict(logisticregression__C=Cs)\n",
    "\n",
    "lr = LogisticRegression(solver='liblinear', penalty='l1', random_state=33, max_iter=100)\n",
    "measures4 = run_a_model('logi-eda-l1', lr, columns_eda, 'smote', params)"
   ]
  },
  {
   "cell_type": "code",
   "execution_count": 12,
   "metadata": {},
   "outputs": [
    {
     "name": "stdout",
     "output_type": "stream",
     "text": [
      " * postgresql://localhost/bankcalls\n",
      "1 rows affected.\n"
     ]
    },
    {
     "data": {
      "text/plain": [
       "'../data/inter/logi-eda-l1_smote.pkl'"
      ]
     },
     "execution_count": 12,
     "metadata": {},
     "output_type": "execute_result"
    }
   ],
   "source": [
    "store_results(measures4)"
   ]
  },
  {
   "cell_type": "code",
   "execution_count": 13,
   "metadata": {},
   "outputs": [
    {
     "name": "stdout",
     "output_type": "stream",
     "text": [
      " * postgresql://localhost/bankcalls\n",
      "4 rows affected.\n"
     ]
    },
    {
     "data": {
      "text/html": [
       "<div>\n",
       "<style scoped>\n",
       "    .dataframe tbody tr th:only-of-type {\n",
       "        vertical-align: middle;\n",
       "    }\n",
       "\n",
       "    .dataframe tbody tr th {\n",
       "        vertical-align: top;\n",
       "    }\n",
       "\n",
       "    .dataframe thead th {\n",
       "        text-align: right;\n",
       "    }\n",
       "</style>\n",
       "<table border=\"1\" class=\"dataframe\">\n",
       "  <thead>\n",
       "    <tr style=\"text-align: right;\">\n",
       "      <th></th>\n",
       "      <th>pathname</th>\n",
       "      <th>accuracy</th>\n",
       "      <th>recall</th>\n",
       "      <th>precision</th>\n",
       "      <th>f1</th>\n",
       "      <th>auc</th>\n",
       "      <th>cm_00</th>\n",
       "      <th>cm_01</th>\n",
       "      <th>cm_10</th>\n",
       "      <th>cm_11</th>\n",
       "    </tr>\n",
       "  </thead>\n",
       "  <tbody>\n",
       "    <tr>\n",
       "      <th>0</th>\n",
       "      <td>../data/inter/logi-eda-ros_ros.pkl</td>\n",
       "      <td>0.805766</td>\n",
       "      <td>0.651131</td>\n",
       "      <td>0.321324</td>\n",
       "      <td>0.430301</td>\n",
       "      <td>0.794002</td>\n",
       "      <td>24133</td>\n",
       "      <td>5105</td>\n",
       "      <td>1295</td>\n",
       "      <td>2417</td>\n",
       "    </tr>\n",
       "    <tr>\n",
       "      <th>1</th>\n",
       "      <td>../data/inter/logi-eda-l1_ros.pkl</td>\n",
       "      <td>0.721093</td>\n",
       "      <td>0.719558</td>\n",
       "      <td>0.246858</td>\n",
       "      <td>0.367603</td>\n",
       "      <td>0.746322</td>\n",
       "      <td>21089</td>\n",
       "      <td>8149</td>\n",
       "      <td>1041</td>\n",
       "      <td>2671</td>\n",
       "    </tr>\n",
       "    <tr>\n",
       "      <th>2</th>\n",
       "      <td>../data/inter/logi-eda-smote_smote.pkl</td>\n",
       "      <td>0.802883</td>\n",
       "      <td>0.649784</td>\n",
       "      <td>0.317076</td>\n",
       "      <td>0.426186</td>\n",
       "      <td>0.790426</td>\n",
       "      <td>24043</td>\n",
       "      <td>5195</td>\n",
       "      <td>1300</td>\n",
       "      <td>2412</td>\n",
       "    </tr>\n",
       "    <tr>\n",
       "      <th>3</th>\n",
       "      <td>../data/inter/logi-eda-l1_smote.pkl</td>\n",
       "      <td>0.721093</td>\n",
       "      <td>0.719558</td>\n",
       "      <td>0.246858</td>\n",
       "      <td>0.367603</td>\n",
       "      <td>0.746138</td>\n",
       "      <td>21089</td>\n",
       "      <td>8149</td>\n",
       "      <td>1041</td>\n",
       "      <td>2671</td>\n",
       "    </tr>\n",
       "  </tbody>\n",
       "</table>\n",
       "</div>"
      ],
      "text/plain": [
       "                                 pathname  accuracy    recall  precision  \\\n",
       "0      ../data/inter/logi-eda-ros_ros.pkl  0.805766  0.651131   0.321324   \n",
       "1       ../data/inter/logi-eda-l1_ros.pkl  0.721093  0.719558   0.246858   \n",
       "2  ../data/inter/logi-eda-smote_smote.pkl  0.802883  0.649784   0.317076   \n",
       "3     ../data/inter/logi-eda-l1_smote.pkl  0.721093  0.719558   0.246858   \n",
       "\n",
       "         f1       auc  cm_00  cm_01  cm_10  cm_11  \n",
       "0  0.430301  0.794002  24133   5105   1295   2417  \n",
       "1  0.367603  0.746322  21089   8149   1041   2671  \n",
       "2  0.426186  0.790426  24043   5195   1300   2412  \n",
       "3  0.367603  0.746138  21089   8149   1041   2671  "
      ]
     },
     "execution_count": 13,
     "metadata": {},
     "output_type": "execute_result"
    }
   ],
   "source": [
    "%sql select * from test_results;"
   ]
  },
  {
   "cell_type": "markdown",
   "metadata": {},
   "source": [
    "At first glance, it does not appear the the slower SMOTENC resampling method added any benefit to the LogisticRegression model. "
   ]
  },
  {
   "cell_type": "markdown",
   "metadata": {},
   "source": [
    "## Context columns only"
   ]
  },
  {
   "cell_type": "markdown",
   "metadata": {},
   "source": [
    "### Random Over Sampling "
   ]
  },
  {
   "cell_type": "code",
   "execution_count": 14,
   "metadata": {},
   "outputs": [],
   "source": [
    "Cs = np.logspace(-6, -3, 10)\n",
    "params = dict(logisticregression__C=Cs)\n",
    "\n",
    "lr = LogisticRegression(solver='lbfgs', \n",
    "                          random_state=33, \n",
    "                          max_iter=100\n",
    "                          )\n",
    "measures = run_a_model('logi-context', lr, columns_context, 'ros', params)\n"
   ]
  },
  {
   "cell_type": "code",
   "execution_count": 15,
   "metadata": {},
   "outputs": [
    {
     "name": "stdout",
     "output_type": "stream",
     "text": [
      " * postgresql://localhost/bankcalls\n",
      "1 rows affected.\n"
     ]
    },
    {
     "data": {
      "text/plain": [
       "'../data/inter/logi-context_ros.pkl'"
      ]
     },
     "execution_count": 15,
     "metadata": {},
     "output_type": "execute_result"
    }
   ],
   "source": [
    "store_results(measures)"
   ]
  },
  {
   "cell_type": "code",
   "execution_count": 16,
   "metadata": {},
   "outputs": [],
   "source": [
    "Cs = np.logspace(-5, -2, 10)\n",
    "params = dict(logisticregression__C=Cs)\n",
    "\n",
    "lr = LogisticRegression(solver='liblinear',\n",
    "                          penalty='l1',\n",
    "                          random_state=33, \n",
    "                          max_iter=100\n",
    "                          )\n",
    "measures = run_a_model('logi-context-l1', lr, columns_context, 'ros', params)"
   ]
  },
  {
   "cell_type": "code",
   "execution_count": 17,
   "metadata": {},
   "outputs": [
    {
     "name": "stdout",
     "output_type": "stream",
     "text": [
      " * postgresql://localhost/bankcalls\n",
      "1 rows affected.\n"
     ]
    },
    {
     "data": {
      "text/plain": [
       "'../data/inter/logi-context-l1_ros.pkl'"
      ]
     },
     "execution_count": 17,
     "metadata": {},
     "output_type": "execute_result"
    }
   ],
   "source": [
    "store_results(measures)"
   ]
  },
  {
   "cell_type": "code",
   "execution_count": 18,
   "metadata": {},
   "outputs": [
    {
     "name": "stdout",
     "output_type": "stream",
     "text": [
      " * postgresql://localhost/bankcalls\n",
      "6 rows affected.\n"
     ]
    },
    {
     "data": {
      "text/html": [
       "<div>\n",
       "<style scoped>\n",
       "    .dataframe tbody tr th:only-of-type {\n",
       "        vertical-align: middle;\n",
       "    }\n",
       "\n",
       "    .dataframe tbody tr th {\n",
       "        vertical-align: top;\n",
       "    }\n",
       "\n",
       "    .dataframe thead th {\n",
       "        text-align: right;\n",
       "    }\n",
       "</style>\n",
       "<table border=\"1\" class=\"dataframe\">\n",
       "  <thead>\n",
       "    <tr style=\"text-align: right;\">\n",
       "      <th></th>\n",
       "      <th>pathname</th>\n",
       "      <th>accuracy</th>\n",
       "      <th>recall</th>\n",
       "      <th>precision</th>\n",
       "      <th>f1</th>\n",
       "      <th>auc</th>\n",
       "      <th>cm_00</th>\n",
       "      <th>cm_01</th>\n",
       "      <th>cm_10</th>\n",
       "      <th>cm_11</th>\n",
       "    </tr>\n",
       "  </thead>\n",
       "  <tbody>\n",
       "    <tr>\n",
       "      <th>0</th>\n",
       "      <td>../data/inter/logi-eda-ros_ros.pkl</td>\n",
       "      <td>0.8058</td>\n",
       "      <td>0.6511</td>\n",
       "      <td>0.3213</td>\n",
       "      <td>0.4303</td>\n",
       "      <td>0.7940</td>\n",
       "      <td>24133</td>\n",
       "      <td>5105</td>\n",
       "      <td>1295</td>\n",
       "      <td>2417</td>\n",
       "    </tr>\n",
       "    <tr>\n",
       "      <th>1</th>\n",
       "      <td>../data/inter/logi-eda-l1_ros.pkl</td>\n",
       "      <td>0.7211</td>\n",
       "      <td>0.7196</td>\n",
       "      <td>0.2469</td>\n",
       "      <td>0.3676</td>\n",
       "      <td>0.7463</td>\n",
       "      <td>21089</td>\n",
       "      <td>8149</td>\n",
       "      <td>1041</td>\n",
       "      <td>2671</td>\n",
       "    </tr>\n",
       "    <tr>\n",
       "      <th>2</th>\n",
       "      <td>../data/inter/logi-eda-smote_smote.pkl</td>\n",
       "      <td>0.8029</td>\n",
       "      <td>0.6498</td>\n",
       "      <td>0.3171</td>\n",
       "      <td>0.4262</td>\n",
       "      <td>0.7904</td>\n",
       "      <td>24043</td>\n",
       "      <td>5195</td>\n",
       "      <td>1300</td>\n",
       "      <td>2412</td>\n",
       "    </tr>\n",
       "    <tr>\n",
       "      <th>3</th>\n",
       "      <td>../data/inter/logi-eda-l1_smote.pkl</td>\n",
       "      <td>0.7211</td>\n",
       "      <td>0.7196</td>\n",
       "      <td>0.2469</td>\n",
       "      <td>0.3676</td>\n",
       "      <td>0.7461</td>\n",
       "      <td>21089</td>\n",
       "      <td>8149</td>\n",
       "      <td>1041</td>\n",
       "      <td>2671</td>\n",
       "    </tr>\n",
       "    <tr>\n",
       "      <th>4</th>\n",
       "      <td>../data/inter/logi-context_ros.pkl</td>\n",
       "      <td>0.7214</td>\n",
       "      <td>0.7155</td>\n",
       "      <td>0.2464</td>\n",
       "      <td>0.3665</td>\n",
       "      <td>0.7294</td>\n",
       "      <td>21113</td>\n",
       "      <td>8125</td>\n",
       "      <td>1056</td>\n",
       "      <td>2656</td>\n",
       "    </tr>\n",
       "    <tr>\n",
       "      <th>5</th>\n",
       "      <td>../data/inter/logi-context-l1_ros.pkl</td>\n",
       "      <td>0.7211</td>\n",
       "      <td>0.7196</td>\n",
       "      <td>0.2469</td>\n",
       "      <td>0.3676</td>\n",
       "      <td>0.7489</td>\n",
       "      <td>21089</td>\n",
       "      <td>8149</td>\n",
       "      <td>1041</td>\n",
       "      <td>2671</td>\n",
       "    </tr>\n",
       "  </tbody>\n",
       "</table>\n",
       "</div>"
      ],
      "text/plain": [
       "                                 pathname  accuracy  recall  precision  \\\n",
       "0      ../data/inter/logi-eda-ros_ros.pkl    0.8058  0.6511     0.3213   \n",
       "1       ../data/inter/logi-eda-l1_ros.pkl    0.7211  0.7196     0.2469   \n",
       "2  ../data/inter/logi-eda-smote_smote.pkl    0.8029  0.6498     0.3171   \n",
       "3     ../data/inter/logi-eda-l1_smote.pkl    0.7211  0.7196     0.2469   \n",
       "4      ../data/inter/logi-context_ros.pkl    0.7214  0.7155     0.2464   \n",
       "5   ../data/inter/logi-context-l1_ros.pkl    0.7211  0.7196     0.2469   \n",
       "\n",
       "       f1     auc  cm_00  cm_01  cm_10  cm_11  \n",
       "0  0.4303  0.7940  24133   5105   1295   2417  \n",
       "1  0.3676  0.7463  21089   8149   1041   2671  \n",
       "2  0.4262  0.7904  24043   5195   1300   2412  \n",
       "3  0.3676  0.7461  21089   8149   1041   2671  \n",
       "4  0.3665  0.7294  21113   8125   1056   2656  \n",
       "5  0.3676  0.7489  21089   8149   1041   2671  "
      ]
     },
     "execution_count": 18,
     "metadata": {},
     "output_type": "execute_result"
    }
   ],
   "source": [
    "df = %sql select * from test_results;\n",
    "df.round(decimals=4)"
   ]
  },
  {
   "cell_type": "markdown",
   "metadata": {},
   "source": [
    "Are all of my L1 models converging to the same thing? \n",
    "I don't see anything here that says this is so great I should try SMOTE, too. "
   ]
  },
  {
   "cell_type": "markdown",
   "metadata": {},
   "source": [
    "## All the columns "
   ]
  },
  {
   "cell_type": "markdown",
   "metadata": {},
   "source": [
    "### Random over sampling"
   ]
  },
  {
   "cell_type": "code",
   "execution_count": 19,
   "metadata": {},
   "outputs": [],
   "source": [
    "Cs = np.logspace(0, 4, 10)\n",
    "params = dict(logisticregression__C=Cs)\n",
    "\n",
    "lr = LogisticRegression(solver='lbfgs', \n",
    "                       random_state=33,\n",
    "                       max_iter=300)\n",
    "measures = run_a_model('logi-all-ros', lr, columns_all, 'ros', params)"
   ]
  },
  {
   "cell_type": "code",
   "execution_count": 20,
   "metadata": {},
   "outputs": [
    {
     "name": "stdout",
     "output_type": "stream",
     "text": [
      " * postgresql://localhost/bankcalls\n",
      "1 rows affected.\n"
     ]
    },
    {
     "data": {
      "text/plain": [
       "'../data/inter/logi-all-ros_ros.pkl'"
      ]
     },
     "execution_count": 20,
     "metadata": {},
     "output_type": "execute_result"
    }
   ],
   "source": [
    "store_results(measures)"
   ]
  },
  {
   "cell_type": "code",
   "execution_count": 21,
   "metadata": {},
   "outputs": [],
   "source": [
    "Cs = np.logspace(-4, 1, 10)\n",
    "params = dict(logisticregression__C=Cs)\n",
    "\n",
    "lr = LogisticRegression(solver='liblinear', \n",
    "                        penalty='l1', \n",
    "                        random_state=33, \n",
    "                        max_iter=300)\n",
    "measures = run_a_model('logi-all-l1', lr, columns_all, 'ros', params)"
   ]
  },
  {
   "cell_type": "code",
   "execution_count": 22,
   "metadata": {},
   "outputs": [
    {
     "name": "stdout",
     "output_type": "stream",
     "text": [
      " * postgresql://localhost/bankcalls\n",
      "1 rows affected.\n"
     ]
    },
    {
     "data": {
      "text/plain": [
       "'../data/inter/logi-all-l1_ros.pkl'"
      ]
     },
     "execution_count": 22,
     "metadata": {},
     "output_type": "execute_result"
    }
   ],
   "source": [
    "store_results(measures)"
   ]
  },
  {
   "cell_type": "code",
   "execution_count": 23,
   "metadata": {},
   "outputs": [
    {
     "name": "stdout",
     "output_type": "stream",
     "text": [
      " * postgresql://localhost/bankcalls\n",
      "8 rows affected.\n"
     ]
    },
    {
     "data": {
      "text/html": [
       "<div>\n",
       "<style scoped>\n",
       "    .dataframe tbody tr th:only-of-type {\n",
       "        vertical-align: middle;\n",
       "    }\n",
       "\n",
       "    .dataframe tbody tr th {\n",
       "        vertical-align: top;\n",
       "    }\n",
       "\n",
       "    .dataframe thead th {\n",
       "        text-align: right;\n",
       "    }\n",
       "</style>\n",
       "<table border=\"1\" class=\"dataframe\">\n",
       "  <thead>\n",
       "    <tr style=\"text-align: right;\">\n",
       "      <th></th>\n",
       "      <th>pathname</th>\n",
       "      <th>accuracy</th>\n",
       "      <th>recall</th>\n",
       "      <th>precision</th>\n",
       "      <th>f1</th>\n",
       "      <th>auc</th>\n",
       "      <th>cm_00</th>\n",
       "      <th>cm_01</th>\n",
       "      <th>cm_10</th>\n",
       "      <th>cm_11</th>\n",
       "    </tr>\n",
       "  </thead>\n",
       "  <tbody>\n",
       "    <tr>\n",
       "      <th>0</th>\n",
       "      <td>../data/inter/logi-all-ros_ros.pkl</td>\n",
       "      <td>0.8121</td>\n",
       "      <td>0.6463</td>\n",
       "      <td>0.3296</td>\n",
       "      <td>0.4366</td>\n",
       "      <td>0.7958</td>\n",
       "      <td>24359</td>\n",
       "      <td>4879</td>\n",
       "      <td>1313</td>\n",
       "      <td>2399</td>\n",
       "    </tr>\n",
       "    <tr>\n",
       "      <th>1</th>\n",
       "      <td>../data/inter/logi-eda-ros_ros.pkl</td>\n",
       "      <td>0.8058</td>\n",
       "      <td>0.6511</td>\n",
       "      <td>0.3213</td>\n",
       "      <td>0.4303</td>\n",
       "      <td>0.7940</td>\n",
       "      <td>24133</td>\n",
       "      <td>5105</td>\n",
       "      <td>1295</td>\n",
       "      <td>2417</td>\n",
       "    </tr>\n",
       "    <tr>\n",
       "      <th>2</th>\n",
       "      <td>../data/inter/logi-eda-smote_smote.pkl</td>\n",
       "      <td>0.8029</td>\n",
       "      <td>0.6498</td>\n",
       "      <td>0.3171</td>\n",
       "      <td>0.4262</td>\n",
       "      <td>0.7904</td>\n",
       "      <td>24043</td>\n",
       "      <td>5195</td>\n",
       "      <td>1300</td>\n",
       "      <td>2412</td>\n",
       "    </tr>\n",
       "    <tr>\n",
       "      <th>3</th>\n",
       "      <td>../data/inter/logi-context-l1_ros.pkl</td>\n",
       "      <td>0.7211</td>\n",
       "      <td>0.7196</td>\n",
       "      <td>0.2469</td>\n",
       "      <td>0.3676</td>\n",
       "      <td>0.7489</td>\n",
       "      <td>21089</td>\n",
       "      <td>8149</td>\n",
       "      <td>1041</td>\n",
       "      <td>2671</td>\n",
       "    </tr>\n",
       "    <tr>\n",
       "      <th>4</th>\n",
       "      <td>../data/inter/logi-all-l1_ros.pkl</td>\n",
       "      <td>0.7211</td>\n",
       "      <td>0.7196</td>\n",
       "      <td>0.2469</td>\n",
       "      <td>0.3676</td>\n",
       "      <td>0.7489</td>\n",
       "      <td>21089</td>\n",
       "      <td>8149</td>\n",
       "      <td>1041</td>\n",
       "      <td>2671</td>\n",
       "    </tr>\n",
       "    <tr>\n",
       "      <th>5</th>\n",
       "      <td>../data/inter/logi-eda-l1_ros.pkl</td>\n",
       "      <td>0.7211</td>\n",
       "      <td>0.7196</td>\n",
       "      <td>0.2469</td>\n",
       "      <td>0.3676</td>\n",
       "      <td>0.7463</td>\n",
       "      <td>21089</td>\n",
       "      <td>8149</td>\n",
       "      <td>1041</td>\n",
       "      <td>2671</td>\n",
       "    </tr>\n",
       "    <tr>\n",
       "      <th>6</th>\n",
       "      <td>../data/inter/logi-eda-l1_smote.pkl</td>\n",
       "      <td>0.7211</td>\n",
       "      <td>0.7196</td>\n",
       "      <td>0.2469</td>\n",
       "      <td>0.3676</td>\n",
       "      <td>0.7461</td>\n",
       "      <td>21089</td>\n",
       "      <td>8149</td>\n",
       "      <td>1041</td>\n",
       "      <td>2671</td>\n",
       "    </tr>\n",
       "    <tr>\n",
       "      <th>7</th>\n",
       "      <td>../data/inter/logi-context_ros.pkl</td>\n",
       "      <td>0.7214</td>\n",
       "      <td>0.7155</td>\n",
       "      <td>0.2464</td>\n",
       "      <td>0.3665</td>\n",
       "      <td>0.7294</td>\n",
       "      <td>21113</td>\n",
       "      <td>8125</td>\n",
       "      <td>1056</td>\n",
       "      <td>2656</td>\n",
       "    </tr>\n",
       "  </tbody>\n",
       "</table>\n",
       "</div>"
      ],
      "text/plain": [
       "                                 pathname  accuracy  recall  precision  \\\n",
       "0      ../data/inter/logi-all-ros_ros.pkl    0.8121  0.6463     0.3296   \n",
       "1      ../data/inter/logi-eda-ros_ros.pkl    0.8058  0.6511     0.3213   \n",
       "2  ../data/inter/logi-eda-smote_smote.pkl    0.8029  0.6498     0.3171   \n",
       "3   ../data/inter/logi-context-l1_ros.pkl    0.7211  0.7196     0.2469   \n",
       "4       ../data/inter/logi-all-l1_ros.pkl    0.7211  0.7196     0.2469   \n",
       "5       ../data/inter/logi-eda-l1_ros.pkl    0.7211  0.7196     0.2469   \n",
       "6     ../data/inter/logi-eda-l1_smote.pkl    0.7211  0.7196     0.2469   \n",
       "7      ../data/inter/logi-context_ros.pkl    0.7214  0.7155     0.2464   \n",
       "\n",
       "       f1     auc  cm_00  cm_01  cm_10  cm_11  \n",
       "0  0.4366  0.7958  24359   4879   1313   2399  \n",
       "1  0.4303  0.7940  24133   5105   1295   2417  \n",
       "2  0.4262  0.7904  24043   5195   1300   2412  \n",
       "3  0.3676  0.7489  21089   8149   1041   2671  \n",
       "4  0.3676  0.7489  21089   8149   1041   2671  \n",
       "5  0.3676  0.7463  21089   8149   1041   2671  \n",
       "6  0.3676  0.7461  21089   8149   1041   2671  \n",
       "7  0.3665  0.7294  21113   8125   1056   2656  "
      ]
     },
     "execution_count": 23,
     "metadata": {},
     "output_type": "execute_result"
    }
   ],
   "source": [
    "df = %sql select * from test_results order by f1 desc;\n",
    "df.round(decimals=4)"
   ]
  },
  {
   "cell_type": "markdown",
   "metadata": {},
   "source": [
    "L1 penalties don't seem to result in any model improvement. Dropping them for the longer-running smote case."
   ]
  },
  {
   "cell_type": "markdown",
   "metadata": {},
   "source": [
    "### SMOTE-NC "
   ]
  },
  {
   "cell_type": "code",
   "execution_count": 24,
   "metadata": {},
   "outputs": [],
   "source": [
    "Cs = np.logspace(-6, -2, 10)\n",
    "params = dict(logisticregression__C=Cs)\n",
    "\n",
    "lr = LogisticRegression(solver='lbfgs',\n",
    "                       random_state=33,\n",
    "                       max_iter=500)\n",
    "measures = run_a_model('logi-all', lr, columns_all, 'smote', params)"
   ]
  },
  {
   "cell_type": "code",
   "execution_count": 26,
   "metadata": {},
   "outputs": [
    {
     "name": "stdout",
     "output_type": "stream",
     "text": [
      " * postgresql://localhost/bankcalls\n",
      "1 rows affected.\n"
     ]
    },
    {
     "data": {
      "text/plain": [
       "'../data/inter/logi-all_smote.pkl'"
      ]
     },
     "execution_count": 26,
     "metadata": {},
     "output_type": "execute_result"
    }
   ],
   "source": [
    "store_results(measures)"
   ]
  },
  {
   "cell_type": "code",
   "execution_count": 27,
   "metadata": {},
   "outputs": [
    {
     "name": "stdout",
     "output_type": "stream",
     "text": [
      " * postgresql://localhost/bankcalls\n",
      "9 rows affected.\n"
     ]
    },
    {
     "data": {
      "text/html": [
       "<div>\n",
       "<style scoped>\n",
       "    .dataframe tbody tr th:only-of-type {\n",
       "        vertical-align: middle;\n",
       "    }\n",
       "\n",
       "    .dataframe tbody tr th {\n",
       "        vertical-align: top;\n",
       "    }\n",
       "\n",
       "    .dataframe thead th {\n",
       "        text-align: right;\n",
       "    }\n",
       "</style>\n",
       "<table border=\"1\" class=\"dataframe\">\n",
       "  <thead>\n",
       "    <tr style=\"text-align: right;\">\n",
       "      <th></th>\n",
       "      <th>pathname</th>\n",
       "      <th>accuracy</th>\n",
       "      <th>recall</th>\n",
       "      <th>precision</th>\n",
       "      <th>f1</th>\n",
       "      <th>auc</th>\n",
       "      <th>cm_00</th>\n",
       "      <th>cm_01</th>\n",
       "      <th>cm_10</th>\n",
       "      <th>cm_11</th>\n",
       "    </tr>\n",
       "  </thead>\n",
       "  <tbody>\n",
       "    <tr>\n",
       "      <th>0</th>\n",
       "      <td>../data/inter/logi-all-ros_ros.pkl</td>\n",
       "      <td>0.8121</td>\n",
       "      <td>0.6463</td>\n",
       "      <td>0.3296</td>\n",
       "      <td>0.4366</td>\n",
       "      <td>0.7958</td>\n",
       "      <td>24359</td>\n",
       "      <td>4879</td>\n",
       "      <td>1313</td>\n",
       "      <td>2399</td>\n",
       "    </tr>\n",
       "    <tr>\n",
       "      <th>1</th>\n",
       "      <td>../data/inter/logi-eda-ros_ros.pkl</td>\n",
       "      <td>0.8058</td>\n",
       "      <td>0.6511</td>\n",
       "      <td>0.3213</td>\n",
       "      <td>0.4303</td>\n",
       "      <td>0.7940</td>\n",
       "      <td>24133</td>\n",
       "      <td>5105</td>\n",
       "      <td>1295</td>\n",
       "      <td>2417</td>\n",
       "    </tr>\n",
       "    <tr>\n",
       "      <th>2</th>\n",
       "      <td>../data/inter/logi-eda-smote_smote.pkl</td>\n",
       "      <td>0.8029</td>\n",
       "      <td>0.6498</td>\n",
       "      <td>0.3171</td>\n",
       "      <td>0.4262</td>\n",
       "      <td>0.7904</td>\n",
       "      <td>24043</td>\n",
       "      <td>5195</td>\n",
       "      <td>1300</td>\n",
       "      <td>2412</td>\n",
       "    </tr>\n",
       "    <tr>\n",
       "      <th>3</th>\n",
       "      <td>../data/inter/logi-context-l1_ros.pkl</td>\n",
       "      <td>0.7211</td>\n",
       "      <td>0.7196</td>\n",
       "      <td>0.2469</td>\n",
       "      <td>0.3676</td>\n",
       "      <td>0.7489</td>\n",
       "      <td>21089</td>\n",
       "      <td>8149</td>\n",
       "      <td>1041</td>\n",
       "      <td>2671</td>\n",
       "    </tr>\n",
       "    <tr>\n",
       "      <th>4</th>\n",
       "      <td>../data/inter/logi-eda-l1_smote.pkl</td>\n",
       "      <td>0.7211</td>\n",
       "      <td>0.7196</td>\n",
       "      <td>0.2469</td>\n",
       "      <td>0.3676</td>\n",
       "      <td>0.7461</td>\n",
       "      <td>21089</td>\n",
       "      <td>8149</td>\n",
       "      <td>1041</td>\n",
       "      <td>2671</td>\n",
       "    </tr>\n",
       "    <tr>\n",
       "      <th>5</th>\n",
       "      <td>../data/inter/logi-eda-l1_ros.pkl</td>\n",
       "      <td>0.7211</td>\n",
       "      <td>0.7196</td>\n",
       "      <td>0.2469</td>\n",
       "      <td>0.3676</td>\n",
       "      <td>0.7463</td>\n",
       "      <td>21089</td>\n",
       "      <td>8149</td>\n",
       "      <td>1041</td>\n",
       "      <td>2671</td>\n",
       "    </tr>\n",
       "    <tr>\n",
       "      <th>6</th>\n",
       "      <td>../data/inter/logi-all-l1_ros.pkl</td>\n",
       "      <td>0.7211</td>\n",
       "      <td>0.7196</td>\n",
       "      <td>0.2469</td>\n",
       "      <td>0.3676</td>\n",
       "      <td>0.7489</td>\n",
       "      <td>21089</td>\n",
       "      <td>8149</td>\n",
       "      <td>1041</td>\n",
       "      <td>2671</td>\n",
       "    </tr>\n",
       "    <tr>\n",
       "      <th>7</th>\n",
       "      <td>../data/inter/logi-context_ros.pkl</td>\n",
       "      <td>0.7214</td>\n",
       "      <td>0.7155</td>\n",
       "      <td>0.2464</td>\n",
       "      <td>0.3665</td>\n",
       "      <td>0.7294</td>\n",
       "      <td>21113</td>\n",
       "      <td>8125</td>\n",
       "      <td>1056</td>\n",
       "      <td>2656</td>\n",
       "    </tr>\n",
       "    <tr>\n",
       "      <th>8</th>\n",
       "      <td>../data/inter/logi-all_smote.pkl</td>\n",
       "      <td>0.7077</td>\n",
       "      <td>0.7101</td>\n",
       "      <td>0.2355</td>\n",
       "      <td>0.3537</td>\n",
       "      <td>0.7465</td>\n",
       "      <td>20682</td>\n",
       "      <td>8556</td>\n",
       "      <td>1076</td>\n",
       "      <td>2636</td>\n",
       "    </tr>\n",
       "  </tbody>\n",
       "</table>\n",
       "</div>"
      ],
      "text/plain": [
       "                                 pathname  accuracy  recall  precision  \\\n",
       "0      ../data/inter/logi-all-ros_ros.pkl    0.8121  0.6463     0.3296   \n",
       "1      ../data/inter/logi-eda-ros_ros.pkl    0.8058  0.6511     0.3213   \n",
       "2  ../data/inter/logi-eda-smote_smote.pkl    0.8029  0.6498     0.3171   \n",
       "3   ../data/inter/logi-context-l1_ros.pkl    0.7211  0.7196     0.2469   \n",
       "4     ../data/inter/logi-eda-l1_smote.pkl    0.7211  0.7196     0.2469   \n",
       "5       ../data/inter/logi-eda-l1_ros.pkl    0.7211  0.7196     0.2469   \n",
       "6       ../data/inter/logi-all-l1_ros.pkl    0.7211  0.7196     0.2469   \n",
       "7      ../data/inter/logi-context_ros.pkl    0.7214  0.7155     0.2464   \n",
       "8        ../data/inter/logi-all_smote.pkl    0.7077  0.7101     0.2355   \n",
       "\n",
       "       f1     auc  cm_00  cm_01  cm_10  cm_11  \n",
       "0  0.4366  0.7958  24359   4879   1313   2399  \n",
       "1  0.4303  0.7940  24133   5105   1295   2417  \n",
       "2  0.4262  0.7904  24043   5195   1300   2412  \n",
       "3  0.3676  0.7489  21089   8149   1041   2671  \n",
       "4  0.3676  0.7461  21089   8149   1041   2671  \n",
       "5  0.3676  0.7463  21089   8149   1041   2671  \n",
       "6  0.3676  0.7489  21089   8149   1041   2671  \n",
       "7  0.3665  0.7294  21113   8125   1056   2656  \n",
       "8  0.3537  0.7465  20682   8556   1076   2636  "
      ]
     },
     "execution_count": 27,
     "metadata": {},
     "output_type": "execute_result"
    }
   ],
   "source": [
    "df = %sql select * from test_results order by f1 DESC;\n",
    "df.round(decimals=4)"
   ]
  },
  {
   "cell_type": "code",
   "execution_count": 28,
   "metadata": {},
   "outputs": [
    {
     "name": "stdout",
     "output_type": "stream",
     "text": [
      " * postgresql://localhost/bankcalls\n",
      "9 rows affected.\n"
     ]
    },
    {
     "data": {
      "text/html": [
       "<div>\n",
       "<style scoped>\n",
       "    .dataframe tbody tr th:only-of-type {\n",
       "        vertical-align: middle;\n",
       "    }\n",
       "\n",
       "    .dataframe tbody tr th {\n",
       "        vertical-align: top;\n",
       "    }\n",
       "\n",
       "    .dataframe thead th {\n",
       "        text-align: right;\n",
       "    }\n",
       "</style>\n",
       "<table border=\"1\" class=\"dataframe\">\n",
       "  <thead>\n",
       "    <tr style=\"text-align: right;\">\n",
       "      <th></th>\n",
       "      <th>pathname</th>\n",
       "      <th>accuracy</th>\n",
       "      <th>recall</th>\n",
       "      <th>precision</th>\n",
       "      <th>f1</th>\n",
       "      <th>auc</th>\n",
       "      <th>cm_00</th>\n",
       "      <th>cm_01</th>\n",
       "      <th>cm_10</th>\n",
       "      <th>cm_11</th>\n",
       "    </tr>\n",
       "  </thead>\n",
       "  <tbody>\n",
       "    <tr>\n",
       "      <th>0</th>\n",
       "      <td>../data/inter/logi-all-ros_ros.pkl</td>\n",
       "      <td>0.8121</td>\n",
       "      <td>0.6463</td>\n",
       "      <td>0.3296</td>\n",
       "      <td>0.4366</td>\n",
       "      <td>0.7958</td>\n",
       "      <td>24359</td>\n",
       "      <td>4879</td>\n",
       "      <td>1313</td>\n",
       "      <td>2399</td>\n",
       "    </tr>\n",
       "    <tr>\n",
       "      <th>1</th>\n",
       "      <td>../data/inter/logi-eda-ros_ros.pkl</td>\n",
       "      <td>0.8058</td>\n",
       "      <td>0.6511</td>\n",
       "      <td>0.3213</td>\n",
       "      <td>0.4303</td>\n",
       "      <td>0.7940</td>\n",
       "      <td>24133</td>\n",
       "      <td>5105</td>\n",
       "      <td>1295</td>\n",
       "      <td>2417</td>\n",
       "    </tr>\n",
       "    <tr>\n",
       "      <th>2</th>\n",
       "      <td>../data/inter/logi-eda-smote_smote.pkl</td>\n",
       "      <td>0.8029</td>\n",
       "      <td>0.6498</td>\n",
       "      <td>0.3171</td>\n",
       "      <td>0.4262</td>\n",
       "      <td>0.7904</td>\n",
       "      <td>24043</td>\n",
       "      <td>5195</td>\n",
       "      <td>1300</td>\n",
       "      <td>2412</td>\n",
       "    </tr>\n",
       "    <tr>\n",
       "      <th>3</th>\n",
       "      <td>../data/inter/logi-context-l1_ros.pkl</td>\n",
       "      <td>0.7211</td>\n",
       "      <td>0.7196</td>\n",
       "      <td>0.2469</td>\n",
       "      <td>0.3676</td>\n",
       "      <td>0.7489</td>\n",
       "      <td>21089</td>\n",
       "      <td>8149</td>\n",
       "      <td>1041</td>\n",
       "      <td>2671</td>\n",
       "    </tr>\n",
       "    <tr>\n",
       "      <th>4</th>\n",
       "      <td>../data/inter/logi-all-l1_ros.pkl</td>\n",
       "      <td>0.7211</td>\n",
       "      <td>0.7196</td>\n",
       "      <td>0.2469</td>\n",
       "      <td>0.3676</td>\n",
       "      <td>0.7489</td>\n",
       "      <td>21089</td>\n",
       "      <td>8149</td>\n",
       "      <td>1041</td>\n",
       "      <td>2671</td>\n",
       "    </tr>\n",
       "    <tr>\n",
       "      <th>5</th>\n",
       "      <td>../data/inter/logi-all_smote.pkl</td>\n",
       "      <td>0.7077</td>\n",
       "      <td>0.7101</td>\n",
       "      <td>0.2355</td>\n",
       "      <td>0.3537</td>\n",
       "      <td>0.7465</td>\n",
       "      <td>20682</td>\n",
       "      <td>8556</td>\n",
       "      <td>1076</td>\n",
       "      <td>2636</td>\n",
       "    </tr>\n",
       "    <tr>\n",
       "      <th>6</th>\n",
       "      <td>../data/inter/logi-eda-l1_ros.pkl</td>\n",
       "      <td>0.7211</td>\n",
       "      <td>0.7196</td>\n",
       "      <td>0.2469</td>\n",
       "      <td>0.3676</td>\n",
       "      <td>0.7463</td>\n",
       "      <td>21089</td>\n",
       "      <td>8149</td>\n",
       "      <td>1041</td>\n",
       "      <td>2671</td>\n",
       "    </tr>\n",
       "    <tr>\n",
       "      <th>7</th>\n",
       "      <td>../data/inter/logi-eda-l1_smote.pkl</td>\n",
       "      <td>0.7211</td>\n",
       "      <td>0.7196</td>\n",
       "      <td>0.2469</td>\n",
       "      <td>0.3676</td>\n",
       "      <td>0.7461</td>\n",
       "      <td>21089</td>\n",
       "      <td>8149</td>\n",
       "      <td>1041</td>\n",
       "      <td>2671</td>\n",
       "    </tr>\n",
       "    <tr>\n",
       "      <th>8</th>\n",
       "      <td>../data/inter/logi-context_ros.pkl</td>\n",
       "      <td>0.7214</td>\n",
       "      <td>0.7155</td>\n",
       "      <td>0.2464</td>\n",
       "      <td>0.3665</td>\n",
       "      <td>0.7294</td>\n",
       "      <td>21113</td>\n",
       "      <td>8125</td>\n",
       "      <td>1056</td>\n",
       "      <td>2656</td>\n",
       "    </tr>\n",
       "  </tbody>\n",
       "</table>\n",
       "</div>"
      ],
      "text/plain": [
       "                                 pathname  accuracy  recall  precision  \\\n",
       "0      ../data/inter/logi-all-ros_ros.pkl    0.8121  0.6463     0.3296   \n",
       "1      ../data/inter/logi-eda-ros_ros.pkl    0.8058  0.6511     0.3213   \n",
       "2  ../data/inter/logi-eda-smote_smote.pkl    0.8029  0.6498     0.3171   \n",
       "3   ../data/inter/logi-context-l1_ros.pkl    0.7211  0.7196     0.2469   \n",
       "4       ../data/inter/logi-all-l1_ros.pkl    0.7211  0.7196     0.2469   \n",
       "5        ../data/inter/logi-all_smote.pkl    0.7077  0.7101     0.2355   \n",
       "6       ../data/inter/logi-eda-l1_ros.pkl    0.7211  0.7196     0.2469   \n",
       "7     ../data/inter/logi-eda-l1_smote.pkl    0.7211  0.7196     0.2469   \n",
       "8      ../data/inter/logi-context_ros.pkl    0.7214  0.7155     0.2464   \n",
       "\n",
       "       f1     auc  cm_00  cm_01  cm_10  cm_11  \n",
       "0  0.4366  0.7958  24359   4879   1313   2399  \n",
       "1  0.4303  0.7940  24133   5105   1295   2417  \n",
       "2  0.4262  0.7904  24043   5195   1300   2412  \n",
       "3  0.3676  0.7489  21089   8149   1041   2671  \n",
       "4  0.3676  0.7489  21089   8149   1041   2671  \n",
       "5  0.3537  0.7465  20682   8556   1076   2636  \n",
       "6  0.3676  0.7463  21089   8149   1041   2671  \n",
       "7  0.3676  0.7461  21089   8149   1041   2671  \n",
       "8  0.3665  0.7294  21113   8125   1056   2656  "
      ]
     },
     "execution_count": 28,
     "metadata": {},
     "output_type": "execute_result"
    }
   ],
   "source": [
    "df = %sql select * from test_results order by auc DESC;\n",
    "df.round(decimals=4)"
   ]
  },
  {
   "cell_type": "code",
   "execution_count": 29,
   "metadata": {},
   "outputs": [
    {
     "name": "stdout",
     "output_type": "stream",
     "text": [
      " * postgresql://localhost/bankcalls\n",
      "9 rows affected.\n"
     ]
    },
    {
     "data": {
      "text/html": [
       "<div>\n",
       "<style scoped>\n",
       "    .dataframe tbody tr th:only-of-type {\n",
       "        vertical-align: middle;\n",
       "    }\n",
       "\n",
       "    .dataframe tbody tr th {\n",
       "        vertical-align: top;\n",
       "    }\n",
       "\n",
       "    .dataframe thead th {\n",
       "        text-align: right;\n",
       "    }\n",
       "</style>\n",
       "<table border=\"1\" class=\"dataframe\">\n",
       "  <thead>\n",
       "    <tr style=\"text-align: right;\">\n",
       "      <th></th>\n",
       "      <th>pathname</th>\n",
       "      <th>accuracy</th>\n",
       "      <th>recall</th>\n",
       "      <th>precision</th>\n",
       "      <th>f1</th>\n",
       "      <th>auc</th>\n",
       "      <th>cm_00</th>\n",
       "      <th>cm_01</th>\n",
       "      <th>cm_10</th>\n",
       "      <th>cm_11</th>\n",
       "    </tr>\n",
       "  </thead>\n",
       "  <tbody>\n",
       "    <tr>\n",
       "      <th>0</th>\n",
       "      <td>../data/inter/logi-context-l1_ros.pkl</td>\n",
       "      <td>0.7211</td>\n",
       "      <td>0.7196</td>\n",
       "      <td>0.2469</td>\n",
       "      <td>0.3676</td>\n",
       "      <td>0.7489</td>\n",
       "      <td>21089</td>\n",
       "      <td>8149</td>\n",
       "      <td>1041</td>\n",
       "      <td>2671</td>\n",
       "    </tr>\n",
       "    <tr>\n",
       "      <th>1</th>\n",
       "      <td>../data/inter/logi-eda-l1_ros.pkl</td>\n",
       "      <td>0.7211</td>\n",
       "      <td>0.7196</td>\n",
       "      <td>0.2469</td>\n",
       "      <td>0.3676</td>\n",
       "      <td>0.7463</td>\n",
       "      <td>21089</td>\n",
       "      <td>8149</td>\n",
       "      <td>1041</td>\n",
       "      <td>2671</td>\n",
       "    </tr>\n",
       "    <tr>\n",
       "      <th>2</th>\n",
       "      <td>../data/inter/logi-all-l1_ros.pkl</td>\n",
       "      <td>0.7211</td>\n",
       "      <td>0.7196</td>\n",
       "      <td>0.2469</td>\n",
       "      <td>0.3676</td>\n",
       "      <td>0.7489</td>\n",
       "      <td>21089</td>\n",
       "      <td>8149</td>\n",
       "      <td>1041</td>\n",
       "      <td>2671</td>\n",
       "    </tr>\n",
       "    <tr>\n",
       "      <th>3</th>\n",
       "      <td>../data/inter/logi-eda-l1_smote.pkl</td>\n",
       "      <td>0.7211</td>\n",
       "      <td>0.7196</td>\n",
       "      <td>0.2469</td>\n",
       "      <td>0.3676</td>\n",
       "      <td>0.7461</td>\n",
       "      <td>21089</td>\n",
       "      <td>8149</td>\n",
       "      <td>1041</td>\n",
       "      <td>2671</td>\n",
       "    </tr>\n",
       "    <tr>\n",
       "      <th>4</th>\n",
       "      <td>../data/inter/logi-context_ros.pkl</td>\n",
       "      <td>0.7214</td>\n",
       "      <td>0.7155</td>\n",
       "      <td>0.2464</td>\n",
       "      <td>0.3665</td>\n",
       "      <td>0.7294</td>\n",
       "      <td>21113</td>\n",
       "      <td>8125</td>\n",
       "      <td>1056</td>\n",
       "      <td>2656</td>\n",
       "    </tr>\n",
       "    <tr>\n",
       "      <th>5</th>\n",
       "      <td>../data/inter/logi-all_smote.pkl</td>\n",
       "      <td>0.7077</td>\n",
       "      <td>0.7101</td>\n",
       "      <td>0.2355</td>\n",
       "      <td>0.3537</td>\n",
       "      <td>0.7465</td>\n",
       "      <td>20682</td>\n",
       "      <td>8556</td>\n",
       "      <td>1076</td>\n",
       "      <td>2636</td>\n",
       "    </tr>\n",
       "    <tr>\n",
       "      <th>6</th>\n",
       "      <td>../data/inter/logi-eda-ros_ros.pkl</td>\n",
       "      <td>0.8058</td>\n",
       "      <td>0.6511</td>\n",
       "      <td>0.3213</td>\n",
       "      <td>0.4303</td>\n",
       "      <td>0.7940</td>\n",
       "      <td>24133</td>\n",
       "      <td>5105</td>\n",
       "      <td>1295</td>\n",
       "      <td>2417</td>\n",
       "    </tr>\n",
       "    <tr>\n",
       "      <th>7</th>\n",
       "      <td>../data/inter/logi-eda-smote_smote.pkl</td>\n",
       "      <td>0.8029</td>\n",
       "      <td>0.6498</td>\n",
       "      <td>0.3171</td>\n",
       "      <td>0.4262</td>\n",
       "      <td>0.7904</td>\n",
       "      <td>24043</td>\n",
       "      <td>5195</td>\n",
       "      <td>1300</td>\n",
       "      <td>2412</td>\n",
       "    </tr>\n",
       "    <tr>\n",
       "      <th>8</th>\n",
       "      <td>../data/inter/logi-all-ros_ros.pkl</td>\n",
       "      <td>0.8121</td>\n",
       "      <td>0.6463</td>\n",
       "      <td>0.3296</td>\n",
       "      <td>0.4366</td>\n",
       "      <td>0.7958</td>\n",
       "      <td>24359</td>\n",
       "      <td>4879</td>\n",
       "      <td>1313</td>\n",
       "      <td>2399</td>\n",
       "    </tr>\n",
       "  </tbody>\n",
       "</table>\n",
       "</div>"
      ],
      "text/plain": [
       "                                 pathname  accuracy  recall  precision  \\\n",
       "0   ../data/inter/logi-context-l1_ros.pkl    0.7211  0.7196     0.2469   \n",
       "1       ../data/inter/logi-eda-l1_ros.pkl    0.7211  0.7196     0.2469   \n",
       "2       ../data/inter/logi-all-l1_ros.pkl    0.7211  0.7196     0.2469   \n",
       "3     ../data/inter/logi-eda-l1_smote.pkl    0.7211  0.7196     0.2469   \n",
       "4      ../data/inter/logi-context_ros.pkl    0.7214  0.7155     0.2464   \n",
       "5        ../data/inter/logi-all_smote.pkl    0.7077  0.7101     0.2355   \n",
       "6      ../data/inter/logi-eda-ros_ros.pkl    0.8058  0.6511     0.3213   \n",
       "7  ../data/inter/logi-eda-smote_smote.pkl    0.8029  0.6498     0.3171   \n",
       "8      ../data/inter/logi-all-ros_ros.pkl    0.8121  0.6463     0.3296   \n",
       "\n",
       "       f1     auc  cm_00  cm_01  cm_10  cm_11  \n",
       "0  0.3676  0.7489  21089   8149   1041   2671  \n",
       "1  0.3676  0.7463  21089   8149   1041   2671  \n",
       "2  0.3676  0.7489  21089   8149   1041   2671  \n",
       "3  0.3676  0.7461  21089   8149   1041   2671  \n",
       "4  0.3665  0.7294  21113   8125   1056   2656  \n",
       "5  0.3537  0.7465  20682   8556   1076   2636  \n",
       "6  0.4303  0.7940  24133   5105   1295   2417  \n",
       "7  0.4262  0.7904  24043   5195   1300   2412  \n",
       "8  0.4366  0.7958  24359   4879   1313   2399  "
      ]
     },
     "execution_count": 29,
     "metadata": {},
     "output_type": "execute_result"
    }
   ],
   "source": [
    "df = %sql select * from test_results order by recall DESC;\n",
    "df.round(decimals=4)"
   ]
  },
  {
   "cell_type": "markdown",
   "metadata": {},
   "source": [
    "Remember when looking at the above tables the parameter search was scored on f1.\n",
    "\n"
   ]
  },
  {
   "cell_type": "code",
   "execution_count": null,
   "metadata": {},
   "outputs": [],
   "source": []
  }
 ],
 "metadata": {
  "kernelspec": {
   "display_name": "Python 3",
   "language": "python",
   "name": "python3"
  },
  "language_info": {
   "codemirror_mode": {
    "name": "ipython",
    "version": 3
   },
   "file_extension": ".py",
   "mimetype": "text/x-python",
   "name": "python",
   "nbconvert_exporter": "python",
   "pygments_lexer": "ipython3",
   "version": "3.6.8"
  }
 },
 "nbformat": 4,
 "nbformat_minor": 2
}
