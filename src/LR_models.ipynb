{
 "cells": [
  {
   "cell_type": "markdown",
   "metadata": {},
   "source": [
    "# Run and evaluate models\n",
    "\n",
    "I built this notebook by running models, looking at the output, then going back and changing parameters as needed. When I'm happy with the output, I save it and move on."
   ]
  },
  {
   "cell_type": "code",
   "execution_count": 3,
   "metadata": {},
   "outputs": [],
   "source": [
    "import pandas as pd\n",
    "import numpy as np\n",
    "\n",
    "from sklearn.linear_model import LogisticRegression\n",
    "from sklearn.dummy import DummyClassifier\n",
    "from sklearn.svm import SVC\n",
    "from sklearn import metrics\n",
    "\n",
    "from data_pipeline import run_a_model"
   ]
  },
  {
   "cell_type": "markdown",
   "metadata": {},
   "source": [
    "## Utilities to load and save good models"
   ]
  },
  {
   "cell_type": "code",
   "execution_count": 88,
   "metadata": {},
   "outputs": [
    {
     "name": "stdout",
     "output_type": "stream",
     "text": [
      "The sql extension is already loaded. To reload it, use:\n",
      "  %reload_ext sql\n"
     ]
    }
   ],
   "source": [
    "# %load load_save.py\n",
    "# Database load and store functions \n",
    "# This file is meant to be %load'ed at the top of the\n",
    "# various model-run notebooks\n",
    "\n",
    "\n",
    "%load_ext sql\n",
    "\n",
    "%config SqlMagic.autopandas = True \n",
    "\n",
    "%sql postgresql://localhost/bankcalls\n",
    "    \n",
    "\n",
    "import os.path\n",
    "import pickle\n",
    "\n",
    "from string import Template\n",
    "\n",
    "def store_results(m):\n",
    "    filename = m['name'] + '_' + m['strategy'] + '.pkl'\n",
    "    dirname = '../data/inter/'\n",
    "    pathname = dirname + filename\n",
    "    \n",
    "    count = 0\n",
    "    while os.path.isfile(pathname):\n",
    "        pathname = (dirname + \n",
    "                    m['name'] + \n",
    "                    '_' + \n",
    "                    m['strategy'] + \n",
    "                    str(count) +\n",
    "                    '.pkl'\n",
    "                   )\n",
    "        count += 1\n",
    "                    \n",
    "    f = open(pathname, 'w+b')\n",
    "    pickle.dump(m, f)\n",
    "    f.close()\n",
    "    \n",
    "    # all the quotes and brackets seem to confuse %sql so I'm templating\n",
    "    # the command manually\n",
    "    sqlt = Template(\"\"\"INSERT \n",
    "        INTO test_results(pathname, accuracy, recall, precision, \n",
    "                            f1, auc, cm_00, cm_01, cm_10, cm_11) \n",
    "        VALUES  ($pg_path, $accuracy, $recall, $precision, \n",
    "                            $f1, $auc, $cm_00, $cm_01, $cm_10, $cm_11);\"\"\")\n",
    "    sqlins = sqlt.substitute(pg_path = \"'\" + pathname + \"'\",\n",
    "                    accuracy = m['accuracy'],\n",
    "                    recall = m['recall'],\n",
    "                    precision = m['precision'],\n",
    "                    f1 = m['f1'],\n",
    "                    auc = m['auc'],\n",
    "                    cm_00 = m['cm'][0,0],\n",
    "                    cm_01 = m['cm'][0,1],\n",
    "                    cm_10 = m['cm'][1,0],\n",
    "                    cm_11 = m['cm'][1,1]\n",
    "                   )\n",
    "    %sql $sqlins\n",
    "                    \n",
    "    return pathname\n",
    "    \n",
    "        \n",
    "def load_results(path):\n",
    "    f = open(path, 'r+b')\n",
    "    m = pickle.load(f)\n",
    "    return m"
   ]
  },
  {
   "cell_type": "markdown",
   "metadata": {},
   "source": [
    "# Choose columns\n",
    "\n",
    "My three column sets here are: \n",
    "\n",
    "- EDA : The columns that looked most promising during EDA.\n",
    "- Context : The columns providing calendar and economic context only. No customer data.\n",
    "- All : Throw all the columns in the dataset into the model \n"
   ]
  },
  {
   "cell_type": "code",
   "execution_count": 9,
   "metadata": {},
   "outputs": [],
   "source": [
    "\n",
    "columns_eda = [ 'job', 'contact', 'month', 'poutcome', \n",
    "         'cons_price_idx', 'cons_conf_idx',\n",
    "          'euribor3m', 'success', 'bank_addl_id']\n",
    "\n",
    "columns_context = [ 'cons_price_idx', 'cons_conf_idx',\n",
    "                  'euribor3m', 'month', 'day_of_week',\n",
    "                  'success', 'bank_addl_id']\n",
    "\n",
    "columns_all = [ 'age', 'job', 'marital', 'education',\n",
    "               'in_default', 'housing', 'loan', 'contact',\n",
    "               'month', 'day_of_week', 'campaign',\n",
    "               'previous', 'poutcome', 'cons_price_idx',\n",
    "               'cons_conf_idx', 'euribor3m',\n",
    "               'success', 'bank_addl_id' ]"
   ]
  },
  {
   "cell_type": "markdown",
   "metadata": {
    "toc-hr-collapsed": false
   },
   "source": [
    "# Logistic regression"
   ]
  },
  {
   "cell_type": "markdown",
   "metadata": {},
   "source": [
    "## EDA columns, Random Over Sampling"
   ]
  },
  {
   "cell_type": "code",
   "execution_count": 17,
   "metadata": {},
   "outputs": [],
   "source": [
    "Cs = np.logspace(0, 3, 10)\n",
    "params = dict(logisticregression__C=Cs)\n",
    "\n",
    "lr = LogisticRegression(solver='lbfgs', \n",
    "                          random_state=33, \n",
    "                          max_iter=100\n",
    "                          )\n",
    "eda_measures = run_a_model('logi-eda-ros', lr, columns_eda, 'ros', params)\n"
   ]
  },
  {
   "cell_type": "code",
   "execution_count": 19,
   "metadata": {},
   "outputs": [
    {
     "name": "stdout",
     "output_type": "stream",
     "text": [
      " * postgresql://localhost/bankcalls\n",
      "1 rows affected.\n"
     ]
    },
    {
     "data": {
      "text/plain": [
       "'../data/inter/logi-eda-ros_ros.pkl'"
      ]
     },
     "execution_count": 19,
     "metadata": {},
     "output_type": "execute_result"
    }
   ],
   "source": [
    "store_results(eda_measures)"
   ]
  },
  {
   "cell_type": "code",
   "execution_count": 22,
   "metadata": {},
   "outputs": [],
   "source": [
    "Cs = np.logspace(-3, 3, 10)\n",
    "params = dict(logisticregression__C=Cs)\n",
    "\n",
    "lr = LogisticRegression(solver='liblinear', penalty='l1', random_state=33, max_iter=100)\n",
    "eda_measures = run_a_model('logi-eda-ros-l1', lr, columns_eda, 'ros', params)"
   ]
  },
  {
   "cell_type": "code",
   "execution_count": 23,
   "metadata": {},
   "outputs": [
    {
     "name": "stdout",
     "output_type": "stream",
     "text": [
      " * postgresql://localhost/bankcalls\n",
      "1 rows affected.\n"
     ]
    },
    {
     "data": {
      "text/plain": [
       "'../data/inter/logi-eda-ros-l1_ros.pkl'"
      ]
     },
     "execution_count": 23,
     "metadata": {},
     "output_type": "execute_result"
    }
   ],
   "source": [
    "store_results(eda_measures)"
   ]
  },
  {
   "cell_type": "code",
   "execution_count": 24,
   "metadata": {},
   "outputs": [
    {
     "name": "stdout",
     "output_type": "stream",
     "text": [
      " * postgresql://localhost/bankcalls\n",
      "2 rows affected.\n"
     ]
    },
    {
     "data": {
      "text/html": [
       "<table>\n",
       "    <tr>\n",
       "        <th>pathname</th>\n",
       "        <th>accuracy</th>\n",
       "        <th>recall</th>\n",
       "        <th>precision</th>\n",
       "        <th>f1</th>\n",
       "        <th>auc</th>\n",
       "        <th>cm_00</th>\n",
       "        <th>cm_01</th>\n",
       "        <th>cm_10</th>\n",
       "        <th>cm_11</th>\n",
       "    </tr>\n",
       "    <tr>\n",
       "        <td>../data/inter/logi-eda-ros_ros.pkl</td>\n",
       "        <td>0.819028831562974</td>\n",
       "        <td>0.635775862068966</td>\n",
       "        <td>0.338545402381294</td>\n",
       "        <td>0.441823457830197</td>\n",
       "        <td>0.793019090244214</td>\n",
       "        <td>24627</td>\n",
       "        <td>4611</td>\n",
       "        <td>1352</td>\n",
       "        <td>2360</td>\n",
       "    </tr>\n",
       "    <tr>\n",
       "        <td>../data/inter/logi-eda-ros-l1_ros.pkl</td>\n",
       "        <td>0.81948406676783</td>\n",
       "        <td>0.635237068965517</td>\n",
       "        <td>0.339182968929804</td>\n",
       "        <td>0.442235558889722</td>\n",
       "        <td>0.793022803453406</td>\n",
       "        <td>24644</td>\n",
       "        <td>4594</td>\n",
       "        <td>1354</td>\n",
       "        <td>2358</td>\n",
       "    </tr>\n",
       "</table>"
      ],
      "text/plain": [
       "[('../data/inter/logi-eda-ros_ros.pkl', 0.819028831562974, 0.635775862068966, 0.338545402381294, 0.441823457830197, 0.793019090244214, 24627, 4611, 1352, 2360),\n",
       " ('../data/inter/logi-eda-ros-l1_ros.pkl', 0.81948406676783, 0.635237068965517, 0.339182968929804, 0.442235558889722, 0.793022803453406, 24644, 4594, 1354, 2358)]"
      ]
     },
     "execution_count": 24,
     "metadata": {},
     "output_type": "execute_result"
    }
   ],
   "source": [
    "%sql select * from test_results;"
   ]
  },
  {
   "cell_type": "markdown",
   "metadata": {},
   "source": [
    "## EDA columns, SMOTENC over sampling"
   ]
  },
  {
   "cell_type": "code",
   "execution_count": 28,
   "metadata": {},
   "outputs": [],
   "source": [
    "Cs = np.logspace(-1, 2, 10)\n",
    "params = dict(logisticregression__C=Cs)\n",
    "\n",
    "lr = LogisticRegression(solver='lbfgs', \n",
    "                          random_state=33, \n",
    "                          max_iter=100\n",
    "                          )\n",
    "eda_measures = run_a_model('logi-eda-smote', lr, columns_eda, 'smote', params)\n"
   ]
  },
  {
   "cell_type": "code",
   "execution_count": 30,
   "metadata": {},
   "outputs": [
    {
     "name": "stdout",
     "output_type": "stream",
     "text": [
      " * postgresql://localhost/bankcalls\n",
      "1 rows affected.\n"
     ]
    },
    {
     "data": {
      "text/plain": [
       "'../data/inter/logi-eda-smote_smote.pkl'"
      ]
     },
     "execution_count": 30,
     "metadata": {},
     "output_type": "execute_result"
    }
   ],
   "source": [
    "store_results(eda_measures)"
   ]
  },
  {
   "cell_type": "code",
   "execution_count": 31,
   "metadata": {},
   "outputs": [],
   "source": [
    "Cs = np.logspace(-3, 3, 10)\n",
    "params = dict(logisticregression__C=Cs)\n",
    "\n",
    "lr = LogisticRegression(solver='liblinear', penalty='l1', random_state=33, max_iter=100)\n",
    "eda_measures = run_a_model('logi-eda-l1', lr, columns_eda, 'smote', params)"
   ]
  },
  {
   "cell_type": "code",
   "execution_count": 33,
   "metadata": {},
   "outputs": [
    {
     "name": "stdout",
     "output_type": "stream",
     "text": [
      " * postgresql://localhost/bankcalls\n",
      "1 rows affected.\n"
     ]
    },
    {
     "data": {
      "text/plain": [
       "'../data/inter/logi-eda-l1_smote.pkl'"
      ]
     },
     "execution_count": 33,
     "metadata": {},
     "output_type": "execute_result"
    }
   ],
   "source": [
    "store_results(eda_measures)"
   ]
  },
  {
   "cell_type": "code",
   "execution_count": 34,
   "metadata": {},
   "outputs": [
    {
     "name": "stdout",
     "output_type": "stream",
     "text": [
      " * postgresql://localhost/bankcalls\n",
      "4 rows affected.\n"
     ]
    },
    {
     "data": {
      "text/html": [
       "<table>\n",
       "    <tr>\n",
       "        <th>pathname</th>\n",
       "        <th>accuracy</th>\n",
       "        <th>recall</th>\n",
       "        <th>precision</th>\n",
       "        <th>f1</th>\n",
       "        <th>auc</th>\n",
       "        <th>cm_00</th>\n",
       "        <th>cm_01</th>\n",
       "        <th>cm_10</th>\n",
       "        <th>cm_11</th>\n",
       "    </tr>\n",
       "    <tr>\n",
       "        <td>../data/inter/logi-eda-ros_ros.pkl</td>\n",
       "        <td>0.819028831562974</td>\n",
       "        <td>0.635775862068966</td>\n",
       "        <td>0.338545402381294</td>\n",
       "        <td>0.441823457830197</td>\n",
       "        <td>0.793019090244214</td>\n",
       "        <td>24627</td>\n",
       "        <td>4611</td>\n",
       "        <td>1352</td>\n",
       "        <td>2360</td>\n",
       "    </tr>\n",
       "    <tr>\n",
       "        <td>../data/inter/logi-eda-ros-l1_ros.pkl</td>\n",
       "        <td>0.81948406676783</td>\n",
       "        <td>0.635237068965517</td>\n",
       "        <td>0.339182968929804</td>\n",
       "        <td>0.442235558889722</td>\n",
       "        <td>0.793022803453406</td>\n",
       "        <td>24644</td>\n",
       "        <td>4594</td>\n",
       "        <td>1354</td>\n",
       "        <td>2358</td>\n",
       "    </tr>\n",
       "    <tr>\n",
       "        <td>../data/inter/logi-eda-smote_smote.pkl</td>\n",
       "        <td>0.800667678300455</td>\n",
       "        <td>0.652478448275862</td>\n",
       "        <td>0.314545454545455</td>\n",
       "        <td>0.424465474938661</td>\n",
       "        <td>0.79048115322437</td>\n",
       "        <td>23960</td>\n",
       "        <td>5278</td>\n",
       "        <td>1290</td>\n",
       "        <td>2422</td>\n",
       "    </tr>\n",
       "    <tr>\n",
       "        <td>../data/inter/logi-eda-l1_smote.pkl</td>\n",
       "        <td>0.800667678300455</td>\n",
       "        <td>0.652478448275862</td>\n",
       "        <td>0.314545454545455</td>\n",
       "        <td>0.424465474938661</td>\n",
       "        <td>0.790485879964607</td>\n",
       "        <td>23960</td>\n",
       "        <td>5278</td>\n",
       "        <td>1290</td>\n",
       "        <td>2422</td>\n",
       "    </tr>\n",
       "</table>"
      ],
      "text/plain": [
       "[('../data/inter/logi-eda-ros_ros.pkl', 0.819028831562974, 0.635775862068966, 0.338545402381294, 0.441823457830197, 0.793019090244214, 24627, 4611, 1352, 2360),\n",
       " ('../data/inter/logi-eda-ros-l1_ros.pkl', 0.81948406676783, 0.635237068965517, 0.339182968929804, 0.442235558889722, 0.793022803453406, 24644, 4594, 1354, 2358),\n",
       " ('../data/inter/logi-eda-smote_smote.pkl', 0.800667678300455, 0.652478448275862, 0.314545454545455, 0.424465474938661, 0.79048115322437, 23960, 5278, 1290, 2422),\n",
       " ('../data/inter/logi-eda-l1_smote.pkl', 0.800667678300455, 0.652478448275862, 0.314545454545455, 0.424465474938661, 0.790485879964607, 23960, 5278, 1290, 2422)]"
      ]
     },
     "execution_count": 34,
     "metadata": {},
     "output_type": "execute_result"
    }
   ],
   "source": [
    "%sql select * from test_results;"
   ]
  },
  {
   "cell_type": "markdown",
   "metadata": {},
   "source": [
    "At first glance, it does not appear the the slower SMOTENC resampling method added any benefit to the LogisticRegression model.  But, I am impressed at the increase in the \"true positive\" corner of the confusion matrix. It found those needles in the haystack (higher recall) despite not having the higher f1 value. The area under the curve metric is also very similar. It will be interesting to put these on the \n",
    "holdout set at the end. "
   ]
  },
  {
   "cell_type": "markdown",
   "metadata": {},
   "source": [
    "## Context columns only"
   ]
  },
  {
   "cell_type": "markdown",
   "metadata": {},
   "source": [
    "### Random Over Sampling "
   ]
  },
  {
   "cell_type": "code",
   "execution_count": 37,
   "metadata": {},
   "outputs": [],
   "source": [
    "Cs = np.logspace(-3, 1, 10)\n",
    "params = dict(logisticregression__C=Cs)\n",
    "\n",
    "lr = LogisticRegression(solver='lbfgs', \n",
    "                          random_state=33, \n",
    "                          max_iter=100\n",
    "                          )\n",
    "measures = run_a_model('logi-context', lr, columns_context, 'ros', params)\n"
   ]
  },
  {
   "cell_type": "code",
   "execution_count": 39,
   "metadata": {},
   "outputs": [
    {
     "name": "stdout",
     "output_type": "stream",
     "text": [
      " * postgresql://localhost/bankcalls\n",
      "1 rows affected.\n"
     ]
    },
    {
     "data": {
      "text/plain": [
       "'../data/inter/logi-context_ros.pkl'"
      ]
     },
     "execution_count": 39,
     "metadata": {},
     "output_type": "execute_result"
    }
   ],
   "source": [
    "store_results(measures)"
   ]
  },
  {
   "cell_type": "code",
   "execution_count": 40,
   "metadata": {},
   "outputs": [],
   "source": [
    "Cs = np.logspace(-2, 2, 10)\n",
    "params = dict(logisticregression__C=Cs)\n",
    "\n",
    "lr = LogisticRegression(solver='liblinear',\n",
    "                          penalty='l1',\n",
    "                          random_state=33, \n",
    "                          max_iter=100\n",
    "                          )\n",
    "measures = run_a_model('logi-context-l1', lr, columns_context, 'ros', params)"
   ]
  },
  {
   "cell_type": "code",
   "execution_count": 42,
   "metadata": {},
   "outputs": [
    {
     "name": "stdout",
     "output_type": "stream",
     "text": [
      " * postgresql://localhost/bankcalls\n",
      "1 rows affected.\n"
     ]
    },
    {
     "data": {
      "text/plain": [
       "'../data/inter/logi-context-l1_ros.pkl'"
      ]
     },
     "execution_count": 42,
     "metadata": {},
     "output_type": "execute_result"
    }
   ],
   "source": [
    "store_results(measures)"
   ]
  },
  {
   "cell_type": "code",
   "execution_count": 49,
   "metadata": {},
   "outputs": [
    {
     "name": "stdout",
     "output_type": "stream",
     "text": [
      " * postgresql://localhost/bankcalls\n",
      "6 rows affected.\n"
     ]
    },
    {
     "data": {
      "text/html": [
       "<div>\n",
       "<style scoped>\n",
       "    .dataframe tbody tr th:only-of-type {\n",
       "        vertical-align: middle;\n",
       "    }\n",
       "\n",
       "    .dataframe tbody tr th {\n",
       "        vertical-align: top;\n",
       "    }\n",
       "\n",
       "    .dataframe thead th {\n",
       "        text-align: right;\n",
       "    }\n",
       "</style>\n",
       "<table border=\"1\" class=\"dataframe\">\n",
       "  <thead>\n",
       "    <tr style=\"text-align: right;\">\n",
       "      <th></th>\n",
       "      <th>pathname</th>\n",
       "      <th>accuracy</th>\n",
       "      <th>recall</th>\n",
       "      <th>precision</th>\n",
       "      <th>f1</th>\n",
       "      <th>auc</th>\n",
       "      <th>cm_00</th>\n",
       "      <th>cm_01</th>\n",
       "      <th>cm_10</th>\n",
       "      <th>cm_11</th>\n",
       "    </tr>\n",
       "  </thead>\n",
       "  <tbody>\n",
       "    <tr>\n",
       "      <th>0</th>\n",
       "      <td>../data/inter/logi-eda-ros_ros.pkl</td>\n",
       "      <td>0.8190</td>\n",
       "      <td>0.6358</td>\n",
       "      <td>0.3385</td>\n",
       "      <td>0.4418</td>\n",
       "      <td>0.7930</td>\n",
       "      <td>24627</td>\n",
       "      <td>4611</td>\n",
       "      <td>1352</td>\n",
       "      <td>2360</td>\n",
       "    </tr>\n",
       "    <tr>\n",
       "      <th>1</th>\n",
       "      <td>../data/inter/logi-eda-ros-l1_ros.pkl</td>\n",
       "      <td>0.8195</td>\n",
       "      <td>0.6352</td>\n",
       "      <td>0.3392</td>\n",
       "      <td>0.4422</td>\n",
       "      <td>0.7930</td>\n",
       "      <td>24644</td>\n",
       "      <td>4594</td>\n",
       "      <td>1354</td>\n",
       "      <td>2358</td>\n",
       "    </tr>\n",
       "    <tr>\n",
       "      <th>2</th>\n",
       "      <td>../data/inter/logi-eda-smote_smote.pkl</td>\n",
       "      <td>0.8007</td>\n",
       "      <td>0.6525</td>\n",
       "      <td>0.3145</td>\n",
       "      <td>0.4245</td>\n",
       "      <td>0.7905</td>\n",
       "      <td>23960</td>\n",
       "      <td>5278</td>\n",
       "      <td>1290</td>\n",
       "      <td>2422</td>\n",
       "    </tr>\n",
       "    <tr>\n",
       "      <th>3</th>\n",
       "      <td>../data/inter/logi-eda-l1_smote.pkl</td>\n",
       "      <td>0.8007</td>\n",
       "      <td>0.6525</td>\n",
       "      <td>0.3145</td>\n",
       "      <td>0.4245</td>\n",
       "      <td>0.7905</td>\n",
       "      <td>23960</td>\n",
       "      <td>5278</td>\n",
       "      <td>1290</td>\n",
       "      <td>2422</td>\n",
       "    </tr>\n",
       "    <tr>\n",
       "      <th>4</th>\n",
       "      <td>../data/inter/logi-context_ros.pkl</td>\n",
       "      <td>0.8118</td>\n",
       "      <td>0.6250</td>\n",
       "      <td>0.3254</td>\n",
       "      <td>0.4280</td>\n",
       "      <td>0.7844</td>\n",
       "      <td>24429</td>\n",
       "      <td>4809</td>\n",
       "      <td>1392</td>\n",
       "      <td>2320</td>\n",
       "    </tr>\n",
       "    <tr>\n",
       "      <th>5</th>\n",
       "      <td>../data/inter/logi-context-l1_ros.pkl</td>\n",
       "      <td>0.8118</td>\n",
       "      <td>0.6250</td>\n",
       "      <td>0.3254</td>\n",
       "      <td>0.4280</td>\n",
       "      <td>0.7843</td>\n",
       "      <td>24429</td>\n",
       "      <td>4809</td>\n",
       "      <td>1392</td>\n",
       "      <td>2320</td>\n",
       "    </tr>\n",
       "  </tbody>\n",
       "</table>\n",
       "</div>"
      ],
      "text/plain": [
       "                                 pathname  accuracy  recall  precision  \\\n",
       "0      ../data/inter/logi-eda-ros_ros.pkl    0.8190  0.6358     0.3385   \n",
       "1   ../data/inter/logi-eda-ros-l1_ros.pkl    0.8195  0.6352     0.3392   \n",
       "2  ../data/inter/logi-eda-smote_smote.pkl    0.8007  0.6525     0.3145   \n",
       "3     ../data/inter/logi-eda-l1_smote.pkl    0.8007  0.6525     0.3145   \n",
       "4      ../data/inter/logi-context_ros.pkl    0.8118  0.6250     0.3254   \n",
       "5   ../data/inter/logi-context-l1_ros.pkl    0.8118  0.6250     0.3254   \n",
       "\n",
       "       f1     auc  cm_00  cm_01  cm_10  cm_11  \n",
       "0  0.4418  0.7930  24627   4611   1352   2360  \n",
       "1  0.4422  0.7930  24644   4594   1354   2358  \n",
       "2  0.4245  0.7905  23960   5278   1290   2422  \n",
       "3  0.4245  0.7905  23960   5278   1290   2422  \n",
       "4  0.4280  0.7844  24429   4809   1392   2320  \n",
       "5  0.4280  0.7843  24429   4809   1392   2320  "
      ]
     },
     "execution_count": 49,
     "metadata": {},
     "output_type": "execute_result"
    }
   ],
   "source": [
    "df = %sql select * from test_results;\n",
    "df.round(decimals=4)"
   ]
  },
  {
   "cell_type": "markdown",
   "metadata": {},
   "source": [
    "For a model with so few columns, it's really not that much of a loss of predictive power! "
   ]
  },
  {
   "cell_type": "markdown",
   "metadata": {},
   "source": [
    "## All the columns "
   ]
  },
  {
   "cell_type": "markdown",
   "metadata": {},
   "source": [
    "### Random over sampling"
   ]
  },
  {
   "cell_type": "code",
   "execution_count": 54,
   "metadata": {},
   "outputs": [],
   "source": [
    "Cs = np.logspace(0, 4, 10)\n",
    "params = dict(logisticregression__C=Cs)\n",
    "\n",
    "lr = LogisticRegression(solver='lbfgs', \n",
    "                       random_state=33,\n",
    "                       max_iter=300)\n",
    "measures = run_a_model('logi-all-ros', lr, columns_all, 'ros', params)"
   ]
  },
  {
   "cell_type": "code",
   "execution_count": 56,
   "metadata": {},
   "outputs": [
    {
     "name": "stdout",
     "output_type": "stream",
     "text": [
      " * postgresql://localhost/bankcalls\n",
      "1 rows affected.\n"
     ]
    },
    {
     "data": {
      "text/plain": [
       "'../data/inter/logi-all-ros_ros.pkl'"
      ]
     },
     "execution_count": 56,
     "metadata": {},
     "output_type": "execute_result"
    }
   ],
   "source": [
    "store_results(measures)"
   ]
  },
  {
   "cell_type": "code",
   "execution_count": 58,
   "metadata": {},
   "outputs": [],
   "source": [
    "Cs = np.logspace(-2, 2, 10)\n",
    "params = dict(logisticregression__C=Cs)\n",
    "\n",
    "lr = LogisticRegression(solver='liblinear', \n",
    "                        penalty='l1', \n",
    "                        random_state=33, \n",
    "                        max_iter=300)\n",
    "measures = run_a_model('logi-all-l1', lr, columns_all, 'ros', params)"
   ]
  },
  {
   "cell_type": "code",
   "execution_count": 61,
   "metadata": {},
   "outputs": [
    {
     "name": "stdout",
     "output_type": "stream",
     "text": [
      " * postgresql://localhost/bankcalls\n",
      "1 rows affected.\n"
     ]
    },
    {
     "data": {
      "text/plain": [
       "'../data/inter/logi-all-l1_ros.pkl'"
      ]
     },
     "execution_count": 61,
     "metadata": {},
     "output_type": "execute_result"
    }
   ],
   "source": [
    "store_results(measures)"
   ]
  },
  {
   "cell_type": "markdown",
   "metadata": {},
   "source": [
    "### SMOTE-NC "
   ]
  },
  {
   "cell_type": "code",
   "execution_count": 79,
   "metadata": {},
   "outputs": [],
   "source": [
    "Cs = np.logspace(-4,1,12)\n",
    "params = dict(logisticregression__C=Cs)\n",
    "\n",
    "lr = LogisticRegression(solver='lbfgs',\n",
    "                       random_state=33,\n",
    "                       max_iter=500)\n",
    "measures = run_a_model('logi-all-smote', lr, columns_all, 'smote', params)"
   ]
  },
  {
   "cell_type": "code",
   "execution_count": 80,
   "metadata": {},
   "outputs": [
    {
     "name": "stdout",
     "output_type": "stream",
     "text": [
      " * postgresql://localhost/bankcalls\n",
      "1 rows affected.\n"
     ]
    },
    {
     "data": {
      "text/plain": [
       "'../data/inter/logi-all-smote_smote.pkl'"
      ]
     },
     "execution_count": 80,
     "metadata": {},
     "output_type": "execute_result"
    }
   ],
   "source": [
    "store_results(measures)"
   ]
  },
  {
   "cell_type": "code",
   "execution_count": 81,
   "metadata": {},
   "outputs": [],
   "source": [
    "Cs = np.logspace(-3, 3, 16)\n",
    "params = dict(logisticregression__C=Cs)\n",
    "\n",
    "lr = LogisticRegression(solver='liblinear', \n",
    "                       penalty='l1',\n",
    "                       random_state=33,\n",
    "                       max_iter=400)\n",
    "measures2 = run_a_model('logi-l1-all-smote', lr, columns_all, 'smote', params)"
   ]
  },
  {
   "cell_type": "code",
   "execution_count": 82,
   "metadata": {},
   "outputs": [
    {
     "name": "stdout",
     "output_type": "stream",
     "text": [
      " * postgresql://localhost/bankcalls\n",
      "1 rows affected.\n"
     ]
    },
    {
     "data": {
      "text/plain": [
       "'../data/inter/logi-l1-all-smote_smote.pkl'"
      ]
     },
     "execution_count": 82,
     "metadata": {},
     "output_type": "execute_result"
    }
   ],
   "source": [
    "store_results(measures2)"
   ]
  },
  {
   "cell_type": "code",
   "execution_count": null,
   "metadata": {},
   "outputs": [],
   "source": []
  },
  {
   "cell_type": "code",
   "execution_count": 85,
   "metadata": {},
   "outputs": [
    {
     "name": "stdout",
     "output_type": "stream",
     "text": [
      " * postgresql://localhost/bankcalls\n",
      "10 rows affected.\n"
     ]
    },
    {
     "data": {
      "text/html": [
       "<div>\n",
       "<style scoped>\n",
       "    .dataframe tbody tr th:only-of-type {\n",
       "        vertical-align: middle;\n",
       "    }\n",
       "\n",
       "    .dataframe tbody tr th {\n",
       "        vertical-align: top;\n",
       "    }\n",
       "\n",
       "    .dataframe thead th {\n",
       "        text-align: right;\n",
       "    }\n",
       "</style>\n",
       "<table border=\"1\" class=\"dataframe\">\n",
       "  <thead>\n",
       "    <tr style=\"text-align: right;\">\n",
       "      <th></th>\n",
       "      <th>pathname</th>\n",
       "      <th>accuracy</th>\n",
       "      <th>recall</th>\n",
       "      <th>precision</th>\n",
       "      <th>f1</th>\n",
       "      <th>auc</th>\n",
       "      <th>cm_00</th>\n",
       "      <th>cm_01</th>\n",
       "      <th>cm_10</th>\n",
       "      <th>cm_11</th>\n",
       "    </tr>\n",
       "  </thead>\n",
       "  <tbody>\n",
       "    <tr>\n",
       "      <th>0</th>\n",
       "      <td>../data/inter/logi-eda-ros-l1_ros.pkl</td>\n",
       "      <td>0.8195</td>\n",
       "      <td>0.6352</td>\n",
       "      <td>0.3392</td>\n",
       "      <td>0.4422</td>\n",
       "      <td>0.7930</td>\n",
       "      <td>24644</td>\n",
       "      <td>4594</td>\n",
       "      <td>1354</td>\n",
       "      <td>2358</td>\n",
       "    </tr>\n",
       "    <tr>\n",
       "      <th>1</th>\n",
       "      <td>../data/inter/logi-eda-ros_ros.pkl</td>\n",
       "      <td>0.8190</td>\n",
       "      <td>0.6358</td>\n",
       "      <td>0.3385</td>\n",
       "      <td>0.4418</td>\n",
       "      <td>0.7930</td>\n",
       "      <td>24627</td>\n",
       "      <td>4611</td>\n",
       "      <td>1352</td>\n",
       "      <td>2360</td>\n",
       "    </tr>\n",
       "    <tr>\n",
       "      <th>2</th>\n",
       "      <td>../data/inter/logi-all-ros_ros.pkl</td>\n",
       "      <td>0.8154</td>\n",
       "      <td>0.6406</td>\n",
       "      <td>0.3336</td>\n",
       "      <td>0.4387</td>\n",
       "      <td>0.7956</td>\n",
       "      <td>24488</td>\n",
       "      <td>4750</td>\n",
       "      <td>1334</td>\n",
       "      <td>2378</td>\n",
       "    </tr>\n",
       "    <tr>\n",
       "      <th>3</th>\n",
       "      <td>../data/inter/logi-all-l1_ros.pkl</td>\n",
       "      <td>0.8154</td>\n",
       "      <td>0.6401</td>\n",
       "      <td>0.3336</td>\n",
       "      <td>0.4386</td>\n",
       "      <td>0.7956</td>\n",
       "      <td>24492</td>\n",
       "      <td>4746</td>\n",
       "      <td>1336</td>\n",
       "      <td>2376</td>\n",
       "    </tr>\n",
       "    <tr>\n",
       "      <th>4</th>\n",
       "      <td>../data/inter/logi-context-l1_ros.pkl</td>\n",
       "      <td>0.8118</td>\n",
       "      <td>0.6250</td>\n",
       "      <td>0.3254</td>\n",
       "      <td>0.4280</td>\n",
       "      <td>0.7843</td>\n",
       "      <td>24429</td>\n",
       "      <td>4809</td>\n",
       "      <td>1392</td>\n",
       "      <td>2320</td>\n",
       "    </tr>\n",
       "    <tr>\n",
       "      <th>5</th>\n",
       "      <td>../data/inter/logi-context_ros.pkl</td>\n",
       "      <td>0.8118</td>\n",
       "      <td>0.6250</td>\n",
       "      <td>0.3254</td>\n",
       "      <td>0.4280</td>\n",
       "      <td>0.7844</td>\n",
       "      <td>24429</td>\n",
       "      <td>4809</td>\n",
       "      <td>1392</td>\n",
       "      <td>2320</td>\n",
       "    </tr>\n",
       "    <tr>\n",
       "      <th>6</th>\n",
       "      <td>../data/inter/logi-eda-l1_smote.pkl</td>\n",
       "      <td>0.8007</td>\n",
       "      <td>0.6525</td>\n",
       "      <td>0.3145</td>\n",
       "      <td>0.4245</td>\n",
       "      <td>0.7905</td>\n",
       "      <td>23960</td>\n",
       "      <td>5278</td>\n",
       "      <td>1290</td>\n",
       "      <td>2422</td>\n",
       "    </tr>\n",
       "    <tr>\n",
       "      <th>7</th>\n",
       "      <td>../data/inter/logi-eda-smote_smote.pkl</td>\n",
       "      <td>0.8007</td>\n",
       "      <td>0.6525</td>\n",
       "      <td>0.3145</td>\n",
       "      <td>0.4245</td>\n",
       "      <td>0.7905</td>\n",
       "      <td>23960</td>\n",
       "      <td>5278</td>\n",
       "      <td>1290</td>\n",
       "      <td>2422</td>\n",
       "    </tr>\n",
       "    <tr>\n",
       "      <th>8</th>\n",
       "      <td>../data/inter/logi-l1-all-smote_smote.pkl</td>\n",
       "      <td>0.8012</td>\n",
       "      <td>0.6188</td>\n",
       "      <td>0.3091</td>\n",
       "      <td>0.4123</td>\n",
       "      <td>0.7679</td>\n",
       "      <td>24104</td>\n",
       "      <td>5134</td>\n",
       "      <td>1415</td>\n",
       "      <td>2297</td>\n",
       "    </tr>\n",
       "    <tr>\n",
       "      <th>9</th>\n",
       "      <td>../data/inter/logi-all-smote_smote.pkl</td>\n",
       "      <td>0.7926</td>\n",
       "      <td>0.6355</td>\n",
       "      <td>0.3009</td>\n",
       "      <td>0.4084</td>\n",
       "      <td>0.7735</td>\n",
       "      <td>23758</td>\n",
       "      <td>5480</td>\n",
       "      <td>1353</td>\n",
       "      <td>2359</td>\n",
       "    </tr>\n",
       "  </tbody>\n",
       "</table>\n",
       "</div>"
      ],
      "text/plain": [
       "                                    pathname  accuracy  recall  precision  \\\n",
       "0      ../data/inter/logi-eda-ros-l1_ros.pkl    0.8195  0.6352     0.3392   \n",
       "1         ../data/inter/logi-eda-ros_ros.pkl    0.8190  0.6358     0.3385   \n",
       "2         ../data/inter/logi-all-ros_ros.pkl    0.8154  0.6406     0.3336   \n",
       "3          ../data/inter/logi-all-l1_ros.pkl    0.8154  0.6401     0.3336   \n",
       "4      ../data/inter/logi-context-l1_ros.pkl    0.8118  0.6250     0.3254   \n",
       "5         ../data/inter/logi-context_ros.pkl    0.8118  0.6250     0.3254   \n",
       "6        ../data/inter/logi-eda-l1_smote.pkl    0.8007  0.6525     0.3145   \n",
       "7     ../data/inter/logi-eda-smote_smote.pkl    0.8007  0.6525     0.3145   \n",
       "8  ../data/inter/logi-l1-all-smote_smote.pkl    0.8012  0.6188     0.3091   \n",
       "9     ../data/inter/logi-all-smote_smote.pkl    0.7926  0.6355     0.3009   \n",
       "\n",
       "       f1     auc  cm_00  cm_01  cm_10  cm_11  \n",
       "0  0.4422  0.7930  24644   4594   1354   2358  \n",
       "1  0.4418  0.7930  24627   4611   1352   2360  \n",
       "2  0.4387  0.7956  24488   4750   1334   2378  \n",
       "3  0.4386  0.7956  24492   4746   1336   2376  \n",
       "4  0.4280  0.7843  24429   4809   1392   2320  \n",
       "5  0.4280  0.7844  24429   4809   1392   2320  \n",
       "6  0.4245  0.7905  23960   5278   1290   2422  \n",
       "7  0.4245  0.7905  23960   5278   1290   2422  \n",
       "8  0.4123  0.7679  24104   5134   1415   2297  \n",
       "9  0.4084  0.7735  23758   5480   1353   2359  "
      ]
     },
     "execution_count": 85,
     "metadata": {},
     "output_type": "execute_result"
    }
   ],
   "source": [
    "df = %sql select * from test_results order by f1 DESC;\n",
    "df.round(decimals=4)"
   ]
  },
  {
   "cell_type": "code",
   "execution_count": 84,
   "metadata": {},
   "outputs": [
    {
     "name": "stdout",
     "output_type": "stream",
     "text": [
      " * postgresql://localhost/bankcalls\n",
      "10 rows affected.\n"
     ]
    },
    {
     "data": {
      "text/html": [
       "<div>\n",
       "<style scoped>\n",
       "    .dataframe tbody tr th:only-of-type {\n",
       "        vertical-align: middle;\n",
       "    }\n",
       "\n",
       "    .dataframe tbody tr th {\n",
       "        vertical-align: top;\n",
       "    }\n",
       "\n",
       "    .dataframe thead th {\n",
       "        text-align: right;\n",
       "    }\n",
       "</style>\n",
       "<table border=\"1\" class=\"dataframe\">\n",
       "  <thead>\n",
       "    <tr style=\"text-align: right;\">\n",
       "      <th></th>\n",
       "      <th>pathname</th>\n",
       "      <th>accuracy</th>\n",
       "      <th>recall</th>\n",
       "      <th>precision</th>\n",
       "      <th>f1</th>\n",
       "      <th>auc</th>\n",
       "      <th>cm_00</th>\n",
       "      <th>cm_01</th>\n",
       "      <th>cm_10</th>\n",
       "      <th>cm_11</th>\n",
       "    </tr>\n",
       "  </thead>\n",
       "  <tbody>\n",
       "    <tr>\n",
       "      <th>0</th>\n",
       "      <td>../data/inter/logi-all-ros_ros.pkl</td>\n",
       "      <td>0.8154</td>\n",
       "      <td>0.6406</td>\n",
       "      <td>0.3336</td>\n",
       "      <td>0.4387</td>\n",
       "      <td>0.7956</td>\n",
       "      <td>24488</td>\n",
       "      <td>4750</td>\n",
       "      <td>1334</td>\n",
       "      <td>2378</td>\n",
       "    </tr>\n",
       "    <tr>\n",
       "      <th>1</th>\n",
       "      <td>../data/inter/logi-all-l1_ros.pkl</td>\n",
       "      <td>0.8154</td>\n",
       "      <td>0.6401</td>\n",
       "      <td>0.3336</td>\n",
       "      <td>0.4386</td>\n",
       "      <td>0.7956</td>\n",
       "      <td>24492</td>\n",
       "      <td>4746</td>\n",
       "      <td>1336</td>\n",
       "      <td>2376</td>\n",
       "    </tr>\n",
       "    <tr>\n",
       "      <th>2</th>\n",
       "      <td>../data/inter/logi-eda-ros-l1_ros.pkl</td>\n",
       "      <td>0.8195</td>\n",
       "      <td>0.6352</td>\n",
       "      <td>0.3392</td>\n",
       "      <td>0.4422</td>\n",
       "      <td>0.7930</td>\n",
       "      <td>24644</td>\n",
       "      <td>4594</td>\n",
       "      <td>1354</td>\n",
       "      <td>2358</td>\n",
       "    </tr>\n",
       "    <tr>\n",
       "      <th>3</th>\n",
       "      <td>../data/inter/logi-eda-ros_ros.pkl</td>\n",
       "      <td>0.8190</td>\n",
       "      <td>0.6358</td>\n",
       "      <td>0.3385</td>\n",
       "      <td>0.4418</td>\n",
       "      <td>0.7930</td>\n",
       "      <td>24627</td>\n",
       "      <td>4611</td>\n",
       "      <td>1352</td>\n",
       "      <td>2360</td>\n",
       "    </tr>\n",
       "    <tr>\n",
       "      <th>4</th>\n",
       "      <td>../data/inter/logi-eda-l1_smote.pkl</td>\n",
       "      <td>0.8007</td>\n",
       "      <td>0.6525</td>\n",
       "      <td>0.3145</td>\n",
       "      <td>0.4245</td>\n",
       "      <td>0.7905</td>\n",
       "      <td>23960</td>\n",
       "      <td>5278</td>\n",
       "      <td>1290</td>\n",
       "      <td>2422</td>\n",
       "    </tr>\n",
       "    <tr>\n",
       "      <th>5</th>\n",
       "      <td>../data/inter/logi-eda-smote_smote.pkl</td>\n",
       "      <td>0.8007</td>\n",
       "      <td>0.6525</td>\n",
       "      <td>0.3145</td>\n",
       "      <td>0.4245</td>\n",
       "      <td>0.7905</td>\n",
       "      <td>23960</td>\n",
       "      <td>5278</td>\n",
       "      <td>1290</td>\n",
       "      <td>2422</td>\n",
       "    </tr>\n",
       "    <tr>\n",
       "      <th>6</th>\n",
       "      <td>../data/inter/logi-context_ros.pkl</td>\n",
       "      <td>0.8118</td>\n",
       "      <td>0.6250</td>\n",
       "      <td>0.3254</td>\n",
       "      <td>0.4280</td>\n",
       "      <td>0.7844</td>\n",
       "      <td>24429</td>\n",
       "      <td>4809</td>\n",
       "      <td>1392</td>\n",
       "      <td>2320</td>\n",
       "    </tr>\n",
       "    <tr>\n",
       "      <th>7</th>\n",
       "      <td>../data/inter/logi-context-l1_ros.pkl</td>\n",
       "      <td>0.8118</td>\n",
       "      <td>0.6250</td>\n",
       "      <td>0.3254</td>\n",
       "      <td>0.4280</td>\n",
       "      <td>0.7843</td>\n",
       "      <td>24429</td>\n",
       "      <td>4809</td>\n",
       "      <td>1392</td>\n",
       "      <td>2320</td>\n",
       "    </tr>\n",
       "    <tr>\n",
       "      <th>8</th>\n",
       "      <td>../data/inter/logi-all-smote_smote.pkl</td>\n",
       "      <td>0.7926</td>\n",
       "      <td>0.6355</td>\n",
       "      <td>0.3009</td>\n",
       "      <td>0.4084</td>\n",
       "      <td>0.7735</td>\n",
       "      <td>23758</td>\n",
       "      <td>5480</td>\n",
       "      <td>1353</td>\n",
       "      <td>2359</td>\n",
       "    </tr>\n",
       "    <tr>\n",
       "      <th>9</th>\n",
       "      <td>../data/inter/logi-l1-all-smote_smote.pkl</td>\n",
       "      <td>0.8012</td>\n",
       "      <td>0.6188</td>\n",
       "      <td>0.3091</td>\n",
       "      <td>0.4123</td>\n",
       "      <td>0.7679</td>\n",
       "      <td>24104</td>\n",
       "      <td>5134</td>\n",
       "      <td>1415</td>\n",
       "      <td>2297</td>\n",
       "    </tr>\n",
       "  </tbody>\n",
       "</table>\n",
       "</div>"
      ],
      "text/plain": [
       "                                    pathname  accuracy  recall  precision  \\\n",
       "0         ../data/inter/logi-all-ros_ros.pkl    0.8154  0.6406     0.3336   \n",
       "1          ../data/inter/logi-all-l1_ros.pkl    0.8154  0.6401     0.3336   \n",
       "2      ../data/inter/logi-eda-ros-l1_ros.pkl    0.8195  0.6352     0.3392   \n",
       "3         ../data/inter/logi-eda-ros_ros.pkl    0.8190  0.6358     0.3385   \n",
       "4        ../data/inter/logi-eda-l1_smote.pkl    0.8007  0.6525     0.3145   \n",
       "5     ../data/inter/logi-eda-smote_smote.pkl    0.8007  0.6525     0.3145   \n",
       "6         ../data/inter/logi-context_ros.pkl    0.8118  0.6250     0.3254   \n",
       "7      ../data/inter/logi-context-l1_ros.pkl    0.8118  0.6250     0.3254   \n",
       "8     ../data/inter/logi-all-smote_smote.pkl    0.7926  0.6355     0.3009   \n",
       "9  ../data/inter/logi-l1-all-smote_smote.pkl    0.8012  0.6188     0.3091   \n",
       "\n",
       "       f1     auc  cm_00  cm_01  cm_10  cm_11  \n",
       "0  0.4387  0.7956  24488   4750   1334   2378  \n",
       "1  0.4386  0.7956  24492   4746   1336   2376  \n",
       "2  0.4422  0.7930  24644   4594   1354   2358  \n",
       "3  0.4418  0.7930  24627   4611   1352   2360  \n",
       "4  0.4245  0.7905  23960   5278   1290   2422  \n",
       "5  0.4245  0.7905  23960   5278   1290   2422  \n",
       "6  0.4280  0.7844  24429   4809   1392   2320  \n",
       "7  0.4280  0.7843  24429   4809   1392   2320  \n",
       "8  0.4084  0.7735  23758   5480   1353   2359  \n",
       "9  0.4123  0.7679  24104   5134   1415   2297  "
      ]
     },
     "execution_count": 84,
     "metadata": {},
     "output_type": "execute_result"
    }
   ],
   "source": [
    "df = %sql select * from test_results order by auc DESC;\n",
    "df.round(decimals=4)"
   ]
  },
  {
   "cell_type": "code",
   "execution_count": 86,
   "metadata": {},
   "outputs": [
    {
     "name": "stdout",
     "output_type": "stream",
     "text": [
      " * postgresql://localhost/bankcalls\n",
      "10 rows affected.\n"
     ]
    },
    {
     "data": {
      "text/html": [
       "<div>\n",
       "<style scoped>\n",
       "    .dataframe tbody tr th:only-of-type {\n",
       "        vertical-align: middle;\n",
       "    }\n",
       "\n",
       "    .dataframe tbody tr th {\n",
       "        vertical-align: top;\n",
       "    }\n",
       "\n",
       "    .dataframe thead th {\n",
       "        text-align: right;\n",
       "    }\n",
       "</style>\n",
       "<table border=\"1\" class=\"dataframe\">\n",
       "  <thead>\n",
       "    <tr style=\"text-align: right;\">\n",
       "      <th></th>\n",
       "      <th>pathname</th>\n",
       "      <th>accuracy</th>\n",
       "      <th>recall</th>\n",
       "      <th>precision</th>\n",
       "      <th>f1</th>\n",
       "      <th>auc</th>\n",
       "      <th>cm_00</th>\n",
       "      <th>cm_01</th>\n",
       "      <th>cm_10</th>\n",
       "      <th>cm_11</th>\n",
       "    </tr>\n",
       "  </thead>\n",
       "  <tbody>\n",
       "    <tr>\n",
       "      <th>0</th>\n",
       "      <td>../data/inter/logi-eda-l1_smote.pkl</td>\n",
       "      <td>0.8007</td>\n",
       "      <td>0.6525</td>\n",
       "      <td>0.3145</td>\n",
       "      <td>0.4245</td>\n",
       "      <td>0.7905</td>\n",
       "      <td>23960</td>\n",
       "      <td>5278</td>\n",
       "      <td>1290</td>\n",
       "      <td>2422</td>\n",
       "    </tr>\n",
       "    <tr>\n",
       "      <th>1</th>\n",
       "      <td>../data/inter/logi-eda-smote_smote.pkl</td>\n",
       "      <td>0.8007</td>\n",
       "      <td>0.6525</td>\n",
       "      <td>0.3145</td>\n",
       "      <td>0.4245</td>\n",
       "      <td>0.7905</td>\n",
       "      <td>23960</td>\n",
       "      <td>5278</td>\n",
       "      <td>1290</td>\n",
       "      <td>2422</td>\n",
       "    </tr>\n",
       "    <tr>\n",
       "      <th>2</th>\n",
       "      <td>../data/inter/logi-all-ros_ros.pkl</td>\n",
       "      <td>0.8154</td>\n",
       "      <td>0.6406</td>\n",
       "      <td>0.3336</td>\n",
       "      <td>0.4387</td>\n",
       "      <td>0.7956</td>\n",
       "      <td>24488</td>\n",
       "      <td>4750</td>\n",
       "      <td>1334</td>\n",
       "      <td>2378</td>\n",
       "    </tr>\n",
       "    <tr>\n",
       "      <th>3</th>\n",
       "      <td>../data/inter/logi-all-l1_ros.pkl</td>\n",
       "      <td>0.8154</td>\n",
       "      <td>0.6401</td>\n",
       "      <td>0.3336</td>\n",
       "      <td>0.4386</td>\n",
       "      <td>0.7956</td>\n",
       "      <td>24492</td>\n",
       "      <td>4746</td>\n",
       "      <td>1336</td>\n",
       "      <td>2376</td>\n",
       "    </tr>\n",
       "    <tr>\n",
       "      <th>4</th>\n",
       "      <td>../data/inter/logi-eda-ros_ros.pkl</td>\n",
       "      <td>0.8190</td>\n",
       "      <td>0.6358</td>\n",
       "      <td>0.3385</td>\n",
       "      <td>0.4418</td>\n",
       "      <td>0.7930</td>\n",
       "      <td>24627</td>\n",
       "      <td>4611</td>\n",
       "      <td>1352</td>\n",
       "      <td>2360</td>\n",
       "    </tr>\n",
       "    <tr>\n",
       "      <th>5</th>\n",
       "      <td>../data/inter/logi-all-smote_smote.pkl</td>\n",
       "      <td>0.7926</td>\n",
       "      <td>0.6355</td>\n",
       "      <td>0.3009</td>\n",
       "      <td>0.4084</td>\n",
       "      <td>0.7735</td>\n",
       "      <td>23758</td>\n",
       "      <td>5480</td>\n",
       "      <td>1353</td>\n",
       "      <td>2359</td>\n",
       "    </tr>\n",
       "    <tr>\n",
       "      <th>6</th>\n",
       "      <td>../data/inter/logi-eda-ros-l1_ros.pkl</td>\n",
       "      <td>0.8195</td>\n",
       "      <td>0.6352</td>\n",
       "      <td>0.3392</td>\n",
       "      <td>0.4422</td>\n",
       "      <td>0.7930</td>\n",
       "      <td>24644</td>\n",
       "      <td>4594</td>\n",
       "      <td>1354</td>\n",
       "      <td>2358</td>\n",
       "    </tr>\n",
       "    <tr>\n",
       "      <th>7</th>\n",
       "      <td>../data/inter/logi-context-l1_ros.pkl</td>\n",
       "      <td>0.8118</td>\n",
       "      <td>0.6250</td>\n",
       "      <td>0.3254</td>\n",
       "      <td>0.4280</td>\n",
       "      <td>0.7843</td>\n",
       "      <td>24429</td>\n",
       "      <td>4809</td>\n",
       "      <td>1392</td>\n",
       "      <td>2320</td>\n",
       "    </tr>\n",
       "    <tr>\n",
       "      <th>8</th>\n",
       "      <td>../data/inter/logi-context_ros.pkl</td>\n",
       "      <td>0.8118</td>\n",
       "      <td>0.6250</td>\n",
       "      <td>0.3254</td>\n",
       "      <td>0.4280</td>\n",
       "      <td>0.7844</td>\n",
       "      <td>24429</td>\n",
       "      <td>4809</td>\n",
       "      <td>1392</td>\n",
       "      <td>2320</td>\n",
       "    </tr>\n",
       "    <tr>\n",
       "      <th>9</th>\n",
       "      <td>../data/inter/logi-l1-all-smote_smote.pkl</td>\n",
       "      <td>0.8012</td>\n",
       "      <td>0.6188</td>\n",
       "      <td>0.3091</td>\n",
       "      <td>0.4123</td>\n",
       "      <td>0.7679</td>\n",
       "      <td>24104</td>\n",
       "      <td>5134</td>\n",
       "      <td>1415</td>\n",
       "      <td>2297</td>\n",
       "    </tr>\n",
       "  </tbody>\n",
       "</table>\n",
       "</div>"
      ],
      "text/plain": [
       "                                    pathname  accuracy  recall  precision  \\\n",
       "0        ../data/inter/logi-eda-l1_smote.pkl    0.8007  0.6525     0.3145   \n",
       "1     ../data/inter/logi-eda-smote_smote.pkl    0.8007  0.6525     0.3145   \n",
       "2         ../data/inter/logi-all-ros_ros.pkl    0.8154  0.6406     0.3336   \n",
       "3          ../data/inter/logi-all-l1_ros.pkl    0.8154  0.6401     0.3336   \n",
       "4         ../data/inter/logi-eda-ros_ros.pkl    0.8190  0.6358     0.3385   \n",
       "5     ../data/inter/logi-all-smote_smote.pkl    0.7926  0.6355     0.3009   \n",
       "6      ../data/inter/logi-eda-ros-l1_ros.pkl    0.8195  0.6352     0.3392   \n",
       "7      ../data/inter/logi-context-l1_ros.pkl    0.8118  0.6250     0.3254   \n",
       "8         ../data/inter/logi-context_ros.pkl    0.8118  0.6250     0.3254   \n",
       "9  ../data/inter/logi-l1-all-smote_smote.pkl    0.8012  0.6188     0.3091   \n",
       "\n",
       "       f1     auc  cm_00  cm_01  cm_10  cm_11  \n",
       "0  0.4245  0.7905  23960   5278   1290   2422  \n",
       "1  0.4245  0.7905  23960   5278   1290   2422  \n",
       "2  0.4387  0.7956  24488   4750   1334   2378  \n",
       "3  0.4386  0.7956  24492   4746   1336   2376  \n",
       "4  0.4418  0.7930  24627   4611   1352   2360  \n",
       "5  0.4084  0.7735  23758   5480   1353   2359  \n",
       "6  0.4422  0.7930  24644   4594   1354   2358  \n",
       "7  0.4280  0.7843  24429   4809   1392   2320  \n",
       "8  0.4280  0.7844  24429   4809   1392   2320  \n",
       "9  0.4123  0.7679  24104   5134   1415   2297  "
      ]
     },
     "execution_count": 86,
     "metadata": {},
     "output_type": "execute_result"
    }
   ],
   "source": [
    "df = %sql select * from test_results order by recall DESC;\n",
    "df.round(decimals=4)"
   ]
  },
  {
   "cell_type": "markdown",
   "metadata": {},
   "source": [
    "Remember when looking at the above tables the parameter search was scored on f1.\n",
    "\n"
   ]
  },
  {
   "cell_type": "code",
   "execution_count": null,
   "metadata": {},
   "outputs": [],
   "source": []
  }
 ],
 "metadata": {
  "kernelspec": {
   "display_name": "Python 3",
   "language": "python",
   "name": "python3"
  },
  "language_info": {
   "codemirror_mode": {
    "name": "ipython",
    "version": 3
   },
   "file_extension": ".py",
   "mimetype": "text/x-python",
   "name": "python",
   "nbconvert_exporter": "python",
   "pygments_lexer": "ipython3",
   "version": "3.6.8"
  }
 },
 "nbformat": 4,
 "nbformat_minor": 2
}
