{
 "cells": [
  {
   "cell_type": "code",
   "execution_count": 16,
   "metadata": {},
   "outputs": [],
   "source": [
    "import pandas as pd\n",
    "import csv"
   ]
  },
  {
   "cell_type": "code",
   "execution_count": 17,
   "metadata": {},
   "outputs": [
    {
     "name": "stdout",
     "output_type": "stream",
     "text": [
      "The sql extension is already loaded. To reload it, use:\n",
      "  %reload_ext sql\n"
     ]
    }
   ],
   "source": [
    "%load_ext sql"
   ]
  },
  {
   "cell_type": "code",
   "execution_count": 18,
   "metadata": {},
   "outputs": [
    {
     "name": "stdout",
     "output_type": "stream",
     "text": [
      "ERROR:  database \"bankcalls\" already exists\n"
     ]
    }
   ],
   "source": [
    "!psql -c\"CREATE DATABASE bankcalls;\""
   ]
  },
  {
   "cell_type": "code",
   "execution_count": 19,
   "metadata": {},
   "outputs": [
    {
     "data": {
      "text/plain": [
       "'Connected: @bankcalls'"
      ]
     },
     "execution_count": 19,
     "metadata": {},
     "output_type": "execute_result"
    }
   ],
   "source": [
    "%sql postgresql://localhost/bankcalls"
   ]
  },
  {
   "cell_type": "code",
   "execution_count": 20,
   "metadata": {},
   "outputs": [
    {
     "name": "stdout",
     "output_type": "stream",
     "text": [
      " * postgresql://localhost/bankcalls\n",
      "(psycopg2.ProgrammingError) relation \"bank_addl\" already exists\n",
      " [SQL: 'CREATE TABLE bank_addl (\\n    bank_addl_id SERIAL UNIQUE,\\n    age INT,\\n    job TEXT,\\n    marital TEXT,\\n    education TEXT,\\n    in_default TEXT,\\n    housing TEXT,\\n    loan TEXT,\\n    contact TEXT,\\n    month TEXT,\\n    day_of_week TEXT,\\n    duration INT,\\n    campaign INT,\\n    pdays INT,\\n    previous INT,\\n    poutcome TEXT,\\n    emp_var_rate FLOAT,\\n    cons_price_idx FLOAT,\\n    cons_conf_idx FLOAT,\\n    euribor3m FLOAT,\\n    nr_employed FLOAT,\\n    y TEXT    \\n);'] (Background on this error at: http://sqlalche.me/e/f405)\n"
     ]
    }
   ],
   "source": [
    "%%sql\n",
    "CREATE TABLE bank_addl (\n",
    "    bank_addl_id SERIAL UNIQUE,\n",
    "    age INT,\n",
    "    job TEXT,\n",
    "    marital TEXT,\n",
    "    education TEXT,\n",
    "    in_default TEXT,\n",
    "    housing TEXT,\n",
    "    loan TEXT,\n",
    "    contact TEXT,\n",
    "    month TEXT,\n",
    "    day_of_week TEXT,\n",
    "    duration INT,\n",
    "    campaign INT,\n",
    "    pdays INT,\n",
    "    previous INT,\n",
    "    poutcome TEXT,\n",
    "    emp_var_rate FLOAT,\n",
    "    cons_price_idx FLOAT,\n",
    "    cons_conf_idx FLOAT,\n",
    "    euribor3m FLOAT,\n",
    "    nr_employed FLOAT,\n",
    "    y TEXT    \n",
    ");"
   ]
  },
  {
   "cell_type": "code",
   "execution_count": 22,
   "metadata": {},
   "outputs": [],
   "source": [
    "dirname = \"../data/bank-additional/\"\n",
    "filename = \"bank-additional-full.csv\""
   ]
  },
  {
   "cell_type": "code",
   "execution_count": 23,
   "metadata": {},
   "outputs": [],
   "source": [
    "# Rename the columns from the csv file \n",
    "# because default is a sql keyword, rename the loan in default column to \"in_default\"\n",
    "# because the period is also sql syntax, rename all periods to underscores\n",
    "def fix_names(csv_names):\n",
    "    postgres_names = []\n",
    "    for name in csv_names:\n",
    "        if name == \"default\":\n",
    "            postgres_names += [\"in_default\"]\n",
    "        else:\n",
    "            postgres_names += [name.replace('.','_')]\n",
    "    return postgres_names\n",
    "        "
   ]
  },
  {
   "cell_type": "code",
   "execution_count": 24,
   "metadata": {},
   "outputs": [],
   "source": [
    "# Explicitly adds a single quote around strings that SQL is supposed to interpret\n",
    "# as strings\n",
    "def quote_strings(row_df):\n",
    "    categorical_columns = [ 'job', 'marital', 'education', 'in_default', 'housing',\n",
    "                         'loan', 'contact', 'month', 'day_of_week', 'poutcome', 'y' ]\n",
    "    row_df.loc[categorical_columns] = \"'\" + row_df.loc[categorical_columns] + \"'\"\n",
    "    \n",
    "    "
   ]
  },
  {
   "cell_type": "code",
   "execution_count": 26,
   "metadata": {},
   "outputs": [],
   "source": [
    "# 41188 postgresql feedback strings is not pretty \n",
    "# The %%capture in the next cell captures even more output\n",
    "%config SqlMagic.feedback   = False\n",
    "%config SqlMagic.autocommit = False"
   ]
  },
  {
   "cell_type": "code",
   "execution_count": 27,
   "metadata": {},
   "outputs": [],
   "source": [
    "%%capture\n",
    "with open(dirname + filename, newline='') as csvfile:\n",
    "\n",
    "    # figure out how to read the csv file\n",
    "    dialect = csv.Sniffer().sniff(csvfile.read(1024), delimiters=';')\n",
    "    csvfile.seek(0)\n",
    "    reader = csv.reader(csvfile, dialect)\n",
    "\n",
    "    # pull off the header and turn it into my postgres column names\n",
    "    header = next(reader)\n",
    "    postgres_names = fix_names(header)\n",
    "    postgres_columns = \", \".join(postgres_names)\n",
    "\n",
    "    for row in reader:\n",
    "        row_df = pd.DataFrame(index=postgres_names, data=row)\n",
    "        quote_strings(row_df)\n",
    "        row_values = \", \".join(row_df.loc[:, 0])\n",
    "        command = (\"INSERT INTO bank_addl ( \" + postgres_columns + \") \" +\n",
    "                   \" VALUES (\" + row_values + \" );\")\n",
    "        result = %sql $command\n",
    "        if result == None:\n",
    "            raise Exception('SQL command failed>', command)\n"
   ]
  },
  {
   "cell_type": "code",
   "execution_count": 28,
   "metadata": {},
   "outputs": [],
   "source": [
    "%config SqlMagic.feedback = True\n",
    "%config SqlMagic.autocommit = True\n"
   ]
  },
  {
   "cell_type": "code",
   "execution_count": 29,
   "metadata": {},
   "outputs": [
    {
     "name": "stdout",
     "output_type": "stream",
     "text": [
      " * postgresql://localhost/bankcalls\n",
      "Done.\n",
      "1 rows affected.\n"
     ]
    },
    {
     "data": {
      "text/html": [
       "<table>\n",
       "    <tr>\n",
       "        <th>count</th>\n",
       "    </tr>\n",
       "    <tr>\n",
       "        <td>41188</td>\n",
       "    </tr>\n",
       "</table>"
      ],
      "text/plain": [
       "[(41188,)]"
      ]
     },
     "execution_count": 29,
     "metadata": {},
     "output_type": "execute_result"
    }
   ],
   "source": [
    "%sql commit; select count(*) from bank_addl;"
   ]
  }
 ],
 "metadata": {
  "kernelspec": {
   "display_name": "Python 3",
   "language": "python",
   "name": "python3"
  },
  "language_info": {
   "codemirror_mode": {
    "name": "ipython",
    "version": 3
   },
   "file_extension": ".py",
   "mimetype": "text/x-python",
   "name": "python",
   "nbconvert_exporter": "python",
   "pygments_lexer": "ipython3",
   "version": "3.7.2"
  },
  "toc": {
   "base_numbering": 1,
   "nav_menu": {},
   "number_sections": true,
   "sideBar": true,
   "skip_h1_title": false,
   "title_cell": "Table of Contents",
   "title_sidebar": "Contents",
   "toc_cell": false,
   "toc_position": {},
   "toc_section_display": true,
   "toc_window_display": false
  }
 },
 "nbformat": 4,
 "nbformat_minor": 2
}
