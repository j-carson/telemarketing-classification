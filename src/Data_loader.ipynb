{
 "cells": [
  {
   "cell_type": "markdown",
   "metadata": {},
   "source": [
    "# Data loader \n",
    "\n",
    "This file is loading the CSV as downloaded and saving\n",
    "it to SQL with only a few minor changes. Additional \n",
    "column tweaking is in Data_clean.ipynb"
   ]
  },
  {
   "cell_type": "code",
   "execution_count": 1,
   "metadata": {},
   "outputs": [],
   "source": [
    "import pandas as pd\n",
    "import csv"
   ]
  },
  {
   "cell_type": "code",
   "execution_count": 2,
   "metadata": {},
   "outputs": [],
   "source": [
    "%load_ext sql"
   ]
  },
  {
   "cell_type": "code",
   "execution_count": 3,
   "metadata": {},
   "outputs": [
    {
     "name": "stdout",
     "output_type": "stream",
     "text": [
      "CREATE DATABASE\n"
     ]
    }
   ],
   "source": [
    "!psql -c\"CREATE DATABASE bankcalls;\""
   ]
  },
  {
   "cell_type": "code",
   "execution_count": 4,
   "metadata": {},
   "outputs": [
    {
     "data": {
      "text/plain": [
       "'Connected: @bankcalls'"
      ]
     },
     "execution_count": 4,
     "metadata": {},
     "output_type": "execute_result"
    }
   ],
   "source": [
    "%sql postgresql://localhost/bankcalls"
   ]
  },
  {
   "cell_type": "code",
   "execution_count": 5,
   "metadata": {},
   "outputs": [
    {
     "name": "stdout",
     "output_type": "stream",
     "text": [
      " * postgresql://localhost/bankcalls\n",
      "Done.\n"
     ]
    },
    {
     "data": {
      "text/plain": [
       "[]"
      ]
     },
     "execution_count": 5,
     "metadata": {},
     "output_type": "execute_result"
    }
   ],
   "source": [
    "%%sql\n",
    "CREATE TABLE bank_addl (\n",
    "    bank_addl_id SERIAL UNIQUE,\n",
    "    age INT,\n",
    "    job VARCHAR(15),\n",
    "    marital VARCHAR(10),\n",
    "    education VARCHAR(20),\n",
    "    in_default VARCHAR(10),\n",
    "    housing VARCHAR(10),\n",
    "    loan VARCHAR(10),\n",
    "    contact VARCHAR(10),\n",
    "    month VARCHAR(5),\n",
    "    day_of_week VARCHAR(5),\n",
    "    duration INT,\n",
    "    campaign INT,\n",
    "    pdays INT,\n",
    "    previous INT,\n",
    "    poutcome VARCHAR(15),\n",
    "    emp_var_rate FLOAT,\n",
    "    cons_price_idx FLOAT,\n",
    "    cons_conf_idx FLOAT,\n",
    "    euribor3m FLOAT,\n",
    "    nr_employed FLOAT,\n",
    "    success VARCHAR(5)    \n",
    ");"
   ]
  },
  {
   "cell_type": "code",
   "execution_count": 6,
   "metadata": {},
   "outputs": [],
   "source": [
    "dirname = \"../data/bank-additional/\"\n",
    "filename = \"bank-additional-full.csv\""
   ]
  },
  {
   "cell_type": "code",
   "execution_count": 7,
   "metadata": {},
   "outputs": [],
   "source": [
    "# Rename a few columns from the csv file \n",
    "# because default is a sql keyword, rename the loan in default column to \"in_default\"\n",
    "# because the target variable 'y' is a cryptic column name, rename\n",
    "# that one to 'success' to indicate a successful customer subscription\n",
    "# because the period is also sql syntax, rename all periods to underscores\n",
    "def fix_names(csv_names):\n",
    "    postgres_names = []\n",
    "    for name in csv_names:\n",
    "        if name == \"default\":\n",
    "            postgres_names += [\"in_default\"]\n",
    "        elif name == \"y\":\n",
    "            postgres_names += [\"success\"]\n",
    "        else:\n",
    "            postgres_names += [name.replace('.','_')]\n",
    "    return postgres_names\n",
    "        "
   ]
  },
  {
   "cell_type": "code",
   "execution_count": 8,
   "metadata": {},
   "outputs": [],
   "source": [
    "# Explicitly adds a single quote around strings that SQL is supposed to interpret\n",
    "# as strings\n",
    "def quote_strings(row_df):\n",
    "    categorical_columns = [ 'job', 'marital', 'education', \n",
    "                            'in_default', 'housing',\n",
    "                            'loan', 'contact', 'month', \n",
    "                            'day_of_week', 'poutcome', 'success' ]\n",
    "    row_df.loc[categorical_columns] = \"'\" + row_df.loc[categorical_columns] + \"'\"\n",
    "    \n",
    "    "
   ]
  },
  {
   "cell_type": "code",
   "execution_count": 9,
   "metadata": {},
   "outputs": [],
   "source": [
    "# 41188 postgresql feedback strings is not pretty \n",
    "# The %%capture in the next cell captures even more output\n",
    "%config SqlMagic.feedback   = False\n",
    "%config SqlMagic.autocommit = False"
   ]
  },
  {
   "cell_type": "code",
   "execution_count": 10,
   "metadata": {},
   "outputs": [],
   "source": [
    "%%capture\n",
    "with open(dirname + filename, newline='') as csvfile:\n",
    "\n",
    "    # figure out how to read the csv file\n",
    "    dialect = csv.Sniffer().sniff(csvfile.read(1024), delimiters=';')\n",
    "    csvfile.seek(0)\n",
    "    reader = csv.reader(csvfile, dialect)\n",
    "\n",
    "    # pull off the header and turn it into my postgres column names\n",
    "    header = next(reader)\n",
    "    postgres_names = fix_names(header)\n",
    "    postgres_columns = \", \".join(postgres_names)\n",
    "\n",
    "    for row in reader:\n",
    "        row_df = pd.DataFrame(index=postgres_names, data=row)\n",
    "        quote_strings(row_df)\n",
    "        row_values = \", \".join(row_df.loc[:, 0])\n",
    "        command = (\"INSERT INTO bank_addl ( \" + postgres_columns + \") \" +\n",
    "                   \" VALUES (\" + row_values + \" );\")\n",
    "        result = %sql $command\n",
    "        if result == None:\n",
    "            raise Exception('SQL command failed>', command)\n"
   ]
  },
  {
   "cell_type": "code",
   "execution_count": 11,
   "metadata": {},
   "outputs": [],
   "source": [
    "%config SqlMagic.feedback = True\n",
    "%config SqlMagic.autocommit = True\n"
   ]
  },
  {
   "cell_type": "code",
   "execution_count": 12,
   "metadata": {},
   "outputs": [
    {
     "name": "stdout",
     "output_type": "stream",
     "text": [
      " * postgresql://localhost/bankcalls\n",
      "Done.\n",
      "1 rows affected.\n"
     ]
    },
    {
     "data": {
      "text/html": [
       "<table>\n",
       "    <tr>\n",
       "        <th>count</th>\n",
       "    </tr>\n",
       "    <tr>\n",
       "        <td>41188</td>\n",
       "    </tr>\n",
       "</table>"
      ],
      "text/plain": [
       "[(41188,)]"
      ]
     },
     "execution_count": 12,
     "metadata": {},
     "output_type": "execute_result"
    }
   ],
   "source": [
    "%sql commit; select count(*) from bank_addl;"
   ]
  },
  {
   "cell_type": "code",
   "execution_count": null,
   "metadata": {},
   "outputs": [],
   "source": []
  }
 ],
 "metadata": {
  "kernelspec": {
   "display_name": "Python 3",
   "language": "python",
   "name": "python3"
  },
  "language_info": {
   "codemirror_mode": {
    "name": "ipython",
    "version": 3
   },
   "file_extension": ".py",
   "mimetype": "text/x-python",
   "name": "python",
   "nbconvert_exporter": "python",
   "pygments_lexer": "ipython3",
   "version": "3.6.8"
  },
  "toc": {
   "base_numbering": 1,
   "nav_menu": {},
   "number_sections": true,
   "sideBar": true,
   "skip_h1_title": false,
   "title_cell": "Table of Contents",
   "title_sidebar": "Contents",
   "toc_cell": false,
   "toc_position": {},
   "toc_section_display": true,
   "toc_window_display": false
  }
 },
 "nbformat": 4,
 "nbformat_minor": 2
}
