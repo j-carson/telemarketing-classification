{
 "cells": [
  {
   "cell_type": "code",
   "execution_count": 2,
   "metadata": {},
   "outputs": [],
   "source": [
    "import pandas as pd\n",
    "import numpy as np\n",
    "import matplotlib.pyplot as plt\n",
    "import seaborn as sns"
   ]
  },
  {
   "cell_type": "code",
   "execution_count": 3,
   "metadata": {},
   "outputs": [],
   "source": [
    "%load_ext sql\n",
    "%sql postgresql://localhost/bankcalls\n",
    "%config SqlMagic.autopandas =  True"
   ]
  },
  {
   "cell_type": "code",
   "execution_count": 4,
   "metadata": {},
   "outputs": [],
   "source": [
    "# sklearn stuff goes here\n",
    "from sklearn.model_selection import train_test_split\n",
    "from sklearn.preprocessing import StandardScaler\n",
    "from sklearn.linear_model import LogisticRegression, LogisticRegressionCV\n",
    "from sklearn import metrics"
   ]
  },
  {
   "cell_type": "markdown",
   "metadata": {},
   "source": [
    "# Load the columns that looked most promising in our EDA"
   ]
  },
  {
   "cell_type": "code",
   "execution_count": 5,
   "metadata": {},
   "outputs": [
    {
     "name": "stdout",
     "output_type": "stream",
     "text": [
      " * postgresql://localhost/bankcalls\n",
      "8238 rows affected.\n",
      "Returning data to local variable df_test\n"
     ]
    }
   ],
   "source": [
    "%%sql  df_test << \n",
    "/*--  initial predictors looked interesting in the EDA notebook  --*/\n",
    "SELECT \n",
    "/*-- categorical predictors --*/\n",
    "       job, \n",
    "       contact, \n",
    "       month, \n",
    "       poutcome, \n",
    "        \n",
    "/*-- integer predictors     --*/\n",
    "       previous, \n",
    "        \n",
    "/*-- float predictors       --*/\n",
    "       cons_price_idx, \n",
    "       cons_conf_idx, \n",
    "       euribor3m,\n",
    "    \n",
    "/*-- target column          --*/\n",
    "       success,\n",
    "    \n",
    "/*-- row id used for analysis of results --*/\n",
    "       bank_addl_id\n",
    "FROM  \n",
    "       test_group\n",
    "ORDER BY \n",
    "       bank_addl_id ASC;"
   ]
  },
  {
   "cell_type": "code",
   "execution_count": 6,
   "metadata": {},
   "outputs": [
    {
     "name": "stdout",
     "output_type": "stream",
     "text": [
      " * postgresql://localhost/bankcalls\n",
      "32950 rows affected.\n",
      "Returning data to local variable df_train\n"
     ]
    }
   ],
   "source": [
    "%%sql  df_train << \n",
    "/*--  initial predictors looked interesting in the EDA notebook  --*/\n",
    "SELECT \n",
    "/*-- categorical predictors --*/\n",
    "       job, \n",
    "       contact, \n",
    "       month, \n",
    "       poutcome, \n",
    "        \n",
    "/*-- integer predictors     --*/\n",
    "       previous, \n",
    "        \n",
    "/*-- float predictors       --*/\n",
    "       cons_price_idx, \n",
    "       cons_conf_idx, \n",
    "       euribor3m,\n",
    "    \n",
    "/*-- target column          --*/\n",
    "       success,\n",
    "    \n",
    "/*-- row id used for analysis of results --*/\n",
    "       bank_addl_id\n",
    "FROM  \n",
    "       train_group\n",
    "ORDER BY \n",
    "       bank_addl_id ASC;"
   ]
  },
  {
   "cell_type": "code",
   "execution_count": 41,
   "metadata": {},
   "outputs": [
    {
     "name": "stdout",
     "output_type": "stream",
     "text": [
      "<class 'pandas.core.frame.DataFrame'>\n",
      "RangeIndex: 41188 entries, 0 to 41187\n",
      "Data columns (total 10 columns):\n",
      "job               41188 non-null object\n",
      "contact           41188 non-null object\n",
      "month             41188 non-null object\n",
      "poutcome          41188 non-null object\n",
      "previous          41188 non-null int64\n",
      "cons_price_idx    41188 non-null float64\n",
      "cons_conf_idx     41188 non-null float64\n",
      "euribor3m         41188 non-null float64\n",
      "success           41188 non-null object\n",
      "bank_addl_id      41188 non-null int64\n",
      "dtypes: float64(3), int64(2), object(5)\n",
      "memory usage: 3.1+ MB\n"
     ]
    }
   ],
   "source": [
    "df.info()"
   ]
  },
  {
   "cell_type": "markdown",
   "metadata": {
    "toc-hr-collapsed": false
   },
   "source": [
    "## We can save some memory by hashing all the categorical predictors\n"
   ]
  },
  {
   "cell_type": "code",
   "execution_count": 42,
   "metadata": {},
   "outputs": [],
   "source": [
    "df['job']      = df[     'job'].astype('category')\n",
    "df['contact']  = df[ 'contact'].astype('category')\n",
    "df['month']    = df[   'month'].astype('category')\n",
    "df['poutcome'] = df['poutcome'].astype('category')"
   ]
  },
  {
   "cell_type": "code",
   "execution_count": 7,
   "metadata": {},
   "outputs": [],
   "source": [
    "df_test['job']      = df_test[     'job'].astype('category')\n",
    "df_test['contact']  = df_test[ 'contact'].astype('category')\n",
    "df_test['month']    = df_test[   'month'].astype('category')\n",
    "df_test['poutcome'] = df_test['poutcome'].astype('category')"
   ]
  },
  {
   "cell_type": "code",
   "execution_count": 8,
   "metadata": {},
   "outputs": [],
   "source": [
    "df_train['job']      = df_train[     'job'].astype('category')\n",
    "df_train['contact']  = df_train[ 'contact'].astype('category')\n",
    "df_train['month']    = df_train[   'month'].astype('category')\n",
    "df_train['poutcome'] = df_train['poutcome'].astype('category')"
   ]
  },
  {
   "cell_type": "code",
   "execution_count": 99,
   "metadata": {},
   "outputs": [
    {
     "data": {
      "text/plain": [
       "(32950, 10)"
      ]
     },
     "execution_count": 99,
     "metadata": {},
     "output_type": "execute_result"
    }
   ],
   "source": [
    "df_train.shape"
   ]
  },
  {
   "cell_type": "markdown",
   "metadata": {},
   "source": [
    "### For the target column, change explicitly to 0 or 1"
   ]
  },
  {
   "cell_type": "code",
   "execution_count": null,
   "metadata": {},
   "outputs": [],
   "source": []
  },
  {
   "cell_type": "code",
   "execution_count": 9,
   "metadata": {},
   "outputs": [],
   "source": [
    "df_test['success'] =  df_test['success'].replace({'yes': 1, 'no': 0})\n",
    "df_train['success'] =  df_train['success'].replace({'yes': 1, 'no': 0})"
   ]
  },
  {
   "cell_type": "code",
   "execution_count": 10,
   "metadata": {},
   "outputs": [
    {
     "ename": "NameError",
     "evalue": "name 'df' is not defined",
     "output_type": "error",
     "traceback": [
      "\u001b[0;31m---------------------------------------------------------------------------\u001b[0m",
      "\u001b[0;31mNameError\u001b[0m                                 Traceback (most recent call last)",
      "\u001b[0;32m<ipython-input-10-671c9e2c7078>\u001b[0m in \u001b[0;36m<module>\u001b[0;34m\u001b[0m\n\u001b[0;32m----> 1\u001b[0;31m \u001b[0mdf\u001b[0m\u001b[0;34m.\u001b[0m\u001b[0msuccess\u001b[0m\u001b[0;34m.\u001b[0m\u001b[0mvalue_counts\u001b[0m\u001b[0;34m(\u001b[0m\u001b[0;34m)\u001b[0m\u001b[0;34m\u001b[0m\u001b[0;34m\u001b[0m\u001b[0m\n\u001b[0m",
      "\u001b[0;31mNameError\u001b[0m: name 'df' is not defined"
     ]
    }
   ],
   "source": [
    "df.success.value_counts()"
   ]
  },
  {
   "cell_type": "markdown",
   "metadata": {},
   "source": [
    "## And set the pandas index to match the postgres index"
   ]
  },
  {
   "cell_type": "code",
   "execution_count": 45,
   "metadata": {},
   "outputs": [],
   "source": [
    "df.index = df.bank_addl_id"
   ]
  },
  {
   "cell_type": "code",
   "execution_count": 11,
   "metadata": {},
   "outputs": [],
   "source": [
    "df_test.index = df_test.bank_addl_id"
   ]
  },
  {
   "cell_type": "code",
   "execution_count": 12,
   "metadata": {},
   "outputs": [],
   "source": [
    "df_train.index = df_train.bank_addl_id"
   ]
  },
  {
   "cell_type": "code",
   "execution_count": 46,
   "metadata": {},
   "outputs": [
    {
     "name": "stdout",
     "output_type": "stream",
     "text": [
      "<class 'pandas.core.frame.DataFrame'>\n",
      "Int64Index: 41188 entries, 1 to 41188\n",
      "Data columns (total 10 columns):\n",
      "job               41188 non-null category\n",
      "contact           41188 non-null category\n",
      "month             41188 non-null category\n",
      "poutcome          41188 non-null category\n",
      "previous          41188 non-null int64\n",
      "cons_price_idx    41188 non-null float64\n",
      "cons_conf_idx     41188 non-null float64\n",
      "euribor3m         41188 non-null float64\n",
      "success           41188 non-null int64\n",
      "bank_addl_id      41188 non-null int64\n",
      "dtypes: category(4), float64(3), int64(3)\n",
      "memory usage: 2.4 MB\n"
     ]
    }
   ],
   "source": [
    "df.info()"
   ]
  },
  {
   "cell_type": "markdown",
   "metadata": {},
   "source": [
    "# Split into train and test data"
   ]
  },
  {
   "cell_type": "code",
   "execution_count": 47,
   "metadata": {},
   "outputs": [],
   "source": [
    "y = df['success']\n",
    "X = df.drop(columns='success')"
   ]
  },
  {
   "cell_type": "code",
   "execution_count": 48,
   "metadata": {},
   "outputs": [],
   "source": [
    "X_train, X_test, y_train, y_test = train_test_split(X, y, test_size=.2, random_state=33)"
   ]
  },
  {
   "cell_type": "code",
   "execution_count": 15,
   "metadata": {},
   "outputs": [],
   "source": [
    "y_train = df_train['success']\n",
    "X_train = df_train.drop(columns='success')\n",
    "\n",
    "y_test = df_test['success']\n",
    "X_test = df_test.drop(columns='success')"
   ]
  },
  {
   "cell_type": "markdown",
   "metadata": {},
   "source": [
    "# Build a model "
   ]
  },
  {
   "cell_type": "markdown",
   "metadata": {},
   "source": [
    "## Preprocessing the inputs "
   ]
  },
  {
   "cell_type": "code",
   "execution_count": 16,
   "metadata": {},
   "outputs": [],
   "source": [
    "numerical = [ 'previous', 'cons_price_idx', 'cons_conf_idx', 'euribor3m' ]\n",
    "categorical = [ 'job', 'contact', 'month', 'poutcome' ]"
   ]
  },
  {
   "cell_type": "code",
   "execution_count": 17,
   "metadata": {},
   "outputs": [
    {
     "name": "stderr",
     "output_type": "stream",
     "text": [
      "/Users/jlc/anaconda3/lib/python3.6/site-packages/sklearn/preprocessing/data.py:625: DataConversionWarning: Data with input dtype int64, float64 were all converted to float64 by StandardScaler.\n",
      "  return self.partial_fit(X, y)\n",
      "/Users/jlc/anaconda3/lib/python3.6/site-packages/sklearn/base.py:462: DataConversionWarning: Data with input dtype int64, float64 were all converted to float64 by StandardScaler.\n",
      "  return self.fit(X, **fit_params).transform(X)\n",
      "/Users/jlc/anaconda3/lib/python3.6/site-packages/ipykernel_launcher.py:3: DataConversionWarning: Data with input dtype int64, float64 were all converted to float64 by StandardScaler.\n",
      "  This is separate from the ipykernel package so we can avoid doing imports until\n"
     ]
    }
   ],
   "source": [
    "standard = StandardScaler()\n",
    "X_train_scaled = standard.fit_transform(X_train[numerical])\n",
    "X_test_scaled  = standard.transform(X_test[numerical])"
   ]
  },
  {
   "cell_type": "code",
   "execution_count": 18,
   "metadata": {},
   "outputs": [],
   "source": [
    "X_train_dummies = pd.get_dummies(X_train[categorical], drop_first=True)\n",
    "X_test_dummies =  pd.get_dummies(X_test[categorical], drop_first=True)"
   ]
  },
  {
   "cell_type": "code",
   "execution_count": 19,
   "metadata": {},
   "outputs": [],
   "source": [
    "X_train_onehot = X_train_dummies.values\n",
    "X_test_onehot =  X_test_dummies.values"
   ]
  },
  {
   "cell_type": "code",
   "execution_count": 20,
   "metadata": {},
   "outputs": [],
   "source": [
    "X_train_prepped = np.concatenate([X_train_scaled, X_train_onehot], axis = 1)\n",
    "X_test_prepped  = np.concatenate([X_test_scaled, X_test_onehot], axis = 1)\n",
    "\n",
    "coef_names = numerical + list(X_train_dummies.columns)"
   ]
  },
  {
   "cell_type": "markdown",
   "metadata": {
    "toc-hr-collapsed": false
   },
   "source": [
    "# Run a model"
   ]
  },
  {
   "cell_type": "code",
   "execution_count": 21,
   "metadata": {},
   "outputs": [
    {
     "data": {
      "text/plain": [
       "0.8885280728376328"
      ]
     },
     "execution_count": 21,
     "metadata": {},
     "output_type": "execute_result"
    }
   ],
   "source": [
    "lr = LogisticRegressionCV(solver='lbfgs', cv=6, random_state=33, max_iter=250)\n",
    "lr.fit(X_train_prepped, y_train)\n",
    "lr.score(X_train_prepped, y_train)"
   ]
  },
  {
   "cell_type": "code",
   "execution_count": 24,
   "metadata": {},
   "outputs": [
    {
     "data": {
      "text/plain": [
       "array([1.00000000e-04, 7.74263683e-04, 5.99484250e-03, 4.64158883e-02,\n",
       "       3.59381366e-01, 2.78255940e+00, 2.15443469e+01, 1.66810054e+02,\n",
       "       1.29154967e+03, 1.00000000e+04])"
      ]
     },
     "execution_count": 24,
     "metadata": {},
     "output_type": "execute_result"
    }
   ],
   "source": [
    "lr.Cs_"
   ]
  },
  {
   "cell_type": "code",
   "execution_count": 110,
   "metadata": {},
   "outputs": [
    {
     "data": {
      "text/plain": [
       "Int64Index([    1,     2,     3,     4,     6,     7,     8,     9,    10,\n",
       "               11,\n",
       "            ...\n",
       "            41176, 41177, 41178, 41179, 41180, 41181, 41183, 41186, 41187,\n",
       "            41188],\n",
       "           dtype='int64', name='bank_addl_id', length=32950)"
      ]
     },
     "execution_count": 110,
     "metadata": {},
     "output_type": "execute_result"
    }
   ],
   "source": [
    "y_train.index"
   ]
  },
  {
   "cell_type": "code",
   "execution_count": 87,
   "metadata": {},
   "outputs": [
    {
     "data": {
      "text/plain": [
       "Int64Index([    5,    13,    34,    39,    41,    53,    66,    69,    73,\n",
       "               85,\n",
       "            ...\n",
       "            41162, 41164, 41168, 41171, 41173, 41174, 41175, 41182, 41184,\n",
       "            41185],\n",
       "           dtype='int64', name='bank_addl_id', length=8238)"
      ]
     },
     "execution_count": 87,
     "metadata": {},
     "output_type": "execute_result"
    }
   ],
   "source": [
    "y_train.index"
   ]
  },
  {
   "cell_type": "code",
   "execution_count": 55,
   "metadata": {},
   "outputs": [
    {
     "data": {
      "text/plain": [
       "(32950, 27)"
      ]
     },
     "execution_count": 55,
     "metadata": {},
     "output_type": "execute_result"
    }
   ],
   "source": [
    "X_train_prepped.shape"
   ]
  },
  {
   "cell_type": "code",
   "execution_count": null,
   "metadata": {},
   "outputs": [],
   "source": []
  },
  {
   "cell_type": "code",
   "execution_count": 113,
   "metadata": {},
   "outputs": [
    {
     "data": {
      "text/plain": [
       "array([-2.05578361])"
      ]
     },
     "execution_count": 113,
     "metadata": {},
     "output_type": "execute_result"
    }
   ],
   "source": [
    "lr.intercept_"
   ]
  },
  {
   "cell_type": "code",
   "execution_count": 114,
   "metadata": {},
   "outputs": [
    {
     "data": {
      "text/html": [
       "<div>\n",
       "<style scoped>\n",
       "    .dataframe tbody tr th:only-of-type {\n",
       "        vertical-align: middle;\n",
       "    }\n",
       "\n",
       "    .dataframe tbody tr th {\n",
       "        vertical-align: top;\n",
       "    }\n",
       "\n",
       "    .dataframe thead th {\n",
       "        text-align: right;\n",
       "    }\n",
       "</style>\n",
       "<table border=\"1\" class=\"dataframe\">\n",
       "  <thead>\n",
       "    <tr style=\"text-align: right;\">\n",
       "      <th></th>\n",
       "      <th>0</th>\n",
       "    </tr>\n",
       "  </thead>\n",
       "  <tbody>\n",
       "    <tr>\n",
       "      <th>previous</th>\n",
       "      <td>0.12909</td>\n",
       "    </tr>\n",
       "    <tr>\n",
       "      <th>cons_price_idx</th>\n",
       "      <td>-0.05777</td>\n",
       "    </tr>\n",
       "    <tr>\n",
       "      <th>cons_conf_idx</th>\n",
       "      <td>0.05514</td>\n",
       "    </tr>\n",
       "    <tr>\n",
       "      <th>euribor3m</th>\n",
       "      <td>-0.20481</td>\n",
       "    </tr>\n",
       "    <tr>\n",
       "      <th>job_blue-collar</th>\n",
       "      <td>-0.02480</td>\n",
       "    </tr>\n",
       "    <tr>\n",
       "      <th>job_entrepreneur</th>\n",
       "      <td>-0.00252</td>\n",
       "    </tr>\n",
       "    <tr>\n",
       "      <th>job_housemaid</th>\n",
       "      <td>-0.00086</td>\n",
       "    </tr>\n",
       "    <tr>\n",
       "      <th>job_management</th>\n",
       "      <td>-0.00103</td>\n",
       "    </tr>\n",
       "    <tr>\n",
       "      <th>job_retired</th>\n",
       "      <td>0.01577</td>\n",
       "    </tr>\n",
       "    <tr>\n",
       "      <th>job_self-employed</th>\n",
       "      <td>-0.00023</td>\n",
       "    </tr>\n",
       "    <tr>\n",
       "      <th>job_services</th>\n",
       "      <td>-0.00835</td>\n",
       "    </tr>\n",
       "    <tr>\n",
       "      <th>job_student</th>\n",
       "      <td>0.01093</td>\n",
       "    </tr>\n",
       "    <tr>\n",
       "      <th>job_technician</th>\n",
       "      <td>-0.00135</td>\n",
       "    </tr>\n",
       "    <tr>\n",
       "      <th>job_unemployed</th>\n",
       "      <td>0.00152</td>\n",
       "    </tr>\n",
       "    <tr>\n",
       "      <th>job_unknown</th>\n",
       "      <td>-0.00039</td>\n",
       "    </tr>\n",
       "    <tr>\n",
       "      <th>contact_telephone</th>\n",
       "      <td>-0.04532</td>\n",
       "    </tr>\n",
       "    <tr>\n",
       "      <th>month_aug</th>\n",
       "      <td>-0.00442</td>\n",
       "    </tr>\n",
       "    <tr>\n",
       "      <th>month_dec</th>\n",
       "      <td>0.00423</td>\n",
       "    </tr>\n",
       "    <tr>\n",
       "      <th>month_jul</th>\n",
       "      <td>-0.00068</td>\n",
       "    </tr>\n",
       "    <tr>\n",
       "      <th>month_jun</th>\n",
       "      <td>0.00495</td>\n",
       "    </tr>\n",
       "    <tr>\n",
       "      <th>month_mar</th>\n",
       "      <td>0.01473</td>\n",
       "    </tr>\n",
       "    <tr>\n",
       "      <th>month_may</th>\n",
       "      <td>-0.05105</td>\n",
       "    </tr>\n",
       "    <tr>\n",
       "      <th>month_nov</th>\n",
       "      <td>-0.00563</td>\n",
       "    </tr>\n",
       "    <tr>\n",
       "      <th>month_oct</th>\n",
       "      <td>0.01498</td>\n",
       "    </tr>\n",
       "    <tr>\n",
       "      <th>month_sep</th>\n",
       "      <td>0.01155</td>\n",
       "    </tr>\n",
       "    <tr>\n",
       "      <th>poutcome_nonexistent</th>\n",
       "      <td>-0.03456</td>\n",
       "    </tr>\n",
       "    <tr>\n",
       "      <th>poutcome_success</th>\n",
       "      <td>0.04687</td>\n",
       "    </tr>\n",
       "  </tbody>\n",
       "</table>\n",
       "</div>"
      ],
      "text/plain": [
       "                            0\n",
       "previous              0.12909\n",
       "cons_price_idx       -0.05777\n",
       "cons_conf_idx         0.05514\n",
       "euribor3m            -0.20481\n",
       "job_blue-collar      -0.02480\n",
       "job_entrepreneur     -0.00252\n",
       "job_housemaid        -0.00086\n",
       "job_management       -0.00103\n",
       "job_retired           0.01577\n",
       "job_self-employed    -0.00023\n",
       "job_services         -0.00835\n",
       "job_student           0.01093\n",
       "job_technician       -0.00135\n",
       "job_unemployed        0.00152\n",
       "job_unknown          -0.00039\n",
       "contact_telephone    -0.04532\n",
       "month_aug            -0.00442\n",
       "month_dec             0.00423\n",
       "month_jul            -0.00068\n",
       "month_jun             0.00495\n",
       "month_mar             0.01473\n",
       "month_may            -0.05105\n",
       "month_nov            -0.00563\n",
       "month_oct             0.01498\n",
       "month_sep             0.01155\n",
       "poutcome_nonexistent -0.03456\n",
       "poutcome_success      0.04687"
      ]
     },
     "execution_count": 114,
     "metadata": {},
     "output_type": "execute_result"
    }
   ],
   "source": [
    "coef_table = pd.DataFrame(index=coef_names, data=lr.coef_.reshape(-1,1)).round(decimals=5)\n",
    "coef_table"
   ]
  },
  {
   "cell_type": "code",
   "execution_count": 58,
   "metadata": {},
   "outputs": [],
   "source": [
    "y_predict = lr.predict(X_train_prepped)"
   ]
  },
  {
   "cell_type": "code",
   "execution_count": 64,
   "metadata": {},
   "outputs": [
    {
     "data": {
      "text/html": [
       "<div>\n",
       "<style scoped>\n",
       "    .dataframe tbody tr th:only-of-type {\n",
       "        vertical-align: middle;\n",
       "    }\n",
       "\n",
       "    .dataframe tbody tr th {\n",
       "        vertical-align: top;\n",
       "    }\n",
       "\n",
       "    .dataframe thead th {\n",
       "        text-align: right;\n",
       "    }\n",
       "</style>\n",
       "<table border=\"1\" class=\"dataframe\">\n",
       "  <thead>\n",
       "    <tr style=\"text-align: right;\">\n",
       "      <th></th>\n",
       "      <th>count</th>\n",
       "      <th>mean</th>\n",
       "      <th>std</th>\n",
       "      <th>min</th>\n",
       "      <th>25%</th>\n",
       "      <th>50%</th>\n",
       "      <th>75%</th>\n",
       "      <th>max</th>\n",
       "    </tr>\n",
       "  </thead>\n",
       "  <tbody>\n",
       "    <tr>\n",
       "      <th>previous</th>\n",
       "      <td>32950.0</td>\n",
       "      <td>7.541868e-16</td>\n",
       "      <td>1.000015</td>\n",
       "      <td>-0.351179</td>\n",
       "      <td>-0.351179</td>\n",
       "      <td>-0.351179</td>\n",
       "      <td>-0.351179</td>\n",
       "      <td>11.820642</td>\n",
       "    </tr>\n",
       "    <tr>\n",
       "      <th>cons_price_idx</th>\n",
       "      <td>32950.0</td>\n",
       "      <td>5.251422e-15</td>\n",
       "      <td>1.000015</td>\n",
       "      <td>-2.382414</td>\n",
       "      <td>-0.869377</td>\n",
       "      <td>0.297427</td>\n",
       "      <td>0.721562</td>\n",
       "      <td>2.059751</td>\n",
       "    </tr>\n",
       "    <tr>\n",
       "      <th>cons_conf_idx</th>\n",
       "      <td>32950.0</td>\n",
       "      <td>2.699611e-15</td>\n",
       "      <td>1.000015</td>\n",
       "      <td>-2.235469</td>\n",
       "      <td>-0.477394</td>\n",
       "      <td>-0.282053</td>\n",
       "      <td>0.889997</td>\n",
       "      <td>2.951936</td>\n",
       "    </tr>\n",
       "    <tr>\n",
       "      <th>euribor3m</th>\n",
       "      <td>32950.0</td>\n",
       "      <td>8.584265e-17</td>\n",
       "      <td>1.000015</td>\n",
       "      <td>-1.728835</td>\n",
       "      <td>-1.318812</td>\n",
       "      <td>0.709933</td>\n",
       "      <td>0.769992</td>\n",
       "      <td>0.818502</td>\n",
       "    </tr>\n",
       "    <tr>\n",
       "      <th>job_blue-collar</th>\n",
       "      <td>32950.0</td>\n",
       "      <td>2.264340e-01</td>\n",
       "      <td>0.418530</td>\n",
       "      <td>0.000000</td>\n",
       "      <td>0.000000</td>\n",
       "      <td>0.000000</td>\n",
       "      <td>0.000000</td>\n",
       "      <td>1.000000</td>\n",
       "    </tr>\n",
       "    <tr>\n",
       "      <th>job_entrepreneur</th>\n",
       "      <td>32950.0</td>\n",
       "      <td>3.465857e-02</td>\n",
       "      <td>0.182916</td>\n",
       "      <td>0.000000</td>\n",
       "      <td>0.000000</td>\n",
       "      <td>0.000000</td>\n",
       "      <td>0.000000</td>\n",
       "      <td>1.000000</td>\n",
       "    </tr>\n",
       "    <tr>\n",
       "      <th>job_housemaid</th>\n",
       "      <td>32950.0</td>\n",
       "      <td>2.619120e-02</td>\n",
       "      <td>0.159706</td>\n",
       "      <td>0.000000</td>\n",
       "      <td>0.000000</td>\n",
       "      <td>0.000000</td>\n",
       "      <td>0.000000</td>\n",
       "      <td>1.000000</td>\n",
       "    </tr>\n",
       "    <tr>\n",
       "      <th>job_management</th>\n",
       "      <td>32950.0</td>\n",
       "      <td>7.071320e-02</td>\n",
       "      <td>0.256349</td>\n",
       "      <td>0.000000</td>\n",
       "      <td>0.000000</td>\n",
       "      <td>0.000000</td>\n",
       "      <td>0.000000</td>\n",
       "      <td>1.000000</td>\n",
       "    </tr>\n",
       "    <tr>\n",
       "      <th>job_retired</th>\n",
       "      <td>32950.0</td>\n",
       "      <td>4.157815e-02</td>\n",
       "      <td>0.199626</td>\n",
       "      <td>0.000000</td>\n",
       "      <td>0.000000</td>\n",
       "      <td>0.000000</td>\n",
       "      <td>0.000000</td>\n",
       "      <td>1.000000</td>\n",
       "    </tr>\n",
       "    <tr>\n",
       "      <th>job_self-employed</th>\n",
       "      <td>32950.0</td>\n",
       "      <td>3.423369e-02</td>\n",
       "      <td>0.181832</td>\n",
       "      <td>0.000000</td>\n",
       "      <td>0.000000</td>\n",
       "      <td>0.000000</td>\n",
       "      <td>0.000000</td>\n",
       "      <td>1.000000</td>\n",
       "    </tr>\n",
       "    <tr>\n",
       "      <th>job_services</th>\n",
       "      <td>32950.0</td>\n",
       "      <td>9.544765e-02</td>\n",
       "      <td>0.293837</td>\n",
       "      <td>0.000000</td>\n",
       "      <td>0.000000</td>\n",
       "      <td>0.000000</td>\n",
       "      <td>0.000000</td>\n",
       "      <td>1.000000</td>\n",
       "    </tr>\n",
       "    <tr>\n",
       "      <th>job_student</th>\n",
       "      <td>32950.0</td>\n",
       "      <td>2.157815e-02</td>\n",
       "      <td>0.145304</td>\n",
       "      <td>0.000000</td>\n",
       "      <td>0.000000</td>\n",
       "      <td>0.000000</td>\n",
       "      <td>0.000000</td>\n",
       "      <td>1.000000</td>\n",
       "    </tr>\n",
       "    <tr>\n",
       "      <th>job_technician</th>\n",
       "      <td>32950.0</td>\n",
       "      <td>1.641882e-01</td>\n",
       "      <td>0.370452</td>\n",
       "      <td>0.000000</td>\n",
       "      <td>0.000000</td>\n",
       "      <td>0.000000</td>\n",
       "      <td>0.000000</td>\n",
       "      <td>1.000000</td>\n",
       "    </tr>\n",
       "    <tr>\n",
       "      <th>job_unemployed</th>\n",
       "      <td>32950.0</td>\n",
       "      <td>2.449165e-02</td>\n",
       "      <td>0.154572</td>\n",
       "      <td>0.000000</td>\n",
       "      <td>0.000000</td>\n",
       "      <td>0.000000</td>\n",
       "      <td>0.000000</td>\n",
       "      <td>1.000000</td>\n",
       "    </tr>\n",
       "    <tr>\n",
       "      <th>job_unknown</th>\n",
       "      <td>32950.0</td>\n",
       "      <td>8.072838e-03</td>\n",
       "      <td>0.089487</td>\n",
       "      <td>0.000000</td>\n",
       "      <td>0.000000</td>\n",
       "      <td>0.000000</td>\n",
       "      <td>0.000000</td>\n",
       "      <td>1.000000</td>\n",
       "    </tr>\n",
       "    <tr>\n",
       "      <th>contact_telephone</th>\n",
       "      <td>32950.0</td>\n",
       "      <td>3.657663e-01</td>\n",
       "      <td>0.481652</td>\n",
       "      <td>0.000000</td>\n",
       "      <td>0.000000</td>\n",
       "      <td>0.000000</td>\n",
       "      <td>1.000000</td>\n",
       "      <td>1.000000</td>\n",
       "    </tr>\n",
       "    <tr>\n",
       "      <th>month_aug</th>\n",
       "      <td>32950.0</td>\n",
       "      <td>1.502276e-01</td>\n",
       "      <td>0.357300</td>\n",
       "      <td>0.000000</td>\n",
       "      <td>0.000000</td>\n",
       "      <td>0.000000</td>\n",
       "      <td>0.000000</td>\n",
       "      <td>1.000000</td>\n",
       "    </tr>\n",
       "    <tr>\n",
       "      <th>month_dec</th>\n",
       "      <td>32950.0</td>\n",
       "      <td>4.673748e-03</td>\n",
       "      <td>0.068206</td>\n",
       "      <td>0.000000</td>\n",
       "      <td>0.000000</td>\n",
       "      <td>0.000000</td>\n",
       "      <td>0.000000</td>\n",
       "      <td>1.000000</td>\n",
       "    </tr>\n",
       "    <tr>\n",
       "      <th>month_jul</th>\n",
       "      <td>32950.0</td>\n",
       "      <td>1.736874e-01</td>\n",
       "      <td>0.378846</td>\n",
       "      <td>0.000000</td>\n",
       "      <td>0.000000</td>\n",
       "      <td>0.000000</td>\n",
       "      <td>0.000000</td>\n",
       "      <td>1.000000</td>\n",
       "    </tr>\n",
       "    <tr>\n",
       "      <th>month_jun</th>\n",
       "      <td>32950.0</td>\n",
       "      <td>1.298331e-01</td>\n",
       "      <td>0.336125</td>\n",
       "      <td>0.000000</td>\n",
       "      <td>0.000000</td>\n",
       "      <td>0.000000</td>\n",
       "      <td>0.000000</td>\n",
       "      <td>1.000000</td>\n",
       "    </tr>\n",
       "    <tr>\n",
       "      <th>month_mar</th>\n",
       "      <td>32950.0</td>\n",
       "      <td>1.298938e-02</td>\n",
       "      <td>0.113230</td>\n",
       "      <td>0.000000</td>\n",
       "      <td>0.000000</td>\n",
       "      <td>0.000000</td>\n",
       "      <td>0.000000</td>\n",
       "      <td>1.000000</td>\n",
       "    </tr>\n",
       "    <tr>\n",
       "      <th>month_may</th>\n",
       "      <td>32950.0</td>\n",
       "      <td>3.341426e-01</td>\n",
       "      <td>0.471697</td>\n",
       "      <td>0.000000</td>\n",
       "      <td>0.000000</td>\n",
       "      <td>0.000000</td>\n",
       "      <td>1.000000</td>\n",
       "      <td>1.000000</td>\n",
       "    </tr>\n",
       "    <tr>\n",
       "      <th>month_nov</th>\n",
       "      <td>32950.0</td>\n",
       "      <td>1.002124e-01</td>\n",
       "      <td>0.300288</td>\n",
       "      <td>0.000000</td>\n",
       "      <td>0.000000</td>\n",
       "      <td>0.000000</td>\n",
       "      <td>0.000000</td>\n",
       "      <td>1.000000</td>\n",
       "    </tr>\n",
       "    <tr>\n",
       "      <th>month_oct</th>\n",
       "      <td>32950.0</td>\n",
       "      <td>1.702580e-02</td>\n",
       "      <td>0.129369</td>\n",
       "      <td>0.000000</td>\n",
       "      <td>0.000000</td>\n",
       "      <td>0.000000</td>\n",
       "      <td>0.000000</td>\n",
       "      <td>1.000000</td>\n",
       "    </tr>\n",
       "    <tr>\n",
       "      <th>month_sep</th>\n",
       "      <td>32950.0</td>\n",
       "      <td>1.399090e-02</td>\n",
       "      <td>0.117455</td>\n",
       "      <td>0.000000</td>\n",
       "      <td>0.000000</td>\n",
       "      <td>0.000000</td>\n",
       "      <td>0.000000</td>\n",
       "      <td>1.000000</td>\n",
       "    </tr>\n",
       "    <tr>\n",
       "      <th>poutcome_nonexistent</th>\n",
       "      <td>32950.0</td>\n",
       "      <td>8.627618e-01</td>\n",
       "      <td>0.344104</td>\n",
       "      <td>0.000000</td>\n",
       "      <td>1.000000</td>\n",
       "      <td>1.000000</td>\n",
       "      <td>1.000000</td>\n",
       "      <td>1.000000</td>\n",
       "    </tr>\n",
       "    <tr>\n",
       "      <th>poutcome_success</th>\n",
       "      <td>32950.0</td>\n",
       "      <td>3.347496e-02</td>\n",
       "      <td>0.179876</td>\n",
       "      <td>0.000000</td>\n",
       "      <td>0.000000</td>\n",
       "      <td>0.000000</td>\n",
       "      <td>0.000000</td>\n",
       "      <td>1.000000</td>\n",
       "    </tr>\n",
       "  </tbody>\n",
       "</table>\n",
       "</div>"
      ],
      "text/plain": [
       "                        count          mean       std       min       25%  \\\n",
       "previous              32950.0  7.541868e-16  1.000015 -0.351179 -0.351179   \n",
       "cons_price_idx        32950.0  5.251422e-15  1.000015 -2.382414 -0.869377   \n",
       "cons_conf_idx         32950.0  2.699611e-15  1.000015 -2.235469 -0.477394   \n",
       "euribor3m             32950.0  8.584265e-17  1.000015 -1.728835 -1.318812   \n",
       "job_blue-collar       32950.0  2.264340e-01  0.418530  0.000000  0.000000   \n",
       "job_entrepreneur      32950.0  3.465857e-02  0.182916  0.000000  0.000000   \n",
       "job_housemaid         32950.0  2.619120e-02  0.159706  0.000000  0.000000   \n",
       "job_management        32950.0  7.071320e-02  0.256349  0.000000  0.000000   \n",
       "job_retired           32950.0  4.157815e-02  0.199626  0.000000  0.000000   \n",
       "job_self-employed     32950.0  3.423369e-02  0.181832  0.000000  0.000000   \n",
       "job_services          32950.0  9.544765e-02  0.293837  0.000000  0.000000   \n",
       "job_student           32950.0  2.157815e-02  0.145304  0.000000  0.000000   \n",
       "job_technician        32950.0  1.641882e-01  0.370452  0.000000  0.000000   \n",
       "job_unemployed        32950.0  2.449165e-02  0.154572  0.000000  0.000000   \n",
       "job_unknown           32950.0  8.072838e-03  0.089487  0.000000  0.000000   \n",
       "contact_telephone     32950.0  3.657663e-01  0.481652  0.000000  0.000000   \n",
       "month_aug             32950.0  1.502276e-01  0.357300  0.000000  0.000000   \n",
       "month_dec             32950.0  4.673748e-03  0.068206  0.000000  0.000000   \n",
       "month_jul             32950.0  1.736874e-01  0.378846  0.000000  0.000000   \n",
       "month_jun             32950.0  1.298331e-01  0.336125  0.000000  0.000000   \n",
       "month_mar             32950.0  1.298938e-02  0.113230  0.000000  0.000000   \n",
       "month_may             32950.0  3.341426e-01  0.471697  0.000000  0.000000   \n",
       "month_nov             32950.0  1.002124e-01  0.300288  0.000000  0.000000   \n",
       "month_oct             32950.0  1.702580e-02  0.129369  0.000000  0.000000   \n",
       "month_sep             32950.0  1.399090e-02  0.117455  0.000000  0.000000   \n",
       "poutcome_nonexistent  32950.0  8.627618e-01  0.344104  0.000000  1.000000   \n",
       "poutcome_success      32950.0  3.347496e-02  0.179876  0.000000  0.000000   \n",
       "\n",
       "                           50%       75%        max  \n",
       "previous             -0.351179 -0.351179  11.820642  \n",
       "cons_price_idx        0.297427  0.721562   2.059751  \n",
       "cons_conf_idx        -0.282053  0.889997   2.951936  \n",
       "euribor3m             0.709933  0.769992   0.818502  \n",
       "job_blue-collar       0.000000  0.000000   1.000000  \n",
       "job_entrepreneur      0.000000  0.000000   1.000000  \n",
       "job_housemaid         0.000000  0.000000   1.000000  \n",
       "job_management        0.000000  0.000000   1.000000  \n",
       "job_retired           0.000000  0.000000   1.000000  \n",
       "job_self-employed     0.000000  0.000000   1.000000  \n",
       "job_services          0.000000  0.000000   1.000000  \n",
       "job_student           0.000000  0.000000   1.000000  \n",
       "job_technician        0.000000  0.000000   1.000000  \n",
       "job_unemployed        0.000000  0.000000   1.000000  \n",
       "job_unknown           0.000000  0.000000   1.000000  \n",
       "contact_telephone     0.000000  1.000000   1.000000  \n",
       "month_aug             0.000000  0.000000   1.000000  \n",
       "month_dec             0.000000  0.000000   1.000000  \n",
       "month_jul             0.000000  0.000000   1.000000  \n",
       "month_jun             0.000000  0.000000   1.000000  \n",
       "month_mar             0.000000  0.000000   1.000000  \n",
       "month_may             0.000000  1.000000   1.000000  \n",
       "month_nov             0.000000  0.000000   1.000000  \n",
       "month_oct             0.000000  0.000000   1.000000  \n",
       "month_sep             0.000000  0.000000   1.000000  \n",
       "poutcome_nonexistent  1.000000  1.000000   1.000000  \n",
       "poutcome_success      0.000000  0.000000   1.000000  "
      ]
     },
     "execution_count": 64,
     "metadata": {},
     "output_type": "execute_result"
    }
   ],
   "source": [
    "pd.DataFrame(data=X_train_prepped, columns=coef_names).describe().T"
   ]
  },
  {
   "cell_type": "code",
   "execution_count": 59,
   "metadata": {},
   "outputs": [],
   "source": [
    "probs = pd.DataFrame(lr.predict_proba(X_train_prepped))"
   ]
  },
  {
   "cell_type": "markdown",
   "metadata": {},
   "source": [
    "# Analyze metrics \n",
    "\n",
    "Due to the unbalanced classes, just predicting zeroes should be a very good prediction, so that will be the \n",
    "model to beat for the minimum viable project."
   ]
  },
  {
   "cell_type": "markdown",
   "metadata": {},
   "source": [
    "## Accuracy"
   ]
  },
  {
   "cell_type": "code",
   "execution_count": 60,
   "metadata": {},
   "outputs": [
    {
     "data": {
      "text/plain": [
       "0.8991198786039454"
      ]
     },
     "execution_count": 60,
     "metadata": {},
     "output_type": "execute_result"
    }
   ],
   "source": [
    "metrics.accuracy_score(y_predict, y_train)"
   ]
  },
  {
   "cell_type": "code",
   "execution_count": 61,
   "metadata": {},
   "outputs": [],
   "source": [
    "just_guess_zeroes = np.zeros(len(y_train))"
   ]
  },
  {
   "cell_type": "code",
   "execution_count": 62,
   "metadata": {},
   "outputs": [
    {
     "data": {
      "text/plain": [
       "0.8874962063732929"
      ]
     },
     "execution_count": 62,
     "metadata": {},
     "output_type": "execute_result"
    }
   ],
   "source": [
    "metrics.accuracy_score(just_guess_zeroes, y_train)"
   ]
  },
  {
   "cell_type": "markdown",
   "metadata": {},
   "source": [
    "## Confusion matrix"
   ]
  },
  {
   "cell_type": "code",
   "execution_count": 26,
   "metadata": {},
   "outputs": [
    {
     "data": {
      "text/html": [
       "<div>\n",
       "<style scoped>\n",
       "    .dataframe tbody tr th:only-of-type {\n",
       "        vertical-align: middle;\n",
       "    }\n",
       "\n",
       "    .dataframe tbody tr th {\n",
       "        vertical-align: top;\n",
       "    }\n",
       "\n",
       "    .dataframe thead th {\n",
       "        text-align: right;\n",
       "    }\n",
       "</style>\n",
       "<table border=\"1\" class=\"dataframe\">\n",
       "  <thead>\n",
       "    <tr style=\"text-align: right;\">\n",
       "      <th></th>\n",
       "      <th>predict_neg</th>\n",
       "      <th>predict_pos</th>\n",
       "    </tr>\n",
       "  </thead>\n",
       "  <tbody>\n",
       "    <tr>\n",
       "      <th>actual_neg</th>\n",
       "      <td>28822</td>\n",
       "      <td>421</td>\n",
       "    </tr>\n",
       "    <tr>\n",
       "      <th>actual_pos</th>\n",
       "      <td>2903</td>\n",
       "      <td>804</td>\n",
       "    </tr>\n",
       "  </tbody>\n",
       "</table>\n",
       "</div>"
      ],
      "text/plain": [
       "            predict_neg  predict_pos\n",
       "actual_neg        28822          421\n",
       "actual_pos         2903          804"
      ]
     },
     "execution_count": 26,
     "metadata": {},
     "output_type": "execute_result"
    }
   ],
   "source": [
    "cm = metrics.confusion_matrix(y_train, y_predict)\n",
    "pd.DataFrame(index=['actual_neg', 'actual_pos'], columns=['predict_neg', 'predict_pos'], data=cm)"
   ]
  },
  {
   "cell_type": "markdown",
   "metadata": {},
   "source": [
    "This is not a good result -- the actual_positives are far more likely to be \n",
    "predicted as negative, perhaps due to the unbalanced classes. Of course, the just\n",
    "guess zeros model is worse! "
   ]
  },
  {
   "cell_type": "code",
   "execution_count": 27,
   "metadata": {},
   "outputs": [
    {
     "data": {
      "text/html": [
       "<div>\n",
       "<style scoped>\n",
       "    .dataframe tbody tr th:only-of-type {\n",
       "        vertical-align: middle;\n",
       "    }\n",
       "\n",
       "    .dataframe tbody tr th {\n",
       "        vertical-align: top;\n",
       "    }\n",
       "\n",
       "    .dataframe thead th {\n",
       "        text-align: right;\n",
       "    }\n",
       "</style>\n",
       "<table border=\"1\" class=\"dataframe\">\n",
       "  <thead>\n",
       "    <tr style=\"text-align: right;\">\n",
       "      <th></th>\n",
       "      <th>zero_neg</th>\n",
       "      <th>zero_pos</th>\n",
       "    </tr>\n",
       "  </thead>\n",
       "  <tbody>\n",
       "    <tr>\n",
       "      <th>actual_neg</th>\n",
       "      <td>29243</td>\n",
       "      <td>0</td>\n",
       "    </tr>\n",
       "    <tr>\n",
       "      <th>actual_pos</th>\n",
       "      <td>3707</td>\n",
       "      <td>0</td>\n",
       "    </tr>\n",
       "  </tbody>\n",
       "</table>\n",
       "</div>"
      ],
      "text/plain": [
       "            zero_neg  zero_pos\n",
       "actual_neg     29243         0\n",
       "actual_pos      3707         0"
      ]
     },
     "execution_count": 27,
     "metadata": {},
     "output_type": "execute_result"
    }
   ],
   "source": [
    "cm = metrics.confusion_matrix(y_train, just_guess_zeroes)\n",
    "pd.DataFrame(index=['actual_neg', 'actual_pos'], columns=['zero_neg', 'zero_pos'], data=cm)"
   ]
  },
  {
   "cell_type": "markdown",
   "metadata": {},
   "source": [
    "## Classification Report\n",
    "\n",
    "__micro__:  Calculate metrics globally by counting the total true positives, false negatives and false positives.\n",
    "\n",
    "__macro__:  Calculate metrics for each label, and find their unweighted mean. This does not take label imbalance into account.\n",
    "\n",
    "__weighted__:  Calculate metrics for each label, and find their average weighted by support (the number of true instances for each label). This alters ‘macro’ to account for label imbalance; it can result in an F-score that is not between precision and recall.\n"
   ]
  },
  {
   "cell_type": "code",
   "execution_count": 28,
   "metadata": {},
   "outputs": [
    {
     "name": "stdout",
     "output_type": "stream",
     "text": [
      "              precision    recall  f1-score   support\n",
      "\n",
      "           0       0.91      0.99      0.95     29243\n",
      "           1       0.66      0.22      0.33      3707\n",
      "\n",
      "   micro avg       0.90      0.90      0.90     32950\n",
      "   macro avg       0.78      0.60      0.64     32950\n",
      "weighted avg       0.88      0.90      0.88     32950\n",
      "\n"
     ]
    }
   ],
   "source": [
    "print(metrics.classification_report(y_train, y_predict))"
   ]
  },
  {
   "cell_type": "markdown",
   "metadata": {},
   "source": [
    "__precision__:  What percent of what the model assigned label (0,1) is correctly labeled? \n",
    "- The just_guess_zeroes model is 89% precision for the 0 case. 89% of what's labeled 0 is actually a zero. \n",
    "Precision is undefined for the success case as there are no 1 predictions.\n",
    "\n",
    "__recall__: What percent of the (0,1) population is correctly labeled? \n",
    "- The just_guess_zeroes model has 100% recall for the 0 label - all the 0 population is correctly labeled zero. \n",
    "It has 0% recall for the 1 label - all the 1 population in the test_y set is incorrectly labeled."
   ]
  },
  {
   "cell_type": "code",
   "execution_count": 29,
   "metadata": {},
   "outputs": [
    {
     "name": "stdout",
     "output_type": "stream",
     "text": [
      "              precision    recall  f1-score   support\n",
      "\n",
      "           0       0.89      1.00      0.94     29243\n",
      "           1       0.00      0.00      0.00      3707\n",
      "\n",
      "   micro avg       0.89      0.89      0.89     32950\n",
      "   macro avg       0.44      0.50      0.47     32950\n",
      "weighted avg       0.79      0.89      0.83     32950\n",
      "\n"
     ]
    },
    {
     "name": "stderr",
     "output_type": "stream",
     "text": [
      "/Users/jlc/anaconda3/lib/python3.6/site-packages/sklearn/metrics/classification.py:1143: UndefinedMetricWarning: Precision and F-score are ill-defined and being set to 0.0 in labels with no predicted samples.\n",
      "  'precision', 'predicted', average, warn_for)\n",
      "/Users/jlc/anaconda3/lib/python3.6/site-packages/sklearn/metrics/classification.py:1143: UndefinedMetricWarning: Precision and F-score are ill-defined and being set to 0.0 in labels with no predicted samples.\n",
      "  'precision', 'predicted', average, warn_for)\n",
      "/Users/jlc/anaconda3/lib/python3.6/site-packages/sklearn/metrics/classification.py:1143: UndefinedMetricWarning: Precision and F-score are ill-defined and being set to 0.0 in labels with no predicted samples.\n",
      "  'precision', 'predicted', average, warn_for)\n"
     ]
    }
   ],
   "source": [
    "print(metrics.classification_report(y_train, just_guess_zeroes))"
   ]
  },
  {
   "cell_type": "markdown",
   "metadata": {},
   "source": [
    "## ROC Curves"
   ]
  },
  {
   "cell_type": "code",
   "execution_count": 30,
   "metadata": {},
   "outputs": [
    {
     "data": {
      "text/plain": [
       "<matplotlib.legend.Legend at 0x1a25a15e10>"
      ]
     },
     "execution_count": 30,
     "metadata": {},
     "output_type": "execute_result"
    },
    {
     "data": {
      "image/png": "[encoded data removed]",
      "text/plain": [
       "<Figure size 432x288 with 1 Axes>"
      ]
     },
     "metadata": {
      "needs_background": "light"
     },
     "output_type": "display_data"
    }
   ],
   "source": [
    "fpr, tpr, thresholds = metrics.roc_curve(y_train,  probs.loc[:,1], pos_label=1)\n",
    "plt.plot(fpr, tpr, label='model')\n",
    "plt.xlabel(\"False Positive Rate\")\n",
    "plt.ylabel(\"True Positive Rate\")\n",
    "\n",
    "fpr1, tpr1, _ = metrics.roc_curve(y_train, y_predict)\n",
    "plt.plot(fpr1, tpr1, label='untuned')\n",
    "\n",
    "fpr0, tpr0, thresholds0 = metrics.roc_curve(y_train, just_guess_zeroes, pos_label=1)\n",
    "plt.plot(fpr0, tpr0,label='zeroes')\n",
    "plt.legend(loc=4)"
   ]
  },
  {
   "cell_type": "code",
   "execution_count": 31,
   "metadata": {},
   "outputs": [
    {
     "data": {
      "text/plain": [
       "<matplotlib.legend.Legend at 0x1a26fdc0b8>"
      ]
     },
     "execution_count": 31,
     "metadata": {},
     "output_type": "execute_result"
    },
    {
     "data": {
      "image/png": "[encoded data removed]",
      "text/plain": [
       "<Figure size 432x288 with 1 Axes>"
      ]
     },
     "metadata": {
      "needs_background": "light"
     },
     "output_type": "display_data"
    }
   ],
   "source": [
    "precision, recall, thresholds = metrics.precision_recall_curve(\n",
    "    y_train, lr.predict_proba(X_train_prepped)[:,1], pos_label=1)\n",
    "plt.plot(thresholds, recall[:-1], label='recall')\n",
    "plt.plot(thresholds, precision[:-1], label='precision')\n",
    "plt.xlabel(\"thresholds\")\n",
    "#fpr0, tpr0, thresholds0 = metrics.roc_curve(y_train, just_guess_zeroes)\n",
    "#plt.plot(fpr0, tpr0,label='zeroes')\n",
    "plt.legend(loc=4)"
   ]
  },
  {
   "cell_type": "code",
   "execution_count": 32,
   "metadata": {},
   "outputs": [
    {
     "name": "stdout",
     "output_type": "stream",
     "text": [
      "Model ROC AUC 0.7840712476493329\n",
      "Zeroes ROC AUC 0.5\n"
     ]
    }
   ],
   "source": [
    "# And the area under the curve for the model and \n",
    "# the all-zeroes case\n",
    "\n",
    "roc_auc = metrics.auc(fpr, tpr)\n",
    "print(\"Model ROC AUC\", roc_auc)\n",
    "\n",
    "roc_auc = metrics.auc(fpr0, tpr0)\n",
    "print(\"Zeroes ROC AUC\", roc_auc)"
   ]
  },
  {
   "cell_type": "raw",
   "metadata": {},
   "source": [
    "Things to try:\n",
    "\n",
    "1. How do the missed positives vary from the general population?\n",
    "2. Try some unbalanced classes fixes\n",
    "3. Try another model type"
   ]
  },
  {
   "cell_type": "markdown",
   "metadata": {},
   "source": [
    "# How do the missed positives vary from the positive population? \n"
   ]
  },
  {
   "cell_type": "code",
   "execution_count": 33,
   "metadata": {},
   "outputs": [],
   "source": [
    "y_predict = pd.Series(data=y_predict, index=y_train.index)\n",
    "false_negative_ids = [ indx for indx in y_train.index if y_train[indx] == 1 and y_predict[indx] == 0 ] \n",
    "in_statement = 'bank_addl_id in ( ' + \", \".join([str(indx) for indx in false_negative_ids]) + \")\""
   ]
  },
  {
   "cell_type": "code",
   "execution_count": 34,
   "metadata": {},
   "outputs": [
    {
     "name": "stdout",
     "output_type": "stream",
     "text": [
      " * postgresql://localhost/bankcalls\n",
      "4 rows affected.\n",
      " * postgresql://localhost/bankcalls\n",
      "4 rows affected.\n",
      " * postgresql://localhost/bankcalls\n",
      "8 rows affected.\n",
      " * postgresql://localhost/bankcalls\n",
      "8 rows affected.\n",
      " * postgresql://localhost/bankcalls\n",
      "2 rows affected.\n",
      " * postgresql://localhost/bankcalls\n",
      "2 rows affected.\n",
      " * postgresql://localhost/bankcalls\n",
      "3 rows affected.\n",
      " * postgresql://localhost/bankcalls\n",
      "3 rows affected.\n",
      " * postgresql://localhost/bankcalls\n",
      "3 rows affected.\n",
      " * postgresql://localhost/bankcalls\n",
      "3 rows affected.\n",
      " * postgresql://localhost/bankcalls\n",
      "5 rows affected.\n",
      " * postgresql://localhost/bankcalls\n",
      "5 rows affected.\n"
     ]
    },
    {
     "data": {
      "image/png": "[encoded data removed]",
      "text/plain": [
       "<Figure size 432x288 with 1 Axes>"
      ]
     },
     "metadata": {
      "needs_background": "light"
     },
     "output_type": "display_data"
    },
    {
     "data": {
      "image/png": "[encoded data removed]",
      "text/plain": [
       "<Figure size 432x288 with 1 Axes>"
      ]
     },
     "metadata": {
      "needs_background": "light"
     },
     "output_type": "display_data"
    },
    {
     "data": {
      "image/png": "[encoded data removed]",
      "text/plain": [
       "<Figure size 432x288 with 1 Axes>"
      ]
     },
     "metadata": {
      "needs_background": "light"
     },
     "output_type": "display_data"
    },
    {
     "data": {
      "image/png": "[encoded data removed]",
      "text/plain": [
       "<Figure size 432x288 with 1 Axes>"
      ]
     },
     "metadata": {
      "needs_background": "light"
     },
     "output_type": "display_data"
    },
    {
     "data": {
      "image/png": "[encoded data removed]",
      "text/plain": [
       "<Figure size 432x288 with 1 Axes>"
      ]
     },
     "metadata": {
      "needs_background": "light"
     },
     "output_type": "display_data"
    },
    {
     "data": {
      "image/png": "[encoded data removed]",
      "text/plain": [
       "<Figure size 432x288 with 1 Axes>"
      ]
     },
     "metadata": {
      "needs_background": "light"
     },
     "output_type": "display_data"
    }
   ],
   "source": [
    "def analyze_categorical_false_negative(col, where_stmt):\n",
    "    # sql the sums for the general positive population\n",
    "    pop = %sql select $col, count($col) general_count from bank_addl where success = 'yes' group by $col;\n",
    "    pop['general_percent'] = (100.0 * pop.general_count) /  np.sum(pop.general_count)\n",
    "    pop.index = pop[col]\n",
    "    \n",
    "    # sql the sums for the false negative population\n",
    "    fneg = %sql select $col, count($col) fneg_count from bank_addl col where $where_stmt group by $col;\n",
    "    fneg['fneg_percent'] = (100.0 * fneg.fneg_count) /  np.sum(fneg.fneg_count)\n",
    "    fneg.index = fneg[col]\n",
    "    \n",
    "    # join into one dataframe\n",
    "    data = pd.concat([pop, fneg], axis=1)\n",
    "    data = data[[col, 'general_percent', 'fneg_percent']]\n",
    "    data.plot.bar().set_title(col)\n",
    "    \n",
    "    \n",
    "analyze_categorical_false_negative('marital', in_statement)\n",
    "analyze_categorical_false_negative('education', in_statement)\n",
    "analyze_categorical_false_negative('in_default', in_statement)\n",
    "analyze_categorical_false_negative('housing', in_statement)\n",
    "analyze_categorical_false_negative('loan', in_statement)\n",
    "analyze_categorical_false_negative('day_of_week', in_statement)\n"
   ]
  },
  {
   "cell_type": "code",
   "execution_count": 36,
   "metadata": {},
   "outputs": [
    {
     "name": "stdout",
     "output_type": "stream",
     "text": [
      " * postgresql://localhost/bankcalls\n",
      "4640 rows affected.\n",
      " * postgresql://localhost/bankcalls\n",
      "2903 rows affected.\n"
     ]
    },
    {
     "data": {
      "image/png": "[encoded data removed]",
      "text/plain": [
       "<Figure size 432x288 with 1 Axes>"
      ]
     },
     "metadata": {
      "needs_background": "light"
     },
     "output_type": "display_data"
    },
    {
     "name": "stdout",
     "output_type": "stream",
     "text": [
      " * postgresql://localhost/bankcalls\n",
      "4640 rows affected.\n",
      " * postgresql://localhost/bankcalls\n",
      "2903 rows affected.\n"
     ]
    },
    {
     "data": {
      "image/png": "[encoded data removed]",
      "text/plain": [
       "<Figure size 432x288 with 1 Axes>"
      ]
     },
     "metadata": {
      "needs_background": "light"
     },
     "output_type": "display_data"
    },
    {
     "name": "stdout",
     "output_type": "stream",
     "text": [
      " * postgresql://localhost/bankcalls\n",
      "4640 rows affected.\n",
      " * postgresql://localhost/bankcalls\n",
      "2903 rows affected.\n"
     ]
    },
    {
     "data": {
      "image/png": "[encoded data removed]",
      "text/plain": [
       "<Figure size 432x288 with 1 Axes>"
      ]
     },
     "metadata": {
      "needs_background": "light"
     },
     "output_type": "display_data"
    },
    {
     "name": "stdout",
     "output_type": "stream",
     "text": [
      " * postgresql://localhost/bankcalls\n",
      "4640 rows affected.\n",
      " * postgresql://localhost/bankcalls\n",
      "2903 rows affected.\n"
     ]
    },
    {
     "data": {
      "image/png": "[encoded data removed]",
      "text/plain": [
       "<Figure size 432x288 with 1 Axes>"
      ]
     },
     "metadata": {
      "needs_background": "light"
     },
     "output_type": "display_data"
    },
    {
     "name": "stdout",
     "output_type": "stream",
     "text": [
      " * postgresql://localhost/bankcalls\n",
      "4640 rows affected.\n",
      " * postgresql://localhost/bankcalls\n",
      "2903 rows affected.\n"
     ]
    },
    {
     "data": {
      "image/png": "[encoded data removed]",
      "text/plain": [
       "<Figure size 432x288 with 1 Axes>"
      ]
     },
     "metadata": {
      "needs_background": "light"
     },
     "output_type": "display_data"
    },
    {
     "name": "stdout",
     "output_type": "stream",
     "text": [
      " * postgresql://localhost/bankcalls\n",
      "4640 rows affected.\n",
      " * postgresql://localhost/bankcalls\n",
      "2903 rows affected.\n"
     ]
    },
    {
     "data": {
      "image/png": "[encoded data removed]",
      "text/plain": [
       "<Figure size 432x288 with 1 Axes>"
      ]
     },
     "metadata": {
      "needs_background": "light"
     },
     "output_type": "display_data"
    }
   ],
   "source": [
    "def analyze_numerical_false_negative(col, where_stmt):\n",
    "    # sql the values for the column, general success population\n",
    "    pop = %sql select $col general_population from bank_addl where success = 'yes'; \n",
    "    \n",
    "    # sql the values for the false negative population\n",
    "    fneg = %sql select $col false_negative from bank_addl where $where_stmt;\n",
    "    \n",
    "    # join into one dataframe\n",
    "    sns.distplot(pop, hist=False, kde=True, label='general population' )\n",
    "    sns.distplot(fneg, hist=False, kde=True, label='false negatives' )\n",
    "    plt.title(col)\n",
    "    plt.show()\n",
    "    \n",
    "    \n",
    "analyze_numerical_false_negative('age', in_statement)\n",
    "analyze_numerical_false_negative('campaign', in_statement)\n",
    "analyze_numerical_false_negative('previous', in_statement)\n",
    "analyze_numerical_false_negative('emp_var_rate', in_statement)\n",
    "analyze_numerical_false_negative('nr_employed', in_statement)\n",
    "analyze_numerical_false_negative('pdays', in_statement)\n"
   ]
  },
  {
   "cell_type": "markdown",
   "metadata": {},
   "source": [
    "As I wrote in the EDA notebook, I need to be careful about adding these last two economic\n",
    "factors to the notebook as there is at least some collinearity with euribor3m, but it looks like asking the model to consider 'campaign' and 'previous' may help it pick up some of the \n",
    "missed positives? "
   ]
  },
  {
   "cell_type": "code",
   "execution_count": null,
   "metadata": {},
   "outputs": [],
   "source": []
  }
 ],
 "metadata": {
  "kernelspec": {
   "display_name": "Python 3",
   "language": "python",
   "name": "python3"
  },
  "language_info": {
   "codemirror_mode": {
    "name": "ipython",
    "version": 3
   },
   "file_extension": ".py",
   "mimetype": "text/x-python",
   "name": "python",
   "nbconvert_exporter": "python",
   "pygments_lexer": "ipython3",
   "version": "3.6.8"
  }
 },
 "nbformat": 4,
 "nbformat_minor": 2
}
