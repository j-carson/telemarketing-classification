{
 "cells": [
  {
   "cell_type": "markdown",
   "metadata": {},
   "source": [
    "# Run and evaluate Random Forest models\n",
    "\n",
    "I built this notebook by running models, looking at the output, then going back and changing parameters as needed. When I'm happy with the output, I save it and move on."
   ]
  },
  {
   "cell_type": "code",
   "execution_count": 48,
   "metadata": {},
   "outputs": [],
   "source": [
    "import pandas as pd\n",
    "import numpy as np\n",
    "\n",
    "from sklearn.ensemble import RandomForestClassifier\n",
    "from sklearn import metrics\n",
    "\n",
    "from data_pipeline import run_a_model"
   ]
  },
  {
   "cell_type": "markdown",
   "metadata": {},
   "source": [
    "## Utilities to load and save good models"
   ]
  },
  {
   "cell_type": "code",
   "execution_count": 49,
   "metadata": {},
   "outputs": [
    {
     "name": "stdout",
     "output_type": "stream",
     "text": [
      "The sql extension is already loaded. To reload it, use:\n",
      "  %reload_ext sql\n"
     ]
    }
   ],
   "source": [
    "# %load load_save.py\n",
    "# Database load and store functions \n",
    "# This file is meant to be %load'ed at the top of the\n",
    "# various model-run notebooks\n",
    "\n",
    "\n",
    "%load_ext sql\n",
    "\n",
    "%config SqlMagic.autopandas = True "
   ]
  },
  {
   "cell_type": "code",
   "execution_count": 50,
   "metadata": {},
   "outputs": [],
   "source": [
    "%sql postgresql://localhost/bankcalls\n",
    "    \n",
    "\n",
    "import os.path\n",
    "import pickle\n",
    "\n",
    "from string import Template"
   ]
  },
  {
   "cell_type": "code",
   "execution_count": 51,
   "metadata": {},
   "outputs": [],
   "source": [
    "def store_results(m):\n",
    "    filename = m['name'] + '_' + m['strategy'] + '.pkl'\n",
    "    dirname = '../data/inter/'\n",
    "    pathname = dirname + filename\n",
    "    \n",
    "    count = 0\n",
    "    while os.path.isfile(pathname):\n",
    "        pathname = (dirname + \n",
    "                    m['name'] + \n",
    "                    '_' + \n",
    "                    m['strategy'] + \n",
    "                    str(count) +\n",
    "                    '.pkl'\n",
    "                   )\n",
    "        count += 1\n",
    "                    \n",
    "    f = open(pathname, 'w+b')\n",
    "    pickle.dump(m, f)\n",
    "    f.close()\n",
    "    \n",
    "    # all the quotes and brackets seem to confuse %sql so I'm templating\n",
    "    # the command manually\n",
    "    sqlt = Template(\"\"\"INSERT \n",
    "        INTO test_results(pathname, accuracy, recall, precision, \n",
    "                            f1, auc, cm_00, cm_01, cm_10, cm_11) \n",
    "        VALUES  ($pg_path, $accuracy, $recall, $precision, \n",
    "                            $f1, $auc, $cm_00, $cm_01, $cm_10, $cm_11);\"\"\")\n",
    "    sqlins = sqlt.substitute(pg_path = \"'\" + pathname + \"'\",\n",
    "                    accuracy = m['accuracy'],\n",
    "                    recall = m['recall'],\n",
    "                    precision = m['precision'],\n",
    "                    f1 = m['f1'],\n",
    "                    auc = m['auc'],\n",
    "                    cm_00 = m['cm'][0,0],\n",
    "                    cm_01 = m['cm'][0,1],\n",
    "                    cm_10 = m['cm'][1,0],\n",
    "                    cm_11 = m['cm'][1,1]\n",
    "                   )\n",
    "    %sql $sqlins\n",
    "                    \n",
    "    return pathname\n",
    "    \n",
    "        \n",
    "def load_results(path):\n",
    "    f = open(path, 'r+b')\n",
    "    m = pickle.load(f)\n",
    "    return m"
   ]
  },
  {
   "cell_type": "markdown",
   "metadata": {},
   "source": [
    "# Choose columns\n",
    "\n",
    "My three column sets here are: \n",
    "\n",
    "- EDA : The columns that looked most promising during EDA.\n",
    "- Context : The columns providing calendar and economic context only. No customer data.\n",
    "- All : Throw all the columns in the dataset into the model \n"
   ]
  },
  {
   "cell_type": "code",
   "execution_count": 52,
   "metadata": {},
   "outputs": [],
   "source": [
    "# --\n",
    "#  These are not the same as the ones in the Logistic Regression notebook -- I've added\n",
    "#  back in the highly correlated columns to 'context' and 'all'\n",
    "# --\n",
    "columns_eda = [ 'job', 'contact', 'month', 'poutcome', \n",
    "         'cons_price_idx', 'cons_conf_idx',\n",
    "          'euribor3m', 'success', 'bank_addl_id']\n",
    "\n",
    "columns_context = [ 'cons_price_idx', 'cons_conf_idx',\n",
    "                  'euribor3m', 'nr_employed', 'emp_var_rate',\n",
    "                   'month', 'day_of_week',\n",
    "                  'success', 'bank_addl_id']\n",
    "\n",
    "columns_all = [ 'age', 'job', 'marital', 'education',\n",
    "               'in_default', 'housing', 'loan', 'contact',\n",
    "               'month', 'day_of_week', 'campaign',\n",
    "               'previous', 'poutcome', 'cons_price_idx',\n",
    "               'cons_conf_idx', 'euribor3m','nr_employed', 'emp_var_rate',\n",
    "               'success', 'bank_addl_id' ]"
   ]
  },
  {
   "cell_type": "markdown",
   "metadata": {},
   "source": [
    "## EDA columns"
   ]
  },
  {
   "cell_type": "code",
   "execution_count": 53,
   "metadata": {},
   "outputs": [],
   "source": [
    "n_estimators=[200,300,400]\n",
    "oob_score=[True] \n",
    "max_features = ['auto']\n",
    "\n",
    "params = dict(randomforestclassifier__n_estimators=n_estimators,\n",
    "              randomforestclassifier__oob_score=oob_score,\n",
    "              randomforestclassifier__max_features=max_features\n",
    "             )\n",
    "\n",
    "rfc = RandomForestClassifier(n_jobs=-1, random_state=212)\n",
    "\n",
    "# using downsampling to tune initial ranges of the RF settings since there\n",
    "# are more knobs this time\n",
    "measures = run_a_model('rf_eda', rfc, columns_eda, 'down', params)\n"
   ]
  },
  {
   "cell_type": "code",
   "execution_count": 54,
   "metadata": {},
   "outputs": [
    {
     "name": "stdout",
     "output_type": "stream",
     "text": [
      " * postgresql://localhost/bankcalls\n",
      "1 rows affected.\n"
     ]
    },
    {
     "data": {
      "text/plain": [
       "'../data/inter/rf_eda_down.pkl'"
      ]
     },
     "execution_count": 54,
     "metadata": {},
     "output_type": "execute_result"
    }
   ],
   "source": [
    "store_results(measures)"
   ]
  },
  {
   "cell_type": "code",
   "execution_count": 55,
   "metadata": {},
   "outputs": [],
   "source": [
    "rfc = RandomForestClassifier(n_jobs=-1, random_state=212)\n",
    "measures = run_a_model('rf_eda', rfc, columns_eda, 'ros', params)"
   ]
  },
  {
   "cell_type": "code",
   "execution_count": 56,
   "metadata": {},
   "outputs": [
    {
     "name": "stdout",
     "output_type": "stream",
     "text": [
      " * postgresql://localhost/bankcalls\n",
      "1 rows affected.\n"
     ]
    },
    {
     "data": {
      "text/plain": [
       "'../data/inter/rf_eda_ros.pkl'"
      ]
     },
     "execution_count": 56,
     "metadata": {},
     "output_type": "execute_result"
    }
   ],
   "source": [
    "store_results(measures)"
   ]
  },
  {
   "cell_type": "code",
   "execution_count": 57,
   "metadata": {},
   "outputs": [],
   "source": [
    "# SMOTE takes a long time, so just using best params from ros\n",
    "rfc = RandomForestClassifier(n_jobs=-1, random_state=212, n_estimators=300, oob_score=True, max_features='auto')\n",
    "measures = run_a_model('rf_eda', rfc, columns_eda, 'smote', None)"
   ]
  },
  {
   "cell_type": "code",
   "execution_count": 58,
   "metadata": {},
   "outputs": [
    {
     "name": "stdout",
     "output_type": "stream",
     "text": [
      " * postgresql://localhost/bankcalls\n",
      "1 rows affected.\n"
     ]
    },
    {
     "data": {
      "text/plain": [
       "'../data/inter/rf_eda_smote.pkl'"
      ]
     },
     "execution_count": 58,
     "metadata": {},
     "output_type": "execute_result"
    }
   ],
   "source": [
    "store_results(measures)"
   ]
  },
  {
   "cell_type": "markdown",
   "metadata": {},
   "source": [
    "## Context columns"
   ]
  },
  {
   "cell_type": "code",
   "execution_count": 59,
   "metadata": {},
   "outputs": [],
   "source": [
    "n_estimators=[200,300,400]\n",
    "oob_score=[True] \n",
    "max_features = ['auto']\n",
    "\n",
    "params = dict(randomforestclassifier__n_estimators=n_estimators,\n",
    "              randomforestclassifier__oob_score=oob_score,\n",
    "              randomforestclassifier__max_features=max_features\n",
    "             )\n",
    "\n",
    "rfc = RandomForestClassifier(n_jobs=-1, random_state=212)\n",
    "\n",
    "measures = run_a_model('rf_context', rfc, columns_context, 'ros', params)\n"
   ]
  },
  {
   "cell_type": "code",
   "execution_count": 60,
   "metadata": {},
   "outputs": [
    {
     "name": "stdout",
     "output_type": "stream",
     "text": [
      " * postgresql://localhost/bankcalls\n",
      "1 rows affected.\n"
     ]
    },
    {
     "data": {
      "text/plain": [
       "'../data/inter/rf_context_ros.pkl'"
      ]
     },
     "execution_count": 60,
     "metadata": {},
     "output_type": "execute_result"
    }
   ],
   "source": [
    "store_results(measures)"
   ]
  },
  {
   "cell_type": "code",
   "execution_count": 63,
   "metadata": {},
   "outputs": [],
   "source": [
    "# All columns"
   ]
  },
  {
   "cell_type": "code",
   "execution_count": 64,
   "metadata": {},
   "outputs": [],
   "source": [
    "n_estimators=[200,300,400]\n",
    "oob_score=[True] \n",
    "max_features = ['auto']\n",
    "\n",
    "params = dict(randomforestclassifier__n_estimators=n_estimators,\n",
    "              randomforestclassifier__oob_score=oob_score,\n",
    "              randomforestclassifier__max_features=max_features\n",
    "             )\n",
    "\n",
    "rfc = RandomForestClassifier(n_jobs=-1, random_state=212)\n",
    "\n",
    "measures = run_a_model('rf_all', rfc, columns_all, 'ros', params)\n"
   ]
  },
  {
   "cell_type": "code",
   "execution_count": 66,
   "metadata": {},
   "outputs": [
    {
     "name": "stdout",
     "output_type": "stream",
     "text": [
      " * postgresql://localhost/bankcalls\n",
      "1 rows affected.\n"
     ]
    },
    {
     "data": {
      "text/plain": [
       "'../data/inter/rf_all_ros.pkl'"
      ]
     },
     "execution_count": 66,
     "metadata": {},
     "output_type": "execute_result"
    }
   ],
   "source": [
    "store_results(measures)"
   ]
  },
  {
   "cell_type": "code",
   "execution_count": 69,
   "metadata": {},
   "outputs": [],
   "source": [
    "n_estimators=[400, 500]\n",
    "params = dict(randomforestclassifier__n_estimators=n_estimators,\n",
    "              randomforestclassifier__oob_score=oob_score,\n",
    "              randomforestclassifier__max_features=max_features\n",
    "             )\n",
    "rfc = RandomForestClassifier(n_jobs=-1, random_state=212)\n",
    "\n",
    "measures = run_a_model('rf_all', rfc, columns_all, 'smote', params)"
   ]
  },
  {
   "cell_type": "code",
   "execution_count": 70,
   "metadata": {},
   "outputs": [
    {
     "name": "stdout",
     "output_type": "stream",
     "text": [
      " * postgresql://localhost/bankcalls\n",
      "1 rows affected.\n"
     ]
    },
    {
     "data": {
      "text/plain": [
       "'../data/inter/rf_all_smote.pkl'"
      ]
     },
     "execution_count": 70,
     "metadata": {},
     "output_type": "execute_result"
    }
   ],
   "source": [
    "store_results(measures)"
   ]
  },
  {
   "cell_type": "code",
   "execution_count": null,
   "metadata": {},
   "outputs": [],
   "source": []
  },
  {
   "cell_type": "code",
   "execution_count": 71,
   "metadata": {},
   "outputs": [
    {
     "name": "stdout",
     "output_type": "stream",
     "text": [
      " * postgresql://localhost/bankcalls\n",
      "10 rows affected.\n"
     ]
    },
    {
     "data": {
      "text/html": [
       "<div>\n",
       "<style scoped>\n",
       "    .dataframe tbody tr th:only-of-type {\n",
       "        vertical-align: middle;\n",
       "    }\n",
       "\n",
       "    .dataframe tbody tr th {\n",
       "        vertical-align: top;\n",
       "    }\n",
       "\n",
       "    .dataframe thead th {\n",
       "        text-align: right;\n",
       "    }\n",
       "</style>\n",
       "<table border=\"1\" class=\"dataframe\">\n",
       "  <thead>\n",
       "    <tr style=\"text-align: right;\">\n",
       "      <th></th>\n",
       "      <th>pathname</th>\n",
       "      <th>accuracy</th>\n",
       "      <th>recall</th>\n",
       "      <th>precision</th>\n",
       "      <th>f1</th>\n",
       "      <th>auc</th>\n",
       "      <th>cm_00</th>\n",
       "      <th>cm_01</th>\n",
       "      <th>cm_10</th>\n",
       "      <th>cm_11</th>\n",
       "    </tr>\n",
       "  </thead>\n",
       "  <tbody>\n",
       "    <tr>\n",
       "      <th>0</th>\n",
       "      <td>../data/inter/rf_all_ros.pkl</td>\n",
       "      <td>0.993930</td>\n",
       "      <td>1.000000</td>\n",
       "      <td>0.948875</td>\n",
       "      <td>0.973767</td>\n",
       "      <td>0.999847</td>\n",
       "      <td>29038</td>\n",
       "      <td>200</td>\n",
       "      <td>0</td>\n",
       "      <td>3712</td>\n",
       "    </tr>\n",
       "    <tr>\n",
       "      <th>1</th>\n",
       "      <td>../data/inter/rf_all_smote.pkl</td>\n",
       "      <td>0.994052</td>\n",
       "      <td>0.972522</td>\n",
       "      <td>0.974622</td>\n",
       "      <td>0.973571</td>\n",
       "      <td>0.999430</td>\n",
       "      <td>29144</td>\n",
       "      <td>94</td>\n",
       "      <td>102</td>\n",
       "      <td>3610</td>\n",
       "    </tr>\n",
       "    <tr>\n",
       "      <th>2</th>\n",
       "      <td>../data/inter/rf_eda_ros.pkl</td>\n",
       "      <td>0.865615</td>\n",
       "      <td>0.721713</td>\n",
       "      <td>0.441060</td>\n",
       "      <td>0.547517</td>\n",
       "      <td>0.887394</td>\n",
       "      <td>25843</td>\n",
       "      <td>3395</td>\n",
       "      <td>1033</td>\n",
       "      <td>2679</td>\n",
       "    </tr>\n",
       "    <tr>\n",
       "      <th>3</th>\n",
       "      <td>../data/inter/rf_context_ros.pkl</td>\n",
       "      <td>0.861851</td>\n",
       "      <td>0.620420</td>\n",
       "      <td>0.422879</td>\n",
       "      <td>0.502948</td>\n",
       "      <td>0.817078</td>\n",
       "      <td>26095</td>\n",
       "      <td>3143</td>\n",
       "      <td>1409</td>\n",
       "      <td>2303</td>\n",
       "    </tr>\n",
       "    <tr>\n",
       "      <th>4</th>\n",
       "      <td>../data/inter/rf_eda_down.pkl</td>\n",
       "      <td>0.806798</td>\n",
       "      <td>0.723060</td>\n",
       "      <td>0.334580</td>\n",
       "      <td>0.457474</td>\n",
       "      <td>0.846988</td>\n",
       "      <td>23900</td>\n",
       "      <td>5338</td>\n",
       "      <td>1028</td>\n",
       "      <td>2684</td>\n",
       "    </tr>\n",
       "    <tr>\n",
       "      <th>5</th>\n",
       "      <td>../data/inter/logi-all-ros_ros.pkl</td>\n",
       "      <td>0.812079</td>\n",
       "      <td>0.646282</td>\n",
       "      <td>0.329624</td>\n",
       "      <td>0.436579</td>\n",
       "      <td>0.795784</td>\n",
       "      <td>24359</td>\n",
       "      <td>4879</td>\n",
       "      <td>1313</td>\n",
       "      <td>2399</td>\n",
       "    </tr>\n",
       "    <tr>\n",
       "      <th>6</th>\n",
       "      <td>../data/inter/logi-eda-ros_ros.pkl</td>\n",
       "      <td>0.805766</td>\n",
       "      <td>0.651131</td>\n",
       "      <td>0.321324</td>\n",
       "      <td>0.430301</td>\n",
       "      <td>0.794002</td>\n",
       "      <td>24133</td>\n",
       "      <td>5105</td>\n",
       "      <td>1295</td>\n",
       "      <td>2417</td>\n",
       "    </tr>\n",
       "    <tr>\n",
       "      <th>7</th>\n",
       "      <td>../data/inter/logi-eda-smote_smote.pkl</td>\n",
       "      <td>0.802883</td>\n",
       "      <td>0.649784</td>\n",
       "      <td>0.317076</td>\n",
       "      <td>0.426186</td>\n",
       "      <td>0.790426</td>\n",
       "      <td>24043</td>\n",
       "      <td>5195</td>\n",
       "      <td>1300</td>\n",
       "      <td>2412</td>\n",
       "    </tr>\n",
       "    <tr>\n",
       "      <th>8</th>\n",
       "      <td>../data/inter/rf_eda_smote.pkl</td>\n",
       "      <td>0.761487</td>\n",
       "      <td>0.724138</td>\n",
       "      <td>0.282264</td>\n",
       "      <td>0.406196</td>\n",
       "      <td>0.776069</td>\n",
       "      <td>22403</td>\n",
       "      <td>6835</td>\n",
       "      <td>1024</td>\n",
       "      <td>2688</td>\n",
       "    </tr>\n",
       "    <tr>\n",
       "      <th>9</th>\n",
       "      <td>../data/inter/logi-eda-l1_ros.pkl</td>\n",
       "      <td>0.721093</td>\n",
       "      <td>0.719558</td>\n",
       "      <td>0.246858</td>\n",
       "      <td>0.367603</td>\n",
       "      <td>0.746322</td>\n",
       "      <td>21089</td>\n",
       "      <td>8149</td>\n",
       "      <td>1041</td>\n",
       "      <td>2671</td>\n",
       "    </tr>\n",
       "  </tbody>\n",
       "</table>\n",
       "</div>"
      ],
      "text/plain": [
       "                                 pathname  accuracy    recall  precision  \\\n",
       "0            ../data/inter/rf_all_ros.pkl  0.993930  1.000000   0.948875   \n",
       "1          ../data/inter/rf_all_smote.pkl  0.994052  0.972522   0.974622   \n",
       "2            ../data/inter/rf_eda_ros.pkl  0.865615  0.721713   0.441060   \n",
       "3        ../data/inter/rf_context_ros.pkl  0.861851  0.620420   0.422879   \n",
       "4           ../data/inter/rf_eda_down.pkl  0.806798  0.723060   0.334580   \n",
       "5      ../data/inter/logi-all-ros_ros.pkl  0.812079  0.646282   0.329624   \n",
       "6      ../data/inter/logi-eda-ros_ros.pkl  0.805766  0.651131   0.321324   \n",
       "7  ../data/inter/logi-eda-smote_smote.pkl  0.802883  0.649784   0.317076   \n",
       "8          ../data/inter/rf_eda_smote.pkl  0.761487  0.724138   0.282264   \n",
       "9       ../data/inter/logi-eda-l1_ros.pkl  0.721093  0.719558   0.246858   \n",
       "\n",
       "         f1       auc  cm_00  cm_01  cm_10  cm_11  \n",
       "0  0.973767  0.999847  29038    200      0   3712  \n",
       "1  0.973571  0.999430  29144     94    102   3610  \n",
       "2  0.547517  0.887394  25843   3395   1033   2679  \n",
       "3  0.502948  0.817078  26095   3143   1409   2303  \n",
       "4  0.457474  0.846988  23900   5338   1028   2684  \n",
       "5  0.436579  0.795784  24359   4879   1313   2399  \n",
       "6  0.430301  0.794002  24133   5105   1295   2417  \n",
       "7  0.426186  0.790426  24043   5195   1300   2412  \n",
       "8  0.406196  0.776069  22403   6835   1024   2688  \n",
       "9  0.367603  0.746322  21089   8149   1041   2671  "
      ]
     },
     "execution_count": 71,
     "metadata": {},
     "output_type": "execute_result"
    }
   ],
   "source": [
    "%sql select * from test_results order by f1 desc limit 10; "
   ]
  },
  {
   "cell_type": "markdown",
   "metadata": {},
   "source": [
    "Random forests beat the logistic regression values. They look so good, they might be overfitting? "
   ]
  },
  {
   "cell_type": "code",
   "execution_count": null,
   "metadata": {},
   "outputs": [],
   "source": []
  }
 ],
 "metadata": {
  "kernelspec": {
   "display_name": "Python 3",
   "language": "python",
   "name": "python3"
  },
  "language_info": {
   "codemirror_mode": {
    "name": "ipython",
    "version": 3
   },
   "file_extension": ".py",
   "mimetype": "text/x-python",
   "name": "python",
   "nbconvert_exporter": "python",
   "pygments_lexer": "ipython3",
   "version": "3.6.8"
  }
 },
 "nbformat": 4,
 "nbformat_minor": 2
}
