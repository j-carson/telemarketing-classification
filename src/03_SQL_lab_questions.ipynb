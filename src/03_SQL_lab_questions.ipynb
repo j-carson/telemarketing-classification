{
 "cells": [
  {
   "cell_type": "code",
   "execution_count": 2,
   "metadata": {},
   "outputs": [],
   "source": [
    "%load_ext sql"
   ]
  },
  {
   "cell_type": "code",
   "execution_count": 3,
   "metadata": {},
   "outputs": [
    {
     "data": {
      "text/plain": [
       "'Connected: @names'"
      ]
     },
     "execution_count": 3,
     "metadata": {},
     "output_type": "execute_result"
    }
   ],
   "source": [
    "%sql postgresql://localhost/names"
   ]
  },
  {
   "cell_type": "markdown",
   "metadata": {
    "toc-hr-collapsed": false
   },
   "source": [
    "# SQL III: Questions\n",
    "\n",
    "## Questions\n",
    "1. _How many `Kate`s are there in California by year?_\n"
   ]
  },
  {
   "cell_type": "code",
   "execution_count": 3,
   "metadata": {},
   "outputs": [
    {
     "name": "stdout",
     "output_type": "stream",
     "text": [
      " * postgresql://localhost/names\n",
      "10 rows affected.\n"
     ]
    },
    {
     "data": {
      "text/html": [
       "<table>\n",
       "    <tr>\n",
       "        <th>year</th>\n",
       "        <th>kates</th>\n",
       "    </tr>\n",
       "    <tr>\n",
       "        <td>2016</td>\n",
       "        <td>199</td>\n",
       "    </tr>\n",
       "    <tr>\n",
       "        <td>2015</td>\n",
       "        <td>181</td>\n",
       "    </tr>\n",
       "    <tr>\n",
       "        <td>2014</td>\n",
       "        <td>210</td>\n",
       "    </tr>\n",
       "    <tr>\n",
       "        <td>2013</td>\n",
       "        <td>226</td>\n",
       "    </tr>\n",
       "    <tr>\n",
       "        <td>2012</td>\n",
       "        <td>210</td>\n",
       "    </tr>\n",
       "    <tr>\n",
       "        <td>2011</td>\n",
       "        <td>221</td>\n",
       "    </tr>\n",
       "    <tr>\n",
       "        <td>2010</td>\n",
       "        <td>194</td>\n",
       "    </tr>\n",
       "    <tr>\n",
       "        <td>2009</td>\n",
       "        <td>250</td>\n",
       "    </tr>\n",
       "    <tr>\n",
       "        <td>2008</td>\n",
       "        <td>319</td>\n",
       "    </tr>\n",
       "    <tr>\n",
       "        <td>2007</td>\n",
       "        <td>348</td>\n",
       "    </tr>\n",
       "</table>"
      ],
      "text/plain": [
       "[(2016, 199),\n",
       " (2015, 181),\n",
       " (2014, 210),\n",
       " (2013, 226),\n",
       " (2012, 210),\n",
       " (2011, 221),\n",
       " (2010, 194),\n",
       " (2009, 250),\n",
       " (2008, 319),\n",
       " (2007, 348)]"
      ]
     },
     "execution_count": 3,
     "metadata": {},
     "output_type": "execute_result"
    }
   ],
   "source": [
    "%%sql\n",
    "SELECT \n",
    "     year, SUM(freq) AS kates\n",
    "FROM \n",
    "     name_freq\n",
    "WHERE \n",
    "\n",
    "     state='CA' AND name='Kate'\n",
    "GROUP BY \n",
    "     year\n",
    "ORDER BY \n",
    "     year DESC\n",
    "LIMIT 10;"
   ]
  },
  {
   "cell_type": "markdown",
   "metadata": {},
   "source": [
    "2. _Which year had the most `Kate`s born in California?_"
   ]
  },
  {
   "cell_type": "code",
   "execution_count": 4,
   "metadata": {},
   "outputs": [
    {
     "name": "stdout",
     "output_type": "stream",
     "text": [
      " * postgresql://localhost/names\n",
      "5 rows affected.\n"
     ]
    },
    {
     "data": {
      "text/html": [
       "<table>\n",
       "    <tr>\n",
       "        <th>year</th>\n",
       "        <th>kates</th>\n",
       "    </tr>\n",
       "    <tr>\n",
       "        <td>2006</td>\n",
       "        <td>348</td>\n",
       "    </tr>\n",
       "    <tr>\n",
       "        <td>2007</td>\n",
       "        <td>348</td>\n",
       "    </tr>\n",
       "    <tr>\n",
       "        <td>2003</td>\n",
       "        <td>336</td>\n",
       "    </tr>\n",
       "    <tr>\n",
       "        <td>2004</td>\n",
       "        <td>333</td>\n",
       "    </tr>\n",
       "    <tr>\n",
       "        <td>2005</td>\n",
       "        <td>332</td>\n",
       "    </tr>\n",
       "</table>"
      ],
      "text/plain": [
       "[(2006, 348), (2007, 348), (2003, 336), (2004, 333), (2005, 332)]"
      ]
     },
     "execution_count": 4,
     "metadata": {},
     "output_type": "execute_result"
    }
   ],
   "source": [
    "%%sql\n",
    "SELECT \n",
    "     year, SUM(freq) AS kates\n",
    "FROM \n",
    "     name_freq\n",
    "WHERE \n",
    "     state='CA' AND name='Kate'\n",
    "GROUP BY \n",
    "     year\n",
    "ORDER BY \n",
    "     kates DESC\n",
    "LIMIT 5;"
   ]
  },
  {
   "cell_type": "markdown",
   "metadata": {},
   "source": [
    "3. _What is the most popular boy's name in the South in 2000?_\n",
    "\n",
    "  Note: `name_freq_region` is a view we created by joining the region to the `name_freq` table."
   ]
  },
  {
   "cell_type": "code",
   "execution_count": 5,
   "metadata": {},
   "outputs": [
    {
     "name": "stdout",
     "output_type": "stream",
     "text": [
      " * postgresql://localhost/names\n",
      "5 rows affected.\n"
     ]
    },
    {
     "data": {
      "text/html": [
       "<table>\n",
       "    <tr>\n",
       "        <th>name</th>\n",
       "        <th>sum</th>\n",
       "    </tr>\n",
       "    <tr>\n",
       "        <td>Jacob</td>\n",
       "        <td>12364</td>\n",
       "    </tr>\n",
       "    <tr>\n",
       "        <td>Michael</td>\n",
       "        <td>10983</td>\n",
       "    </tr>\n",
       "    <tr>\n",
       "        <td>Joshua</td>\n",
       "        <td>10817</td>\n",
       "    </tr>\n",
       "    <tr>\n",
       "        <td>Christopher</td>\n",
       "        <td>10179</td>\n",
       "    </tr>\n",
       "    <tr>\n",
       "        <td>William</td>\n",
       "        <td>9809</td>\n",
       "    </tr>\n",
       "</table>"
      ],
      "text/plain": [
       "[('Jacob', 12364),\n",
       " ('Michael', 10983),\n",
       " ('Joshua', 10817),\n",
       " ('Christopher', 10179),\n",
       " ('William', 9809)]"
      ]
     },
     "execution_count": 5,
     "metadata": {},
     "output_type": "execute_result"
    }
   ],
   "source": [
    "%%sql\n",
    "SELECT \n",
    "    name, sum(freq)\n",
    "FROM \n",
    "    name_freq_region\n",
    "WHERE\n",
    "         region = 'South'\n",
    "    AND\n",
    "         year = 2000\n",
    "    AND\n",
    "         gender = 'M'\n",
    "GROUP BY \n",
    "     name\n",
    "ORDER BY \n",
    "     sum(freq) DESC\n",
    "LIMIT 5;\n"
   ]
  },
  {
   "cell_type": "markdown",
   "metadata": {},
   "source": [
    "4. _What is the most popular girl's name in the South in 2000?_"
   ]
  },
  {
   "cell_type": "code",
   "execution_count": 6,
   "metadata": {},
   "outputs": [
    {
     "name": "stdout",
     "output_type": "stream",
     "text": [
      " * postgresql://localhost/names\n",
      "5 rows affected.\n"
     ]
    },
    {
     "data": {
      "text/html": [
       "<table>\n",
       "    <tr>\n",
       "        <th>name</th>\n",
       "        <th>sum</th>\n",
       "    </tr>\n",
       "    <tr>\n",
       "        <td>Hannah</td>\n",
       "        <td>9172</td>\n",
       "    </tr>\n",
       "    <tr>\n",
       "        <td>Emily</td>\n",
       "        <td>8741</td>\n",
       "    </tr>\n",
       "    <tr>\n",
       "        <td>Madison</td>\n",
       "        <td>8087</td>\n",
       "    </tr>\n",
       "    <tr>\n",
       "        <td>Sarah</td>\n",
       "        <td>6729</td>\n",
       "    </tr>\n",
       "    <tr>\n",
       "        <td>Alexis</td>\n",
       "        <td>6698</td>\n",
       "    </tr>\n",
       "</table>"
      ],
      "text/plain": [
       "[('Hannah', 9172),\n",
       " ('Emily', 8741),\n",
       " ('Madison', 8087),\n",
       " ('Sarah', 6729),\n",
       " ('Alexis', 6698)]"
      ]
     },
     "execution_count": 6,
     "metadata": {},
     "output_type": "execute_result"
    }
   ],
   "source": [
    "%%sql\n",
    "SELECT \n",
    "    name, sum(freq)\n",
    "FROM \n",
    "    name_freq_region\n",
    "WHERE\n",
    "         region = 'South'\n",
    "    AND\n",
    "         year = 2000\n",
    "    AND\n",
    "         gender = 'F'\n",
    "GROUP BY \n",
    "     name\n",
    "ORDER BY \n",
    "     sum(freq) DESC\n",
    "LIMIT 5;\n"
   ]
  },
  {
   "cell_type": "markdown",
   "metadata": {},
   "source": [
    "5. _Which state has the greatest number of different names in 2000?_"
   ]
  },
  {
   "cell_type": "code",
   "execution_count": 7,
   "metadata": {},
   "outputs": [
    {
     "name": "stdout",
     "output_type": "stream",
     "text": [
      " * postgresql://localhost/names\n",
      "5 rows affected.\n"
     ]
    },
    {
     "data": {
      "text/html": [
       "<table>\n",
       "    <tr>\n",
       "        <th>state</th>\n",
       "        <th>count</th>\n",
       "    </tr>\n",
       "    <tr>\n",
       "        <td>CA</td>\n",
       "        <td>5999</td>\n",
       "    </tr>\n",
       "    <tr>\n",
       "        <td>TX</td>\n",
       "        <td>4837</td>\n",
       "    </tr>\n",
       "    <tr>\n",
       "        <td>NY</td>\n",
       "        <td>4131</td>\n",
       "    </tr>\n",
       "    <tr>\n",
       "        <td>FL</td>\n",
       "        <td>3314</td>\n",
       "    </tr>\n",
       "    <tr>\n",
       "        <td>IL</td>\n",
       "        <td>3097</td>\n",
       "    </tr>\n",
       "</table>"
      ],
      "text/plain": [
       "[('CA', 5999), ('TX', 4837), ('NY', 4131), ('FL', 3314), ('IL', 3097)]"
      ]
     },
     "execution_count": 7,
     "metadata": {},
     "output_type": "execute_result"
    }
   ],
   "source": [
    "%%sql\n",
    "SELECT \n",
    "    state, COUNT(DISTINCT(name))\n",
    "FROM \n",
    "    name_freq\n",
    "WHERE\n",
    "     year = 2000\n",
    "GROUP BY \n",
    "     state\n",
    "ORDER BY \n",
    "     COUNT(DISTINCT(name)) DESC\n",
    "LIMIT 5;\n"
   ]
  },
  {
   "cell_type": "markdown",
   "metadata": {},
   "source": [
    "6. _Which region has the greatest number of different names in 2000?_"
   ]
  },
  {
   "cell_type": "code",
   "execution_count": 8,
   "metadata": {},
   "outputs": [
    {
     "name": "stdout",
     "output_type": "stream",
     "text": [
      " * postgresql://localhost/names\n",
      "5 rows affected.\n"
     ]
    },
    {
     "data": {
      "text/html": [
       "<table>\n",
       "    <tr>\n",
       "        <th>region</th>\n",
       "        <th>count</th>\n",
       "    </tr>\n",
       "    <tr>\n",
       "        <td>Pacific</td>\n",
       "        <td>6098</td>\n",
       "    </tr>\n",
       "    <tr>\n",
       "        <td>South</td>\n",
       "        <td>5807</td>\n",
       "    </tr>\n",
       "    <tr>\n",
       "        <td>Mid_Atlantic</td>\n",
       "        <td>4605</td>\n",
       "    </tr>\n",
       "    <tr>\n",
       "        <td>Midwest</td>\n",
       "        <td>3834</td>\n",
       "    </tr>\n",
       "    <tr>\n",
       "        <td>None</td>\n",
       "        <td>2408</td>\n",
       "    </tr>\n",
       "</table>"
      ],
      "text/plain": [
       "[('Pacific', 6098),\n",
       " ('South', 5807),\n",
       " ('Mid_Atlantic', 4605),\n",
       " ('Midwest', 3834),\n",
       " (None, 2408)]"
      ]
     },
     "execution_count": 8,
     "metadata": {},
     "output_type": "execute_result"
    }
   ],
   "source": [
    "%%sql\n",
    "SELECT \n",
    "    region, COUNT(DISTINCT(name))\n",
    "FROM \n",
    "    name_freq_region\n",
    "WHERE\n",
    "     year = 2000\n",
    "GROUP BY \n",
    "     region\n",
    "ORDER BY \n",
    "     COUNT(DISTINCT(name)) DESC\n",
    "LIMIT 5;\n"
   ]
  },
  {
   "cell_type": "markdown",
   "metadata": {},
   "source": [
    "7. _How many children were born in each state between 2000 and 2010? Treat \"Between\" as inclusive._"
   ]
  },
  {
   "cell_type": "code",
   "execution_count": 9,
   "metadata": {},
   "outputs": [
    {
     "name": "stdout",
     "output_type": "stream",
     "text": [
      " * postgresql://localhost/names\n",
      "10 rows affected.\n"
     ]
    },
    {
     "data": {
      "text/html": [
       "<table>\n",
       "    <tr>\n",
       "        <th>state</th>\n",
       "        <th>sum</th>\n",
       "    </tr>\n",
       "    <tr>\n",
       "        <td>AK</td>\n",
       "        <td>62441</td>\n",
       "    </tr>\n",
       "    <tr>\n",
       "        <td>AL</td>\n",
       "        <td>486967</td>\n",
       "    </tr>\n",
       "    <tr>\n",
       "        <td>AR</td>\n",
       "        <td>296943</td>\n",
       "    </tr>\n",
       "    <tr>\n",
       "        <td>AZ</td>\n",
       "        <td>825449</td>\n",
       "    </tr>\n",
       "    <tr>\n",
       "        <td>CA</td>\n",
       "        <td>5227565</td>\n",
       "    </tr>\n",
       "    <tr>\n",
       "        <td>CO</td>\n",
       "        <td>592577</td>\n",
       "    </tr>\n",
       "    <tr>\n",
       "        <td>CT</td>\n",
       "        <td>338803</td>\n",
       "    </tr>\n",
       "    <tr>\n",
       "        <td>DC</td>\n",
       "        <td>85876</td>\n",
       "    </tr>\n",
       "    <tr>\n",
       "        <td>DE</td>\n",
       "        <td>76744</td>\n",
       "    </tr>\n",
       "    <tr>\n",
       "        <td>FL</td>\n",
       "        <td>1957057</td>\n",
       "    </tr>\n",
       "</table>"
      ],
      "text/plain": [
       "[('AK', 62441),\n",
       " ('AL', 486967),\n",
       " ('AR', 296943),\n",
       " ('AZ', 825449),\n",
       " ('CA', 5227565),\n",
       " ('CO', 592577),\n",
       " ('CT', 338803),\n",
       " ('DC', 85876),\n",
       " ('DE', 76744),\n",
       " ('FL', 1957057)]"
      ]
     },
     "execution_count": 9,
     "metadata": {},
     "output_type": "execute_result"
    }
   ],
   "source": [
    "%%sql\n",
    "SELECT \n",
    "     state, sum(freq)\n",
    "FROM \n",
    "     name_freq\n",
    "WHERE\n",
    "         year >= 2000\n",
    "     AND\n",
    "         year <= 2010\n",
    "GROUP BY \n",
    "     state \n",
    "ORDER BY \n",
    "     state \n",
    "LIMIT 10;"
   ]
  },
  {
   "cell_type": "markdown",
   "metadata": {},
   "source": [
    "8. _Which state doesn't have a region associated with it?_\n",
    "  Hint: you can find a list of distinct states by looking at\n",
    "  ```sql\n",
    "  SELECT DISTINCT(state) FROM name_freq;\n",
    "  ```\n",
    "  You should use a JOIN to connect this to the states in the region table."
   ]
  },
  {
   "cell_type": "code",
   "execution_count": 4,
   "metadata": {},
   "outputs": [
    {
     "name": "stdout",
     "output_type": "stream",
     "text": [
      " * postgresql://localhost/names\n",
      "1 rows affected.\n"
     ]
    },
    {
     "data": {
      "text/html": [
       "<table>\n",
       "    <tr>\n",
       "        <th>state</th>\n",
       "    </tr>\n",
       "    <tr>\n",
       "        <td>MI</td>\n",
       "    </tr>\n",
       "</table>"
      ],
      "text/plain": [
       "[('MI',)]"
      ]
     },
     "execution_count": 4,
     "metadata": {},
     "output_type": "execute_result"
    }
   ],
   "source": [
    "%%sql\n",
    "WITH all_states AS (\n",
    "        SELECT DISTINCT(state) FROM name_freq\n",
    "    ),\n",
    "    region_states AS (\n",
    "        SELECT DISTINCT(state) FROM region\n",
    "    )\n",
    "SELECT \n",
    "    all_states.state\n",
    "FROM \n",
    "    all_states LEFT JOIN region_states\n",
    "               ON all_states.state = region_states.state\n",
    "WHERE\n",
    "    region_states.state IS NULL;\n"
   ]
  },
  {
   "cell_type": "markdown",
   "metadata": {},
   "source": [
    "9. _Rank the most popular androgynous names in 2000 (i.e. names that were given to both males and females)?_\n",
    "\n",
    "\n",
    "  Challenge: There are quite a few popular names such as `Emily` that have a bulk of either male or female. Can you modify this query to calculate the absolute % difference between males and females, and then return those with the smallest difference (i.e. the most 'balanced' androgynous names)."
   ]
  },
  {
   "cell_type": "code",
   "execution_count": 5,
   "metadata": {},
   "outputs": [
    {
     "name": "stdout",
     "output_type": "stream",
     "text": [
      " * postgresql://localhost/names\n",
      "10 rows affected.\n"
     ]
    },
    {
     "data": {
      "text/html": [
       "<table>\n",
       "    <tr>\n",
       "        <th>name</th>\n",
       "        <th>n_boys</th>\n",
       "        <th>n_girls</th>\n",
       "        <th>n_both</th>\n",
       "        <th>pct_boys</th>\n",
       "        <th>pct_girls</th>\n",
       "        <th>pct_diff</th>\n",
       "    </tr>\n",
       "    <tr>\n",
       "        <td>Peyton</td>\n",
       "        <td>1976</td>\n",
       "        <td>1946</td>\n",
       "        <td>3922</td>\n",
       "        <td>50</td>\n",
       "        <td>49</td>\n",
       "        <td>1</td>\n",
       "    </tr>\n",
       "    <tr>\n",
       "        <td>Casey</td>\n",
       "        <td>1815</td>\n",
       "        <td>1497</td>\n",
       "        <td>3312</td>\n",
       "        <td>54</td>\n",
       "        <td>45</td>\n",
       "        <td>9</td>\n",
       "    </tr>\n",
       "    <tr>\n",
       "        <td>Skyler</td>\n",
       "        <td>1462</td>\n",
       "        <td>1262</td>\n",
       "        <td>2724</td>\n",
       "        <td>53</td>\n",
       "        <td>46</td>\n",
       "        <td>7</td>\n",
       "    </tr>\n",
       "    <tr>\n",
       "        <td>Devyn</td>\n",
       "        <td>268</td>\n",
       "        <td>291</td>\n",
       "        <td>559</td>\n",
       "        <td>47</td>\n",
       "        <td>52</td>\n",
       "        <td>5</td>\n",
       "    </tr>\n",
       "    <tr>\n",
       "        <td>Jaiden</td>\n",
       "        <td>275</td>\n",
       "        <td>270</td>\n",
       "        <td>545</td>\n",
       "        <td>50</td>\n",
       "        <td>49</td>\n",
       "        <td>1</td>\n",
       "    </tr>\n",
       "    <tr>\n",
       "        <td>Armani</td>\n",
       "        <td>224</td>\n",
       "        <td>271</td>\n",
       "        <td>495</td>\n",
       "        <td>45</td>\n",
       "        <td>54</td>\n",
       "        <td>9</td>\n",
       "    </tr>\n",
       "    <tr>\n",
       "        <td>Baby</td>\n",
       "        <td>253</td>\n",
       "        <td>220</td>\n",
       "        <td>473</td>\n",
       "        <td>53</td>\n",
       "        <td>46</td>\n",
       "        <td>7</td>\n",
       "    </tr>\n",
       "    <tr>\n",
       "        <td>Infant</td>\n",
       "        <td>209</td>\n",
       "        <td>208</td>\n",
       "        <td>417</td>\n",
       "        <td>50</td>\n",
       "        <td>49</td>\n",
       "        <td>1</td>\n",
       "    </tr>\n",
       "    <tr>\n",
       "        <td>Joan</td>\n",
       "        <td>145</td>\n",
       "        <td>126</td>\n",
       "        <td>271</td>\n",
       "        <td>53</td>\n",
       "        <td>46</td>\n",
       "        <td>7</td>\n",
       "    </tr>\n",
       "    <tr>\n",
       "        <td>Notnamed</td>\n",
       "        <td>109</td>\n",
       "        <td>108</td>\n",
       "        <td>217</td>\n",
       "        <td>50</td>\n",
       "        <td>49</td>\n",
       "        <td>1</td>\n",
       "    </tr>\n",
       "</table>"
      ],
      "text/plain": [
       "[('Peyton', 1976, 1946, 3922, 50, 49, 1),\n",
       " ('Casey', 1815, 1497, 3312, 54, 45, 9),\n",
       " ('Skyler', 1462, 1262, 2724, 53, 46, 7),\n",
       " ('Devyn', 268, 291, 559, 47, 52, 5),\n",
       " ('Jaiden', 275, 270, 545, 50, 49, 1),\n",
       " ('Armani', 224, 271, 495, 45, 54, 9),\n",
       " ('Baby', 253, 220, 473, 53, 46, 7),\n",
       " ('Infant', 209, 208, 417, 50, 49, 1),\n",
       " ('Joan', 145, 126, 271, 53, 46, 7),\n",
       " ('Notnamed', 109, 108, 217, 50, 49, 1)]"
      ]
     },
     "execution_count": 5,
     "metadata": {},
     "output_type": "execute_result"
    }
   ],
   "source": [
    "%%sql\n",
    "WITH boys_names AS \n",
    "(\n",
    "     SELECT  name, SUM(freq) AS n_boys\n",
    "     FROM    name_freq \n",
    "     WHERE   year = 2000\n",
    "        AND  gender = 'M'\n",
    "     GROUP BY name\n",
    "),\n",
    "girls_names AS\n",
    "(\n",
    "     SELECT  name, SUM(freq) AS n_girls\n",
    "     FROM    name_freq \n",
    "     WHERE   year = 2000\n",
    "        AND  gender = 'F'\n",
    "     GROUP BY name\n",
    ")\n",
    "SELECT \n",
    "     boys_names.name, \n",
    "     boys_names.n_boys, \n",
    "     girls_names.n_girls,\n",
    "     n_boys + n_girls AS n_both,\n",
    "     (100 * n_boys) /(n_boys + n_girls) AS pct_boys,\n",
    "     (100 * n_girls)/(n_boys + n_girls) AS pct_girls,\n",
    "     ABS((100*n_boys)/(n_boys+n_girls) - \n",
    "        (100*n_girls)/(n_boys+n_girls)) AS pct_diff\n",
    "FROM \n",
    "     girls_names INNER JOIN boys_names\n",
    "                ON girls_names.name = boys_names.name\n",
    "\n",
    "WHERE \n",
    "     ABS((100*n_boys)/(n_boys+n_girls) - \n",
    "        (100*n_girls)/(n_boys+n_girls)) < 10\n",
    "ORDER BY \n",
    "      n_both DESC\n",
    "LIMIT 10;"
   ]
  },
  {
   "cell_type": "markdown",
   "metadata": {},
   "source": [
    "10. _Which state has the highest % of `John`'s in a 2000?_"
   ]
  },
  {
   "cell_type": "code",
   "execution_count": 6,
   "metadata": {},
   "outputs": [
    {
     "name": "stdout",
     "output_type": "stream",
     "text": [
      " * postgresql://localhost/names\n",
      "10 rows affected.\n"
     ]
    },
    {
     "data": {
      "text/html": [
       "<table>\n",
       "    <tr>\n",
       "        <th>state</th>\n",
       "        <th>n_johns</th>\n",
       "        <th>m_births</th>\n",
       "        <th>pct_johns</th>\n",
       "    </tr>\n",
       "    <tr>\n",
       "        <td>IN</td>\n",
       "        <td>359</td>\n",
       "        <td>39297</td>\n",
       "        <td>0</td>\n",
       "    </tr>\n",
       "    <tr>\n",
       "        <td>ME</td>\n",
       "        <td>53</td>\n",
       "        <td>5506</td>\n",
       "        <td>0</td>\n",
       "    </tr>\n",
       "    <tr>\n",
       "        <td>IA</td>\n",
       "        <td>129</td>\n",
       "        <td>16634</td>\n",
       "        <td>0</td>\n",
       "    </tr>\n",
       "    <tr>\n",
       "        <td>ID</td>\n",
       "        <td>54</td>\n",
       "        <td>7868</td>\n",
       "        <td>0</td>\n",
       "    </tr>\n",
       "    <tr>\n",
       "        <td>CO</td>\n",
       "        <td>281</td>\n",
       "        <td>28415</td>\n",
       "        <td>0</td>\n",
       "    </tr>\n",
       "    <tr>\n",
       "        <td>KS</td>\n",
       "        <td>150</td>\n",
       "        <td>16491</td>\n",
       "        <td>0</td>\n",
       "    </tr>\n",
       "    <tr>\n",
       "        <td>AZ</td>\n",
       "        <td>229</td>\n",
       "        <td>37892</td>\n",
       "        <td>0</td>\n",
       "    </tr>\n",
       "    <tr>\n",
       "        <td>HI</td>\n",
       "        <td>41</td>\n",
       "        <td>5185</td>\n",
       "        <td>0</td>\n",
       "    </tr>\n",
       "    <tr>\n",
       "        <td>CA</td>\n",
       "        <td>1659</td>\n",
       "        <td>247756</td>\n",
       "        <td>0</td>\n",
       "    </tr>\n",
       "    <tr>\n",
       "        <td>MI</td>\n",
       "        <td>535</td>\n",
       "        <td>59234</td>\n",
       "        <td>0</td>\n",
       "    </tr>\n",
       "</table>"
      ],
      "text/plain": [
       "[('IN', 359, 39297, 0),\n",
       " ('ME', 53, 5506, 0),\n",
       " ('IA', 129, 16634, 0),\n",
       " ('ID', 54, 7868, 0),\n",
       " ('CO', 281, 28415, 0),\n",
       " ('KS', 150, 16491, 0),\n",
       " ('AZ', 229, 37892, 0),\n",
       " ('HI', 41, 5185, 0),\n",
       " ('CA', 1659, 247756, 0),\n",
       " ('MI', 535, 59234, 0)]"
      ]
     },
     "execution_count": 6,
     "metadata": {},
     "output_type": "execute_result"
    }
   ],
   "source": [
    "%%sql\n",
    "WITH johns AS (\n",
    "    SELECT  state, sum(freq) as n_johns\n",
    "    FROM    name_freq\n",
    "    WHERE   name = 'John'\n",
    "       AND  year = 2000\n",
    "    GROUP BY  \n",
    "        state\n",
    "), \n",
    "male_births AS ( \n",
    "    SELECT state, sum(freq) as m_births\n",
    "    FROM   name_freq\n",
    "    WHERE  year = 2000\n",
    "       AND gender = 'M'\n",
    "    GROUP BY \n",
    "          state\n",
    ")\n",
    "SELECT \n",
    "      johns.state, \n",
    "      n_johns, \n",
    "      m_births,\n",
    "      (100 * n_johns / m_births) as pct_johns\n",
    "FROM \n",
    "      johns INNER JOIN male_births \n",
    "            ON johns.state = male_births.state\n",
    "ORDER BY \n",
    "      (100 * n_johns / m_births) ASC\n",
    "LIMIT 10;"
   ]
  },
  {
   "cell_type": "markdown",
   "metadata": {},
   "source": [
    "## Advanced - window functions\n",
    "\n",
    "1. _What is the most popular girl's name in the South by year?_\n",
    "This can be done with either a window function, or using a variation on the following trick:\n",
    "```sql\n",
    "select type, variety, price\n",
    "from fruits\n",
    "where (\n",
    "   select count(*) from fruits as f\n",
    "   where f.type = fruits.type and f.price <= fruits.price\n",
    ") <= 2;\n",
    "```"
   ]
  },
  {
   "cell_type": "code",
   "execution_count": 79,
   "metadata": {},
   "outputs": [
    {
     "name": "stdout",
     "output_type": "stream",
     "text": [
      " * postgresql://localhost/names\n",
      "10 rows affected.\n"
     ]
    },
    {
     "data": {
      "text/html": [
       "<table>\n",
       "    <tr>\n",
       "        <th>year</th>\n",
       "        <th>name</th>\n",
       "        <th>n_girls</th>\n",
       "    </tr>\n",
       "    <tr>\n",
       "        <td>2016</td>\n",
       "        <td>Emma</td>\n",
       "        <td>7278</td>\n",
       "    </tr>\n",
       "    <tr>\n",
       "        <td>2015</td>\n",
       "        <td>Emma</td>\n",
       "        <td>7710</td>\n",
       "    </tr>\n",
       "    <tr>\n",
       "        <td>2014</td>\n",
       "        <td>Emma</td>\n",
       "        <td>7830</td>\n",
       "    </tr>\n",
       "    <tr>\n",
       "        <td>2013</td>\n",
       "        <td>Emma</td>\n",
       "        <td>7879</td>\n",
       "    </tr>\n",
       "    <tr>\n",
       "        <td>2012</td>\n",
       "        <td>Emma</td>\n",
       "        <td>7760</td>\n",
       "    </tr>\n",
       "    <tr>\n",
       "        <td>2011</td>\n",
       "        <td>Isabella</td>\n",
       "        <td>7490</td>\n",
       "    </tr>\n",
       "    <tr>\n",
       "        <td>2010</td>\n",
       "        <td>Isabella</td>\n",
       "        <td>8397</td>\n",
       "    </tr>\n",
       "    <tr>\n",
       "        <td>2009</td>\n",
       "        <td>Isabella</td>\n",
       "        <td>7954</td>\n",
       "    </tr>\n",
       "    <tr>\n",
       "        <td>2008</td>\n",
       "        <td>Madison</td>\n",
       "        <td>7201</td>\n",
       "    </tr>\n",
       "    <tr>\n",
       "        <td>2007</td>\n",
       "        <td>Madison</td>\n",
       "        <td>7693</td>\n",
       "    </tr>\n",
       "</table>"
      ],
      "text/plain": [
       "[(2016, 'Emma', 7278),\n",
       " (2015, 'Emma', 7710),\n",
       " (2014, 'Emma', 7830),\n",
       " (2013, 'Emma', 7879),\n",
       " (2012, 'Emma', 7760),\n",
       " (2011, 'Isabella', 7490),\n",
       " (2010, 'Isabella', 8397),\n",
       " (2009, 'Isabella', 7954),\n",
       " (2008, 'Madison', 7201),\n",
       " (2007, 'Madison', 7693)]"
      ]
     },
     "execution_count": 79,
     "metadata": {},
     "output_type": "execute_result"
    }
   ],
   "source": [
    "%%sql\n",
    "WITH girls_names_by_year AS (\n",
    "   SELECT \n",
    "        year, name, SUM(freq) AS n_girls\n",
    "   FROM \n",
    "        name_freq_region\n",
    "   WHERE \n",
    "         region = 'South' AND  gender = 'F'\n",
    "   GROUP BY \n",
    "        year, name\n",
    ")\n",
    "SELECT year, name, n_girls\n",
    "FROM (SELECT year, name, n_girls,\n",
    "      rank() OVER (PARTITION BY year\n",
    "                  ORDER BY n_girls DESC ) AS pos\n",
    "      FROM girls_names_by_year\n",
    "     ) AS ranked_names\n",
    "WHERE pos < 2\n",
    "ORDER BY year DESC\n",
    "LIMIT 10;"
   ]
  },
  {
   "cell_type": "code",
   "execution_count": 4,
   "metadata": {},
   "outputs": [
    {
     "name": "stdout",
     "output_type": "stream",
     "text": [
      " * postgresql://localhost/names\n",
      "10 rows affected.\n"
     ]
    },
    {
     "data": {
      "text/html": [
       "<table>\n",
       "    <tr>\n",
       "        <th>year</th>\n",
       "        <th>name</th>\n",
       "        <th>n_girls</th>\n",
       "    </tr>\n",
       "    <tr>\n",
       "        <td>2016</td>\n",
       "        <td>Emma</td>\n",
       "        <td>7278</td>\n",
       "    </tr>\n",
       "    <tr>\n",
       "        <td>2015</td>\n",
       "        <td>Emma</td>\n",
       "        <td>7710</td>\n",
       "    </tr>\n",
       "    <tr>\n",
       "        <td>2014</td>\n",
       "        <td>Emma</td>\n",
       "        <td>7830</td>\n",
       "    </tr>\n",
       "    <tr>\n",
       "        <td>2013</td>\n",
       "        <td>Emma</td>\n",
       "        <td>7879</td>\n",
       "    </tr>\n",
       "    <tr>\n",
       "        <td>2012</td>\n",
       "        <td>Emma</td>\n",
       "        <td>7760</td>\n",
       "    </tr>\n",
       "    <tr>\n",
       "        <td>2011</td>\n",
       "        <td>Isabella</td>\n",
       "        <td>7490</td>\n",
       "    </tr>\n",
       "    <tr>\n",
       "        <td>2010</td>\n",
       "        <td>Isabella</td>\n",
       "        <td>8397</td>\n",
       "    </tr>\n",
       "    <tr>\n",
       "        <td>2009</td>\n",
       "        <td>Isabella</td>\n",
       "        <td>7954</td>\n",
       "    </tr>\n",
       "    <tr>\n",
       "        <td>2008</td>\n",
       "        <td>Madison</td>\n",
       "        <td>7201</td>\n",
       "    </tr>\n",
       "    <tr>\n",
       "        <td>2007</td>\n",
       "        <td>Madison</td>\n",
       "        <td>7693</td>\n",
       "    </tr>\n",
       "</table>"
      ],
      "text/plain": [
       "[(2016, 'Emma', 7278),\n",
       " (2015, 'Emma', 7710),\n",
       " (2014, 'Emma', 7830),\n",
       " (2013, 'Emma', 7879),\n",
       " (2012, 'Emma', 7760),\n",
       " (2011, 'Isabella', 7490),\n",
       " (2010, 'Isabella', 8397),\n",
       " (2009, 'Isabella', 7954),\n",
       " (2008, 'Madison', 7201),\n",
       " (2007, 'Madison', 7693)]"
      ]
     },
     "execution_count": 4,
     "metadata": {},
     "output_type": "execute_result"
    }
   ],
   "source": [
    "%%sql\n",
    "WITH girl_count AS  (\n",
    "    SELECT \n",
    "        year, name, SUM(freq) OVER (PARTITION BY year, name) AS n_girls\n",
    "    FROM \n",
    "        name_freq_region\n",
    "    WHERE \n",
    "        region = 'South' AND  gender = 'F'\n",
    ") \n",
    "SELECT DISTINCT(year), name, n_girls\n",
    "FROM (\n",
    "   SELECT \n",
    "       year, name, n_girls, MAX(n_girls) OVER (PARTITION BY year) AS max_value\n",
    "   FROM \n",
    "       girl_count\n",
    ") AS ss\n",
    "WHERE \n",
    "    n_girls = max_value\n",
    "ORDER BY \n",
    "    year DESC\n",
    "LIMIT 10;"
   ]
  },
  {
   "cell_type": "markdown",
   "metadata": {},
   "source": [
    "2. For each region, what is the most popular name for boys in 2010?"
   ]
  },
  {
   "cell_type": "code",
   "execution_count": 12,
   "metadata": {},
   "outputs": [
    {
     "name": "stdout",
     "output_type": "stream",
     "text": [
      " * postgresql://localhost/names\n",
      "7 rows affected.\n"
     ]
    },
    {
     "data": {
      "text/html": [
       "<table>\n",
       "    <tr>\n",
       "        <th>region</th>\n",
       "        <th>name</th>\n",
       "        <th>n_boys</th>\n",
       "    </tr>\n",
       "    <tr>\n",
       "        <td>Midwest</td>\n",
       "        <td>Jacob</td>\n",
       "        <td>3845</td>\n",
       "    </tr>\n",
       "    <tr>\n",
       "        <td>Pacific</td>\n",
       "        <td>Jacob</td>\n",
       "        <td>4123</td>\n",
       "    </tr>\n",
       "    <tr>\n",
       "        <td>Mountain</td>\n",
       "        <td>Jacob</td>\n",
       "        <td>1619</td>\n",
       "    </tr>\n",
       "    <tr>\n",
       "        <td>Mid_Atlantic</td>\n",
       "        <td>Michael</td>\n",
       "        <td>3099</td>\n",
       "    </tr>\n",
       "    <tr>\n",
       "        <td>South</td>\n",
       "        <td>Jacob</td>\n",
       "        <td>8185</td>\n",
       "    </tr>\n",
       "    <tr>\n",
       "        <td>New_England</td>\n",
       "        <td>Jacob</td>\n",
       "        <td>840</td>\n",
       "    </tr>\n",
       "    <tr>\n",
       "        <td>None</td>\n",
       "        <td>None</td>\n",
       "        <td>None</td>\n",
       "    </tr>\n",
       "</table>"
      ],
      "text/plain": [
       "[('Midwest', 'Jacob', 3845),\n",
       " ('Pacific', 'Jacob', 4123),\n",
       " ('Mountain', 'Jacob', 1619),\n",
       " ('Mid_Atlantic', 'Michael', 3099),\n",
       " ('South', 'Jacob', 8185),\n",
       " ('New_England', 'Jacob', 840),\n",
       " (None, None, None)]"
      ]
     },
     "execution_count": 12,
     "metadata": {},
     "output_type": "execute_result"
    }
   ],
   "source": [
    "%%sql\n",
    "WITH region_boys AS (\n",
    "    SELECT \n",
    "         region, name, SUM(freq) AS n_boys\n",
    "    FROM \n",
    "        name_freq_region\n",
    "    WHERE \n",
    "        year = 2010\n",
    "       AND \n",
    "        gender = 'M'\n",
    "    GROUP BY \n",
    "        region, name\n",
    "),\n",
    "region_max AS (\n",
    "    SELECT \n",
    "        region, MAX(n_boys) AS max_boys\n",
    "    FROM \n",
    "        region_boys\n",
    "    GROUP BY \n",
    "        region\n",
    ")\n",
    "SELECT region_boys.region, region_boys.name, region_boys.n_boys\n",
    "FROM \n",
    "    region_max LEFT JOIN region_boys\n",
    "               ON region_max.max_boys = region_boys.n_boys\n",
    "              AND region_max.region = region_boys.region\n",
    "LIMIT 10; \n",
    "       "
   ]
  },
  {
   "cell_type": "code",
   "execution_count": 5,
   "metadata": {},
   "outputs": [
    {
     "name": "stdout",
     "output_type": "stream",
     "text": [
      " * postgresql://localhost/names\n",
      "7 rows affected.\n"
     ]
    },
    {
     "data": {
      "text/html": [
       "<table>\n",
       "    <tr>\n",
       "        <th>region</th>\n",
       "        <th>name</th>\n",
       "        <th>n_boys</th>\n",
       "    </tr>\n",
       "    <tr>\n",
       "        <td>Mid_Atlantic</td>\n",
       "        <td>Michael</td>\n",
       "        <td>3099</td>\n",
       "    </tr>\n",
       "    <tr>\n",
       "        <td>Midwest</td>\n",
       "        <td>Jacob</td>\n",
       "        <td>3773</td>\n",
       "    </tr>\n",
       "    <tr>\n",
       "        <td>Mountain</td>\n",
       "        <td>Jacob</td>\n",
       "        <td>1619</td>\n",
       "    </tr>\n",
       "    <tr>\n",
       "        <td>New_England</td>\n",
       "        <td>Jacob</td>\n",
       "        <td>912</td>\n",
       "    </tr>\n",
       "    <tr>\n",
       "        <td>Pacific</td>\n",
       "        <td>Jacob</td>\n",
       "        <td>4123</td>\n",
       "    </tr>\n",
       "    <tr>\n",
       "        <td>South</td>\n",
       "        <td>Jacob</td>\n",
       "        <td>8185</td>\n",
       "    </tr>\n",
       "    <tr>\n",
       "        <td>None</td>\n",
       "        <td>Jacob</td>\n",
       "        <td>677</td>\n",
       "    </tr>\n",
       "</table>"
      ],
      "text/plain": [
       "[('Mid_Atlantic', 'Michael', 3099),\n",
       " ('Midwest', 'Jacob', 3773),\n",
       " ('Mountain', 'Jacob', 1619),\n",
       " ('New_England', 'Jacob', 912),\n",
       " ('Pacific', 'Jacob', 4123),\n",
       " ('South', 'Jacob', 8185),\n",
       " (None, 'Jacob', 677)]"
      ]
     },
     "execution_count": 5,
     "metadata": {},
     "output_type": "execute_result"
    }
   ],
   "source": [
    "%%sql\n",
    "WITH sums_by_name AS (\n",
    "SELECT region, name, SUM(freq) AS n_boys\n",
    "     FROM name_freq_region\n",
    "     WHERE year = 2010 AND gender = 'M'\n",
    "     GROUP BY region, name\n",
    ")\n",
    "SELECT region, name, n_boys\n",
    "FROM ( \n",
    "    SELECT region, name, n_boys, MAX(n_boys) OVER (PARTITION BY region) AS max_boys\n",
    "    FROM sums_by_name\n",
    ") AS max_names\n",
    "WHERE n_boys = max_boys\n",
    "LIMIT 10\n",
    ";"
   ]
  },
  {
   "cell_type": "code",
   "execution_count": null,
   "metadata": {},
   "outputs": [],
   "source": []
  }
 ],
 "metadata": {
  "kernelspec": {
   "display_name": "Python 3",
   "language": "python",
   "name": "python3"
  },
  "language_info": {
   "codemirror_mode": {
    "name": "ipython",
    "version": 3
   },
   "file_extension": ".py",
   "mimetype": "text/x-python",
   "name": "python",
   "nbconvert_exporter": "python",
   "pygments_lexer": "ipython3",
   "version": "3.6.8"
  }
 },
 "nbformat": 4,
 "nbformat_minor": 2
}
